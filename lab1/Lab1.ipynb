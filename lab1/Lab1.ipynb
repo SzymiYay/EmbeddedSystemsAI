{
  "cells": [
    {
      "cell_type": "markdown",
      "metadata": {
        "id": "1DR8sOyGVouN"
      },
      "source": [
        "# Introduction to PyTorch\n",
        "\n",
        "This tutorial shows the basics of PyTorch library.\n",
        "\n",
        "We design simple Neural Networks for classification task on MNIST dataset.\n",
        "\n",
        "You're probably going to need PyTorch documentation:\n",
        "\n",
        "https://pytorch.org/docs/stable/index.html\n",
        "\n",
        "and tutorials:\n",
        "\n",
        "https://pytorch.org/tutorials/beginner/basics/quickstart_tutorial.html"
      ]
    },
    {
      "cell_type": "code",
      "execution_count": null,
      "metadata": {
        "id": "E5QMPFndVouV"
      },
      "outputs": [],
      "source": [
        "!mkdir data"
      ]
    },
    {
      "cell_type": "markdown",
      "metadata": {
        "id": "h-ki0qvmVouY"
      },
      "source": [
        "1. PyTorch is based on tensor operations. First, let's try to use them:\n",
        "- create simple python list with four values and convert it to PyTorch tensor\n",
        "- create numpy array with random values and shape (1,3,7,7) and convert it to Pytorch tensor\n",
        "- create PyTorch tensor with random values and shape (1,3,7,7) with preset seed\n",
        "- create PyTorch tensor with linear space in range from -5 to 15 and reshape it to tensor with shape (1,3,7,7)\n",
        "- create PyTorch tensor of zeros with shape (1,3,7,7)\n",
        "\n",
        "For display use `print` function."
      ]
    },
    {
      "cell_type": "code",
      "execution_count": 17,
      "metadata": {
        "id": "EfXwC4GtVouZ"
      },
      "outputs": [
        {
          "name": "stdout",
          "output_type": "stream",
          "text": [
            "Tensor from list: tensor([1, 2, 3, 4])\n",
            "Tensor from numpy arr: tensor([[[[0.1979, 0.2089, 0.8812, 0.3688, 0.5101, 0.0525, 0.4303],\n",
            "          [0.9911, 0.0207, 0.5338, 0.7258, 0.9917, 0.8546, 0.1344],\n",
            "          [0.4611, 0.9622, 0.4394, 0.2708, 0.8185, 0.9220, 0.1635],\n",
            "          [0.6040, 0.1079, 0.8381, 0.2752, 0.3549, 0.1486, 0.9634],\n",
            "          [0.0252, 0.1644, 0.1698, 0.5441, 0.2444, 0.1428, 0.9955],\n",
            "          [0.5414, 0.9531, 0.8055, 0.7594, 0.8380, 0.9566, 0.1384],\n",
            "          [0.4404, 0.6970, 0.7797, 0.6291, 0.5225, 0.2466, 0.7973]],\n",
            "\n",
            "         [[0.1731, 0.0968, 0.3959, 0.6689, 0.0241, 0.9399, 0.8844],\n",
            "          [0.4737, 0.0414, 0.4566, 0.8066, 0.3761, 0.5983, 0.3666],\n",
            "          [0.5807, 0.8480, 0.1096, 0.3851, 0.8597, 0.7061, 0.1032],\n",
            "          [0.8467, 0.8615, 0.8638, 0.6549, 0.5167, 0.6238, 0.3705],\n",
            "          [0.5182, 0.1182, 0.4048, 0.0111, 0.2754, 0.1509, 0.0785],\n",
            "          [0.5646, 0.5618, 0.0799, 0.8472, 0.8155, 0.0692, 0.0155],\n",
            "          [0.1041, 0.2831, 0.9905, 0.5570, 0.4696, 0.5949, 0.6720]],\n",
            "\n",
            "         [[0.2689, 0.1559, 0.3610, 0.9099, 0.0967, 0.6367, 0.9011],\n",
            "          [0.8516, 0.7169, 0.7008, 0.7046, 0.2938, 0.7228, 0.4940],\n",
            "          [0.0229, 0.3864, 0.5015, 0.7872, 0.9237, 0.8596, 0.1773],\n",
            "          [0.4732, 0.1491, 0.9773, 0.0663, 0.6229, 0.2485, 0.6849],\n",
            "          [0.9634, 0.5058, 0.4425, 0.5908, 0.0383, 0.6257, 0.2074],\n",
            "          [0.2559, 0.3446, 0.8127, 0.1353, 0.5073, 0.6480, 0.5414],\n",
            "          [0.4851, 0.0487, 0.6537, 0.9839, 0.3720, 0.2927, 0.2682]]]],\n",
            "       dtype=torch.float64)\n",
            "Random tensor with preset seed: tensor([[[[0.4963, 0.7682, 0.0885, 0.1320, 0.3074, 0.6341, 0.4901],\n",
            "          [0.8964, 0.4556, 0.6323, 0.3489, 0.4017, 0.0223, 0.1689],\n",
            "          [0.2939, 0.5185, 0.6977, 0.8000, 0.1610, 0.2823, 0.6816],\n",
            "          [0.9152, 0.3971, 0.8742, 0.4194, 0.5529, 0.9527, 0.0362],\n",
            "          [0.1852, 0.3734, 0.3051, 0.9320, 0.1759, 0.2698, 0.1507],\n",
            "          [0.0317, 0.2081, 0.9298, 0.7231, 0.7423, 0.5263, 0.2437],\n",
            "          [0.5846, 0.0332, 0.1387, 0.2422, 0.8155, 0.7932, 0.2783]],\n",
            "\n",
            "         [[0.4820, 0.8198, 0.9971, 0.6984, 0.5675, 0.8352, 0.2056],\n",
            "          [0.5932, 0.1123, 0.1535, 0.2417, 0.7262, 0.7011, 0.2038],\n",
            "          [0.6511, 0.7745, 0.4369, 0.5191, 0.6159, 0.8102, 0.9801],\n",
            "          [0.1147, 0.3168, 0.6965, 0.9143, 0.9351, 0.9412, 0.5995],\n",
            "          [0.0652, 0.5460, 0.1872, 0.0340, 0.9442, 0.8802, 0.0012],\n",
            "          [0.5936, 0.4158, 0.4177, 0.2711, 0.6923, 0.2038, 0.6833],\n",
            "          [0.7529, 0.8579, 0.6870, 0.0051, 0.1757, 0.7497, 0.6047]],\n",
            "\n",
            "         [[0.1100, 0.2121, 0.9704, 0.8369, 0.2820, 0.3742, 0.0237],\n",
            "          [0.4910, 0.1235, 0.1143, 0.4725, 0.5751, 0.2952, 0.7967],\n",
            "          [0.1957, 0.9537, 0.8426, 0.0784, 0.3756, 0.5226, 0.5730],\n",
            "          [0.6186, 0.6962, 0.5300, 0.2560, 0.7366, 0.0204, 0.2036],\n",
            "          [0.3748, 0.2564, 0.3251, 0.0902, 0.3936, 0.6069, 0.1743],\n",
            "          [0.4743, 0.8579, 0.4486, 0.5139, 0.4569, 0.6012, 0.8179],\n",
            "          [0.9736, 0.8175, 0.9747, 0.4638, 0.0508, 0.2630, 0.8405]]]])\n",
            "tensor([[[[-5.0000, -4.8630, -4.7260, -4.5890, -4.4521, -4.3151, -4.1781],\n",
            "          [-4.0411, -3.9041, -3.7671, -3.6301, -3.4932, -3.3562, -3.2192],\n",
            "          [-3.0822, -2.9452, -2.8082, -2.6712, -2.5342, -2.3973, -2.2603],\n",
            "          [-2.1233, -1.9863, -1.8493, -1.7123, -1.5753, -1.4384, -1.3014],\n",
            "          [-1.1644, -1.0274, -0.8904, -0.7534, -0.6164, -0.4795, -0.3425],\n",
            "          [-0.2055, -0.0685,  0.0685,  0.2055,  0.3425,  0.4795,  0.6164],\n",
            "          [ 0.7534,  0.8904,  1.0274,  1.1644,  1.3014,  1.4384,  1.5753]],\n",
            "\n",
            "         [[ 1.7123,  1.8493,  1.9863,  2.1233,  2.2603,  2.3973,  2.5342],\n",
            "          [ 2.6712,  2.8082,  2.9452,  3.0822,  3.2192,  3.3562,  3.4932],\n",
            "          [ 3.6301,  3.7671,  3.9041,  4.0411,  4.1781,  4.3151,  4.4521],\n",
            "          [ 4.5890,  4.7260,  4.8630,  5.0000,  5.1370,  5.2740,  5.4110],\n",
            "          [ 5.5479,  5.6849,  5.8219,  5.9589,  6.0959,  6.2329,  6.3699],\n",
            "          [ 6.5068,  6.6438,  6.7808,  6.9178,  7.0548,  7.1918,  7.3288],\n",
            "          [ 7.4658,  7.6027,  7.7397,  7.8767,  8.0137,  8.1507,  8.2877]],\n",
            "\n",
            "         [[ 8.4247,  8.5616,  8.6986,  8.8356,  8.9726,  9.1096,  9.2466],\n",
            "          [ 9.3836,  9.5205,  9.6575,  9.7945,  9.9315, 10.0685, 10.2055],\n",
            "          [10.3425, 10.4795, 10.6164, 10.7534, 10.8904, 11.0274, 11.1644],\n",
            "          [11.3014, 11.4384, 11.5753, 11.7123, 11.8493, 11.9863, 12.1233],\n",
            "          [12.2603, 12.3973, 12.5342, 12.6712, 12.8082, 12.9452, 13.0822],\n",
            "          [13.2192, 13.3562, 13.4932, 13.6301, 13.7671, 13.9041, 14.0411],\n",
            "          [14.1781, 14.3151, 14.4521, 14.5890, 14.7260, 14.8630, 15.0000]]]])\n",
            "Zeros tensor: tensor([[[[0., 0., 0., 0., 0., 0., 0.],\n",
            "          [0., 0., 0., 0., 0., 0., 0.],\n",
            "          [0., 0., 0., 0., 0., 0., 0.],\n",
            "          [0., 0., 0., 0., 0., 0., 0.],\n",
            "          [0., 0., 0., 0., 0., 0., 0.],\n",
            "          [0., 0., 0., 0., 0., 0., 0.],\n",
            "          [0., 0., 0., 0., 0., 0., 0.]],\n",
            "\n",
            "         [[0., 0., 0., 0., 0., 0., 0.],\n",
            "          [0., 0., 0., 0., 0., 0., 0.],\n",
            "          [0., 0., 0., 0., 0., 0., 0.],\n",
            "          [0., 0., 0., 0., 0., 0., 0.],\n",
            "          [0., 0., 0., 0., 0., 0., 0.],\n",
            "          [0., 0., 0., 0., 0., 0., 0.],\n",
            "          [0., 0., 0., 0., 0., 0., 0.]],\n",
            "\n",
            "         [[0., 0., 0., 0., 0., 0., 0.],\n",
            "          [0., 0., 0., 0., 0., 0., 0.],\n",
            "          [0., 0., 0., 0., 0., 0., 0.],\n",
            "          [0., 0., 0., 0., 0., 0., 0.],\n",
            "          [0., 0., 0., 0., 0., 0., 0.],\n",
            "          [0., 0., 0., 0., 0., 0., 0.],\n",
            "          [0., 0., 0., 0., 0., 0., 0.]]]])\n"
          ]
        }
      ],
      "source": [
        "import torch\n",
        "import numpy as np\n",
        "from typing import Tuple\n",
        "import tqdm\n",
        "from tabulate import tabulate\n",
        "python_list = [1, 2, 3, 4]\n",
        "tensor_from_list = torch.tensor(python_list)\n",
        "print(f\"Tensor from list: {tensor_from_list}\")\n",
        "\n",
        "numpy_arr = np.random.rand(1, 3, 7, 7)\n",
        "tensor_from_numpy = torch.tensor(numpy_arr)\n",
        "print(f\"Tensor from numpy arr: {tensor_from_numpy}\")\n",
        "\n",
        "# dzięki temu przy kazdym uruchomieniu otrzymujemy te same losowe wartości\n",
        "random_tensor = torch.rand(1, 3, 7, 7)\n",
        "torch.manual_seed(0) \n",
        "print(f\"Random tensor with preset seed: {random_tensor}\")\n",
        "\n",
        "\n",
        "# linspace tworzy nam liniowe rozłoenie danych (czyli chyba ciąg? taka sama roznica miedzy kazdymi liczbami)\n",
        "linear_tensor = torch.linspace(-5, 15, steps=1*3*7*7).reshape(1, 3, 7, 7)\n",
        "print(linear_tensor)\n",
        "\n",
        "zeros_tensor = torch.zeros(1, 3, 7, 7)\n",
        "print(f\"Zeros tensor: {zeros_tensor}\")"
      ]
    },
    {
      "cell_type": "markdown",
      "metadata": {
        "id": "oY1ommaFVoua"
      },
      "source": [
        "2. PyTorch allows applying GPU for computations.\n",
        "Check if gpu (CUDA) is available and then use it as `device`, else use `'cpu'`. Then, move one of your tensors to selected device."
      ]
    },
    {
      "cell_type": "code",
      "execution_count": 2,
      "metadata": {
        "id": "CW8eqehrVoub"
      },
      "outputs": [
        {
          "name": "stdout",
          "output_type": "stream",
          "text": [
            "Using device: cpu\n",
            "Tensor on cpu: tensor([[[[7.0080e-01, 8.6437e-01, 7.5487e-01, 7.1401e-01, 4.8101e-01,\n",
            "           4.3614e-01, 6.4462e-01],\n",
            "          [9.5264e-01, 1.2725e-01, 2.3432e-01, 7.9959e-01, 5.4008e-01,\n",
            "           8.4314e-02, 2.6639e-01],\n",
            "          [7.7565e-02, 1.8192e-01, 6.4973e-01, 5.9840e-01, 5.7920e-01,\n",
            "           5.0073e-02, 3.5495e-01],\n",
            "          [4.1902e-05, 5.5996e-01, 9.1004e-01, 2.8843e-01, 2.7448e-01,\n",
            "           1.8270e-01, 5.3634e-01],\n",
            "          [2.0827e-01, 9.1346e-01, 3.7689e-01, 7.4214e-01, 3.2981e-01,\n",
            "           2.3370e-01, 7.7565e-01],\n",
            "          [7.7355e-01, 9.7310e-01, 6.6742e-01, 5.7325e-01, 6.4083e-01,\n",
            "           7.8802e-01, 2.8502e-01],\n",
            "          [4.1989e-01, 8.2637e-01, 3.2067e-01, 1.5849e-01, 6.3668e-01,\n",
            "           8.8936e-01, 7.9497e-01]],\n",
            "\n",
            "         [[6.8548e-01, 7.9268e-01, 5.1928e-01, 7.5358e-01, 9.9550e-01,\n",
            "           8.8905e-01, 4.2463e-01],\n",
            "          [1.7213e-01, 8.9372e-01, 1.1398e-01, 1.0622e-01, 8.0143e-01,\n",
            "           8.8916e-01, 9.6725e-02],\n",
            "          [4.1713e-01, 4.8904e-01, 1.7239e-02, 2.6127e-01, 7.6730e-01,\n",
            "           4.9176e-01, 3.8155e-01],\n",
            "          [2.3672e-02, 2.2816e-01, 2.9710e-01, 7.7397e-01, 2.7208e-01,\n",
            "           8.5644e-01, 5.5000e-01],\n",
            "          [3.6513e-01, 3.6393e-01, 1.2503e-01, 9.5675e-01, 1.7554e-01,\n",
            "           6.4664e-01, 5.2367e-01],\n",
            "          [4.8684e-01, 5.2972e-01, 5.4134e-01, 4.2196e-01, 7.8296e-01,\n",
            "           2.1832e-01, 8.7881e-01],\n",
            "          [2.8872e-01, 1.6445e-01, 4.0563e-01, 4.6850e-01, 2.4356e-01,\n",
            "           4.7162e-01, 4.3645e-01]],\n",
            "\n",
            "         [[9.6860e-01, 3.9752e-01, 2.4091e-01, 3.7410e-01, 2.2564e-01,\n",
            "           5.2210e-01, 8.2195e-01],\n",
            "          [8.2360e-01, 6.2337e-01, 1.4158e-01, 3.2934e-01, 1.1538e-01,\n",
            "           1.1906e-01, 7.0142e-01],\n",
            "          [3.6576e-01, 4.5279e-01, 9.2385e-02, 5.0944e-01, 5.9279e-01,\n",
            "           9.1178e-01, 9.3597e-01],\n",
            "          [2.7988e-01, 2.5921e-02, 7.8537e-01, 9.3055e-01, 8.2178e-01,\n",
            "           9.0187e-01, 3.3890e-01],\n",
            "          [1.6154e-01, 2.4392e-01, 4.9567e-01, 6.8660e-01, 8.9719e-02,\n",
            "           6.1184e-01, 8.4940e-01],\n",
            "          [9.7104e-01, 8.9192e-01, 1.7125e-01, 4.7201e-02, 7.9129e-01,\n",
            "           3.6652e-01, 6.1345e-01],\n",
            "          [1.6851e-01, 6.0670e-02, 3.3917e-01, 6.6320e-01, 5.6449e-01,\n",
            "           2.7340e-01, 3.8840e-01]]]])\n"
          ]
        }
      ],
      "source": [
        "# gpu jest lepsze do wykonywania skomplikowanych obliczen dlatego chcielibysmy z tego skorzystac ale mam maca więc nie mogę\n",
        "device = torch.device('cuda' if torch.cuda.is_available() else 'cpu')\n",
        "print(f\"Using device: {device}\")\n",
        "\n",
        "# przenosimy nasz tensor na urządzenie które będzie korzystac z wczesniej zdefiniowanego gpu lub cpu\n",
        "random_tensor = random_tensor.to(device)\n",
        "print(f\"Tensor on {device}: {random_tensor}\")"
      ]
    },
    {
      "cell_type": "markdown",
      "metadata": {
        "id": "GB0dnOCgVouc"
      },
      "source": [
        "3. To train a network, we need a dataset.\n",
        "\n",
        "Please download `MNIST` dataset with `torchvision.dataset`.\n",
        "\n",
        "For any kind of ML task, validation or testing is required.\n",
        "\n",
        "So, create train and test datasets.\n",
        "\n",
        "For train dataset apply also augmentation transforms, crop, translation and rotation.\n",
        "\n",
        "For both apply ToTensor.\n",
        "\n",
        "Next, pack datasets into `DataLoader`s with batch size of 64.\n",
        "Use variables with names: `train_loader` and `test_loader`.\n",
        "\n",
        "Next display sizes of datasets, shapes of elements and display a few images and their labels.\n",
        "\n",
        "Finally, compare the number of objects in each class in both datasets."
      ]
    },
    {
      "cell_type": "code",
      "execution_count": 3,
      "metadata": {
        "id": "7_2cG06JVoud"
      },
      "outputs": [
        {
          "name": "stdout",
          "output_type": "stream",
          "text": [
            "Train dataset size: 60000\n",
            "Test dataset size: 10000\n"
          ]
        }
      ],
      "source": [
        "import torch\n",
        "from torch.utils.data import DataLoader\n",
        "from torchvision import datasets\n",
        "from torchvision.transforms import ToTensor, Compose, RandomCrop, RandomAffine\n",
        "import matplotlib.pyplot as plt\n",
        "\n",
        "# Compose łączy kilka transformacji w jedną sekwencję\n",
        "# RandomCrop przycina obraz do rozmiaru 28x28 pikseli z losowym paddingiem do 4 pikseli (po to aby pozniej przycinac)\n",
        "# RandomAffine losowa rotacja obrazu o maks 15 stopni i translacja czyli przesuniecie o maks 10% szerokosci i wysokosci obrazu\n",
        "# ToTensor konwertuje na tensor bo tak chce torch\n",
        "train_transform = Compose([\n",
        "    RandomCrop(28, padding=4),\n",
        "    RandomAffine(degrees=15, translate=(0.1, 0.1)),\n",
        "    ToTensor()\n",
        "])\n",
        "\n",
        "# Tu nie sotsujemy augmentacji zeby wyniki byly porównywalne\n",
        "test_transform = Compose([\n",
        "    ToTensor()\n",
        "])\n",
        "\n",
        "try:\n",
        "    train_dataset = datasets.MNIST(\n",
        "        root=\"./data\", train=True, download=True, transform=train_transform\n",
        "    )\n",
        "    test_dataset = datasets.MNIST(\n",
        "        root=\"./data\", train=False, download=True, transform=test_transform\n",
        "    )\n",
        "except Exception as e:\n",
        "    print(f\"Failed to download MNIST dataset: {e}\")\n",
        "\n",
        "# DataLoader klasa ułatwia iteracji po danych w partiach\n",
        "# batch_size liczba probek w jednej partii\n",
        "# shuffle losowe mieszanie danych w kazdej epoce \n",
        "train_loader = DataLoader(train_dataset, batch_size=64, shuffle=True)\n",
        "test_loader = DataLoader(test_dataset, batch_size=64, shuffle=False)\n",
        "\n",
        "print(f\"Train dataset size: {len(train_dataset)}\")\n",
        "print(f\"Test dataset size: {len(test_dataset)}\")"
      ]
    },
    {
      "cell_type": "code",
      "execution_count": 4,
      "metadata": {},
      "outputs": [
        {
          "name": "stdout",
          "output_type": "stream",
          "text": [
            "Batch shape: torch.Size([64, 1, 28, 28])\n",
            "Labels shape: torch.Size([64])\n"
          ]
        },
        {
          "data": {
            "image/png": "[encoded data removed]",
            "text/plain": [
              "<Figure size 1500x400 with 6 Axes>"
            ]
          },
          "metadata": {},
          "output_type": "display_data"
        },
        {
          "name": "stdout",
          "output_type": "stream",
          "text": [
            "Train class counts: tensor([5923, 6742, 5958, 6131, 5842, 5421, 5918, 6265, 5851, 5949])\n",
            "Test class counts: tensor([ 980, 1135, 1032, 1010,  982,  892,  958, 1028,  974, 1009])\n"
          ]
        }
      ],
      "source": [
        "dataiter = iter(train_loader)\n",
        "images, labels = next(dataiter)\n",
        "print(f\"Batch shape: {images.size()}\") # [64, 1, 28, 28] - 64 liczba obrazow - 1 liczba kanalow - 28x28 wymiary kazdego obrazu\n",
        "print(f\"Labels shape: {labels.size()}\") # 64 etykiety\n",
        "\n",
        "fig, axes = plt.subplots(1, 6, figsize=(15, 4))\n",
        "for i in range(6):\n",
        "    ax = axes[i]\n",
        "    ax.imshow(images[i].numpy().squeeze(), cmap=\"gray\")\n",
        "    ax.set_title(f\"Label: {labels[i].item()}\")\n",
        "    ax.axis(\"off\")\n",
        "plt.show()\n",
        "\n",
        "train_labels = [label for _, label in train_loader.dataset]\n",
        "test_labels = [label for _, label in test_loader.dataset]\n",
        "\n",
        "# zlicza liczbę wystapien kazdej klasy\n",
        "train_class_counts = torch.tensor(train_labels).bincount()\n",
        "test_class_counts = torch.tensor(test_labels).bincount()\n",
        "\n",
        "print(f\"Train class counts: {train_class_counts}\")\n",
        "print(f\"Test class counts: {test_class_counts}\")"
      ]
    },
    {
      "cell_type": "code",
      "execution_count": 20,
      "metadata": {},
      "outputs": [],
      "source": [
        "import matplotlib.pyplot as plt\n",
        "\n",
        "\n",
        "def draw_loss_test(epochs, history):\n",
        "    loss_train = history[\"loss_train\"]\n",
        "    loss_test = history[\"loss_test\"]\n",
        "    acc_train = history[\"acc_train\"]\n",
        "    acc_test = history[\"acc_test\"]\n",
        "\n",
        "    loss_train_shape = len(loss_train)\n",
        "    loss_test_shape = len(loss_test)\n",
        "    acc_train_shape = len(acc_train)\n",
        "    acc_test_shape = len(acc_test)\n",
        "\n",
        "    if (\n",
        "        loss_train_shape != loss_test_shape\n",
        "        or acc_train_shape != acc_test_shape\n",
        "    ):\n",
        "        raise ValueError(\n",
        "            f\"Different number of epochs for train and test loss: {loss_train_shape} != {loss_test_shape} or train and test accuracy: {acc_train_shape} != {acc_test_shape}\"\n",
        "        )\n",
        "\n",
        "    plt.figure(figsize=(12, 5))\n",
        "    plt.subplot(1, 2, 1)\n",
        "    plt.plot(epochs, history[\"loss_train\"], label=\"Train loss\")\n",
        "    plt.plot(epochs, history[\"loss_test\"], label=\"Test loss\")\n",
        "    plt.xlabel(\"Epoch\")\n",
        "    plt.ylabel(\"Loss\")\n",
        "    plt.legend()\n",
        "\n",
        "    plt.subplot(1, 2, 2)\n",
        "    plt.plot(epochs, history[\"acc_train\"], label=\"Train accuracy\")\n",
        "    plt.plot(epochs, history[\"acc_test\"], label=\"Test accuracy\")\n",
        "    plt.xlabel(\"Epoch\")\n",
        "    plt.ylabel(\"Accuracy\")\n",
        "    plt.legend()\n",
        "\n",
        "    plt.show()"
      ]
    },
    {
      "cell_type": "markdown",
      "metadata": {
        "id": "Zy1hfJ2eVouh"
      },
      "source": [
        "5. We have our dataset ready, let's create model for classification task.\n",
        "\n",
        "Please define class `MLP` as Multi Layer Perceptron with two hidden fully connected layers with bias.\n",
        "\n",
        "Class must inherit from `torch.nn.Module`.\n",
        "\n",
        "Apply following configuration:\n",
        "\n",
        "- first layer with 512 neurons,\n",
        "- second layer with 512 neurons,\n",
        "- output layer adjusted to the size of classification problem.\n",
        "\n",
        "For `__init__` method add parameters: input_shape and output_size.\n",
        "\n",
        "Don't forget about nonlinearities!\n",
        "\n",
        "For hidden layers you can use `ReLU` module from `torch.nn`.\n",
        "\n",
        "For output apply softmax function.\n",
        "\n",
        "Define layer-by-layer network processing in `forward` method with argument as a network.\n",
        "\n",
        "Help: input tensor - batch of images with shape (batch_size, channels, height, width) - (channels = 1 for gray scale images).\n",
        "\n",
        "Instantiate model as `net` object.\n",
        "\n",
        "Layers:\n",
        "- `torch.nn.Sequential`\n",
        "    - layer allows for forward pass through\n",
        "        component layers:\n",
        "        ```\n",
        "        t_in: Tensor\n",
        "        t_out: Tensor = t_in\n",
        "        for L in layers:\n",
        "            t_out = L(t_out)\n",
        "        return t_out\n",
        "        \n",
        "- `torch.nn.Flatten`\n",
        "    - layer makes input tensor flattened:\n",
        "    - (bs, CH, H, W) -> (bs, CH * H * W)\n",
        "    \n",
        "- `torch.nn.Linear(ch_in, ch_out, bias)`\n",
        "    - 'classical' neural network layer - fully connected\n",
        "    - ch_in is a number of input channels\n",
        "    - ch_out is a number of output channels / number of neurons in layer\n",
        "    - bias - whether to use bias parameter\n",
        "    - for Linear layers it is recommended to use flatten layer before, when input has more than 2 dimensions\n",
        "    - operation implemented by this layer is a vector / matrix multiplication\n",
        "        - `y = W x v` or `y = W x v + b`\n",
        "        - W has a shape [ch_out, ch_in]\n",
        "        - v has a shape [ch_in]\n",
        "        - b has a shape [ch_in]\n",
        "        - y has a shape [ch_out]\n",
        "\n",
        "- `torch.nn.ReLU`\n",
        "    - layer applies ReLU function on input tensor\n",
        "    \n",
        "- `torch.nn.Softmax(dim)`\n",
        "    - layer applies softmax function on input tensor\n",
        "    - `dim` - dimension over which function is calculated\n",
        "\n",
        "\n",
        "For the formulas of activation function go to [torch documentation](https://pytorch.org/docs/stable/index.html)."
      ]
    },
    {
      "cell_type": "code",
      "execution_count": 6,
      "metadata": {
        "id": "BA0BxD7VVoui"
      },
      "outputs": [],
      "source": [
        "import torch.nn as nn\n",
        "\n",
        "\n",
        "# klasa definiująca wielowarstwowy perceptron\n",
        "class MLP(nn.Module):\n",
        "\n",
        "    def __init__(self, input_shape, output_size) -> None:\n",
        "        super(MLP, self).__init__()\n",
        "        # Sequential to kontener ktory pozwala na zdefiniowanie listy warstw \n",
        "        self.model = nn.Sequential(\n",
        "            # Flatten warstwa splaszczajaca tensor z (batch_size, channels, height, width) na (batch_size, channels * heigth * width)\n",
        "            # np. obrazki 28x28 maja (batch_size, 1, 28, 28) i splaszczy na (batch_size, 784) bo Linear chce danych w takim formacie\n",
        "            # 784 to liczba cech\n",
        "            nn.Flatten(),\n",
        "            # Linear y = Wx + b (W macierz wag, x dane wejsciowe, b wektor biasu)\n",
        "            # in_features - liczba wejsciowych cech, out_features - liczba wyjsciowych cech, bias - czy uzywac\n",
        "            nn.Linear(input_shape[0] * input_shape[1] * input_shape[2], 512, bias=True),\n",
        "            # ReLU f(x) = max(0, x)\n",
        "            # warstwa aktywacji - wprowadza nieliniowosc modelu (bez tego uczy sie tylko funckji liniowych)\n",
        "            # pozwala sieci na uczenie sie bardziej zlozonych funkcji\n",
        "            nn.ReLU(),\n",
        "            nn.Linear(512, 512, bias=True),\n",
        "            nn.ReLU(),\n",
        "            # ostatnia warstwa przeksztalca dane wyjsciowe na dane o rozmiarze rownym liczbie klas\n",
        "            nn.Linear(512, output_size, bias=True),\n",
        "            # Softmax softmax(x_i) = exp(x_i) / sum(exp(x_j))\n",
        "            # warstwa aktywacji - przeksztalca wyjscia w pradopodobienstwa ktore sumuja sie do 1\n",
        "            # dim=1 oznacza ze softmax jest stosowany wzdluz osi klas  (dla kazdego przykladu w partii)\n",
        "            # czesto nie uzywamy tego gdy korzystamy z CrossEntroyLoss bo ono ma w sobie juz LogSoftmax i NLLLoss\n",
        "            nn.Softmax(dim=1)\n",
        "        )\n",
        "\n",
        "    # dfiniuje przeplyw danych przez siec, x: tensor wejsciowy (batch_size, channels, height, width)\n",
        "    def forward(self, x: torch.Tensor) -> torch.Tensor:\n",
        "        return self.model(x)\n",
        "\n",
        "# obrazek w skali szarosci o rozmairze 28x28 pikseli\n",
        "input_shape = (1, 28, 28)\n",
        "# liczb klas do klasyfikacji np. 10 do liczb od 0 do 9\n",
        "output_size = 10\n",
        "\n",
        "net = MLP(input_shape, output_size)\n",
        "net = net.to(device)\n",
        "\n",
        "net2 = MLP(input_shape, output_size)\n",
        "net2 = net2.to(device)"
      ]
    },
    {
      "cell_type": "markdown",
      "metadata": {
        "id": "xX8LT108Vouj"
      },
      "source": [
        "6. To train network we need to know 'how good or bad' results it gives.\n",
        "Please, instantiate `torch.nn.CrossEntropyLoss` as `loss_fcn`."
      ]
    },
    {
      "cell_type": "code",
      "execution_count": 7,
      "metadata": {
        "id": "gJ35yqAKVouj"
      },
      "outputs": [],
      "source": [
        "# informuje jak dobrze model przewiduje prawdziwe klasy\n",
        "loss_fn = nn.CrossEntropyLoss()"
      ]
    },
    {
      "cell_type": "markdown",
      "metadata": {
        "id": "e89_zcP_Vouj"
      },
      "source": [
        "7. To score network define accuracy metric.\n",
        "For network output you need to decide what is the final network answer. For clasification we can assume, that the final answer is the class with highest probability (`argmax`).\n",
        "\n",
        "`torch.no_grad()` prevents gradient requirement for computations inside method."
      ]
    },
    {
      "cell_type": "code",
      "execution_count": 8,
      "metadata": {
        "id": "E8G76LxcVouk"
      },
      "outputs": [],
      "source": [
        "from abc import ABC, abstractmethod\n",
        "from typing import Any\n",
        "\n",
        "\n",
        "class BaseMetric(ABC):\n",
        "\n",
        "    @abstractmethod\n",
        "    def __call__(self, y_pred, y_ref) -> Any:\n",
        "        raise NotImplementedError()\n",
        "\n",
        "\n",
        "class AccuracyMetric(BaseMetric):\n",
        "\n",
        "    def __init__(self) -> None:\n",
        "        pass\n",
        "\n",
        "    @torch.no_grad()\n",
        "    def __call__(self, y_pred: torch.Tensor, y_ref: torch.Tensor) -> torch.Tensor:\n",
        "        \"\"\"\n",
        "        :param y_pred: tensor of shape (batch_size, num_of_classes) type float\n",
        "        :param y_ref: tensor with shape (batch_size,) and type Long\n",
        "        :return: scalar tensor with accuracy metric for batch\n",
        "        \"\"\"\n",
        "        predicted_classes = torch.argmax(y_pred, dim=1) # zwroci indeks ktory ma najwieksza wartosc\n",
        "        correct_predictions = (predicted_classes == y_ref).float() # porównanie z prawdziwymi etykietami\n",
        "        score: torch.Tensor = correct_predictions.mean() # srednia z poprawnych predykcji czyli dokładność\n",
        "\n",
        "        return score\n",
        "\n",
        "\n",
        "metric = AccuracyMetric()"
      ]
    },
    {
      "cell_type": "markdown",
      "metadata": {
        "id": "vzGWdKhNVouk"
      },
      "source": [
        "8. To change network parameters, we need an optimizer object.\n",
        "Instantiate `torch.optim.SGD` (with `net`work parameters) as `optimizer`.\n",
        "Use learning rate = 0.001."
      ]
    },
    {
      "cell_type": "code",
      "execution_count": 9,
      "metadata": {
        "id": "snItwusOVoul"
      },
      "outputs": [],
      "source": [
        "# Stochastic Gradient Descent algorytm do optymalizacji (minimzlizacji funkcji straty)\n",
        "# parameters to wagi i biasy, lr kork o jaki będą aktualizaowane parametry sieci w kazdej iteracji\n",
        "optimizer = torch.optim.SGD(net.parameters(), lr=0.01) \n",
        "optimizer2 = torch.optim.SGD(net2.parameters(), lr=0.01)"
      ]
    },
    {
      "cell_type": "markdown",
      "metadata": {
        "id": "pXL9hO0nVoul"
      },
      "source": [
        "9. Now define training / testing function:"
      ]
    },
    {
      "cell_type": "code",
      "execution_count": 24,
      "metadata": {
        "id": "7A8UntjSVoum"
      },
      "outputs": [],
      "source": [
        "def train_or_test(\n",
        "    model,  # sieć neuronowa która trenujemy lub testujemy\n",
        "    data_generator,  # generator danych, ktory dostarcza dane wejsciowe i etykiety w partiach (batchach)\n",
        "    criterion,  # funkcja straty, ktora oblicza roznice miedzy predykcjami modelu, a prawdziwymi etykietami\n",
        "    metric: BaseMetric,  # funkcja metryki, ktora oblicza dokladnosc predykcji modelu\n",
        "    mode: str = \"test\",\n",
        "    optimizer: torch.optim.Optimizer = None,  # optymalizator - aktualizauje parametry modelu podczas treningu\n",
        "    update_period: int = None,  # Okres aktualizacji, określa co ile batchy mają być aktualizowane parametry modelu.\n",
        "    device=torch.device(\"cpu\"),\n",
        ") -> Tuple[torch.nn.Module, float, float]:\n",
        "\n",
        "    # change model mode to train or test\n",
        "    if mode == 'train':\n",
        "        model.train()\n",
        "    elif mode == 'test':\n",
        "        model.eval()\n",
        "    else:\n",
        "        raise RuntimeError(f\"Unsupported mode: {mode}. Use 'train' or 'test'.\")\n",
        "\n",
        "    # move model to device\n",
        "    model.to(device)\n",
        "\n",
        "    # reset model parameters' gradients with optimizer\n",
        "    if mode == 'train':\n",
        "        optimizer.zero_grad()\n",
        "\n",
        "    total_loss = 0.0 # suma strat dla wszystkich batchy\n",
        "    total_accuracy = 0.0 # suma dokladnosci dla wszystkich batchy\n",
        "    samples_num = 0 # liczba probek przetworzonych przez model\n",
        "\n",
        "    for i, (X, y) in enumerate(tqdm.tqdm(data_generator)):\n",
        "        # convert tensors to device\n",
        "        X, y = X.to(device), y.to(device)\n",
        "\n",
        "        # process by network\n",
        "        y_pred = model(X)\n",
        "\n",
        "        # calculate loss\n",
        "        loss = criterion(y_pred, y)\n",
        "\n",
        "        # designate gradient based on loss\n",
        "        if mode == 'train':\n",
        "            loss.backward()\n",
        "\n",
        "        if mode == 'train' and (i+1) % update_period == 0:\n",
        "            # update parameters with optimizer\n",
        "            optimizer.step()\n",
        "            optimizer.zero_grad()\n",
        "\n",
        "        # calculate accuracy\n",
        "        accuracy = metric(y_pred, y)\n",
        "\n",
        "        total_loss += loss.item() * y_pred.shape[0] # y_pred.shape[0] to rozmair batcha (liczba probek w batchu)\n",
        "        total_accuracy += accuracy.item() * y_pred.shape[0]\n",
        "        samples_num += y_pred.shape[0]\n",
        "\n",
        "    if samples_num == 0:\n",
        "        return model, 0.0, 0.0\n",
        "\n",
        "    return model, total_loss / samples_num, total_accuracy / samples_num"
      ]
    },
    {
      "cell_type": "code",
      "execution_count": null,
      "metadata": {},
      "outputs": [],
      "source": [
        "net_preview, loss_preview, acc_preview = train_or_test(\n",
        "    net,\n",
        "    train_loader,\n",
        "    loss_fn, metric,\n",
        "    'train', \n",
        "    update_period=5,\n",
        "    optimizer=optimizer,\n",
        "    device=device,\n",
        ")"
      ]
    },
    {
      "cell_type": "markdown",
      "metadata": {
        "id": "hkIVA8O7Voum"
      },
      "source": [
        "10. Prepare training loop function (over epochs):\n",
        "- adjust max number of epochs to achieve satisfactory results,\n",
        "- **EXTENSION EXERCISE** implement stopping training when accuracy exceeds certain value."
      ]
    },
    {
      "cell_type": "code",
      "execution_count": 25,
      "metadata": {
        "id": "By_N80A3Voun"
      },
      "outputs": [],
      "source": [
        "def training(model,\n",
        "             train_loader,\n",
        "             test_loader,\n",
        "             loss_fn,\n",
        "             metric,\n",
        "             optimizer,\n",
        "             update_period,\n",
        "             epoch_max,\n",
        "             device,\n",
        "             early_stopping_accuracy=None):\n",
        "    loss_train = []\n",
        "    loss_test = []\n",
        "    acc_train = []\n",
        "    acc_test = []\n",
        "\n",
        "    for e in range(epoch_max):\n",
        "        print(f\"\\nEpoka: {e + 1}/{epoch_max}\")\n",
        "\n",
        "        model.train()\n",
        "        total_loss_train = 0.0\n",
        "        total_acc_train = 0.0\n",
        "        samples_num_train = 0\n",
        "\n",
        "        for i, (X, y) in enumerate(tqdm.tqdm(train_loader, colour=\"red\", ncols=100)):\n",
        "            X, y = X.to(device), y.to(device)\n",
        "\n",
        "            y_pred = model(X)\n",
        "\n",
        "            loss = loss_fn(y_pred, y)\n",
        "            loss.backward()\n",
        "\n",
        "            if (i + 1) % update_period == 0:\n",
        "                optimizer.step()\n",
        "                optimizer.zero_grad()\n",
        "\n",
        "            accuracy = metric(y_pred, y)\n",
        "            batch_size = y.size(0)\n",
        "            total_loss_train += loss.item() * batch_size\n",
        "            total_acc_train += accuracy.item() * batch_size\n",
        "            samples_num_train += batch_size\n",
        "\n",
        "        epoch_loss_train = total_loss_train / samples_num_train\n",
        "        epoch_acc_train = total_acc_train / samples_num_train\n",
        "        loss_train.append(epoch_loss_train)\n",
        "        acc_train.append(epoch_acc_train)\n",
        "\n",
        "        print(\n",
        "            f\"Train loss: {epoch_loss_train:.4f}\\nTrain accuracy: {epoch_acc_train:.4f}\"\n",
        "        )\n",
        "\n",
        "        model.eval()\n",
        "        total_loss_test = 0.0\n",
        "        total_acc_test = 0.0\n",
        "        samples_num_test = 0\n",
        "\n",
        "        with torch.no_grad():\n",
        "            for X, y in tqdm.tqdm(test_loader, colour='green', smoothing=0.3, ncols=100):\n",
        "                X, y = X.to(device), y.to(device)\n",
        "\n",
        "                y_pred = model(X)\n",
        "\n",
        "                loss = loss_fn(y_pred, y)\n",
        "                accuracy = metric(y_pred, y)\n",
        "\n",
        "                batch_size = y.size(0)\n",
        "                total_loss_test += loss.item() * batch_size\n",
        "                total_acc_test += accuracy.item() * batch_size\n",
        "                samples_num_test += batch_size\n",
        "\n",
        "        epoch_loss_test = total_loss_test / samples_num_test\n",
        "        epoch_acc_test = total_acc_test / samples_num_test\n",
        "        loss_test.append(epoch_loss_test)\n",
        "        acc_test.append(epoch_acc_test)\n",
        "\n",
        "        print(f\"Test loss: {epoch_loss_test:.4f}\\nTest accuracy: {epoch_acc_test:.4f}\")\n",
        "\n",
        "        if (early_stopping_accuracy and epoch_acc_train >= early_stopping_accuracy):\n",
        "            print(f\"Training accuracy of {epoch_acc_train:.4f} achieved, stopping training.\")\n",
        "            break\n",
        "\n",
        "    return model, {'loss_train': loss_train,\n",
        "                   'acc_train': acc_train,\n",
        "                   'loss_test': loss_test,\n",
        "                   'acc_test': acc_test}"
      ]
    },
    {
      "cell_type": "code",
      "execution_count": 10,
      "metadata": {},
      "outputs": [],
      "source": [
        "def train_one_epoch(\n",
        "    model, train_loader, loss_fn, metric, optimizer, update_period, device\n",
        "):\n",
        "    model.train()\n",
        "    total_loss_train = 0.0\n",
        "    total_acc_train = 0.0\n",
        "    samples_num_train = 0\n",
        "\n",
        "    with tqdm.tqdm(\n",
        "        train_loader, colour=\"red\", ncols=100\n",
        "    ) as t:\n",
        "        for i, (X, y) in enumerate(t):\n",
        "            X, y = X.to(device), y.to(device)\n",
        "\n",
        "            y_pred = model(X)\n",
        "            loss = loss_fn(y_pred, y)\n",
        "            loss.backward()\n",
        "\n",
        "            if (i + 1) % update_period == 0:\n",
        "                optimizer.step()\n",
        "                optimizer.zero_grad()\n",
        "\n",
        "            accuracy = metric(y_pred, y)\n",
        "            batch_size = y.size(0)\n",
        "            total_loss_train += loss.item() * batch_size\n",
        "            total_acc_train += accuracy.item() * batch_size\n",
        "            samples_num_train += batch_size\n",
        "\n",
        "            current_loss = total_loss_train / samples_num_train\n",
        "            current_acc = total_acc_train / samples_num_train\n",
        "\n",
        "            t.set_postfix(loss=f'{current_loss:.4f}', accuracy=f'{current_acc:.4f}')\n",
        "\n",
        "    epoch_loss_train = total_loss_train / samples_num_train\n",
        "    epoch_acc_train = total_acc_train / samples_num_train\n",
        "\n",
        "    return epoch_loss_train, epoch_acc_train\n",
        "\n",
        "\n",
        "def test_one_epoch(model, test_loader, loss_fn, metric, device):\n",
        "    model.eval()\n",
        "    total_loss_test = 0.0\n",
        "    total_acc_test = 0.0\n",
        "    samples_num_test = 0\n",
        "\n",
        "    with torch.no_grad():\n",
        "        with tqdm.tqdm(\n",
        "            test_loader, colour=\"green\", ncols=100\n",
        "        ) as t:\n",
        "            for X, y in t:\n",
        "                X, y = X.to(device), y.to(device)\n",
        "\n",
        "                y_pred = model(X)\n",
        "                loss = loss_fn(y_pred, y)\n",
        "                accuracy = metric(y_pred, y)\n",
        "\n",
        "                batch_size = y.size(0)\n",
        "                total_loss_test += loss.item() * batch_size\n",
        "                total_acc_test += accuracy.item() * batch_size\n",
        "                samples_num_test += batch_size\n",
        "\n",
        "                current_loss = total_loss_test / samples_num_test\n",
        "                current_acc = total_acc_test / samples_num_test\n",
        "\n",
        "                t.set_postfix(loss=f'{current_loss:.4f}', accuracy=f'{current_acc:.4f}')\n",
        "\n",
        "    epoch_loss_test = total_loss_test / samples_num_test\n",
        "    epoch_acc_test = total_acc_test / samples_num_test\n",
        "\n",
        "    return epoch_loss_test, epoch_acc_test\n",
        "\n",
        "\n",
        "def test_or_train(\n",
        "    model,\n",
        "    train_loader,\n",
        "    test_loader,\n",
        "    loss_fn,\n",
        "    metric,\n",
        "    optimizer,\n",
        "    update_period,\n",
        "    epoch_max,\n",
        "    device,\n",
        "    mode=\"train\",\n",
        "    early_stopping_accuracy=None,\n",
        "):\n",
        "    loss_train = []\n",
        "    loss_test = []\n",
        "    acc_train = []\n",
        "    acc_test = []\n",
        "\n",
        "    for e in range(epoch_max):\n",
        "        print(f\"Epoch: {e + 1}/{epoch_max}\")\n",
        "\n",
        "        if mode in [\"train\", \"both\"]:\n",
        "            epoch_loss_train, epoch_acc_train = train_one_epoch(\n",
        "                model,\n",
        "                train_loader,\n",
        "                loss_fn,\n",
        "                metric,\n",
        "                optimizer,\n",
        "                update_period,\n",
        "                device,\n",
        "            )\n",
        "            loss_train.append(epoch_loss_train)\n",
        "            acc_train.append(epoch_acc_train)\n",
        "\n",
        "        if mode in [\"test\", \"both\"]:\n",
        "            epoch_loss_test, epoch_acc_test = test_one_epoch(\n",
        "                model, test_loader, loss_fn, metric, device\n",
        "            )\n",
        "            loss_test.append(epoch_loss_test)\n",
        "            acc_test.append(epoch_acc_test)\n",
        "\n",
        "        if (\n",
        "            early_stopping_accuracy\n",
        "            and epoch_acc_train >= early_stopping_accuracy\n",
        "        ):\n",
        "            print(\n",
        "                f\"Training accuracy of {epoch_acc_train:.4f} achieved, stopping training.\"\n",
        "            )\n",
        "            break\n",
        "\n",
        "    return model, {\n",
        "        \"loss_train\": loss_train,\n",
        "        \"acc_train\": acc_train,\n",
        "        \"loss_test\": loss_test,\n",
        "        \"acc_test\": acc_test,\n",
        "    }"
      ]
    },
    {
      "cell_type": "markdown",
      "metadata": {
        "id": "6UjpPqYIVoun"
      },
      "source": [
        "11. Display training history."
      ]
    },
    {
      "cell_type": "code",
      "execution_count": 13,
      "metadata": {},
      "outputs": [
        {
          "name": "stdout",
          "output_type": "stream",
          "text": [
            "Epoch: 1/100\n"
          ]
        },
        {
          "name": "stderr",
          "output_type": "stream",
          "text": [
            "100%|\u001b[31m██████████████████████████████\u001b[0m| 938/938 [00:04<00:00, 198.24it/s, accuracy=0.1132, loss=2.3024]\u001b[0m\n",
            "100%|\u001b[32m██████████████████████████████\u001b[0m| 157/157 [00:00<00:00, 500.36it/s, accuracy=0.1276, loss=2.3016]\u001b[0m\n"
          ]
        },
        {
          "name": "stdout",
          "output_type": "stream",
          "text": [
            "Epoch: 2/100\n"
          ]
        },
        {
          "name": "stderr",
          "output_type": "stream",
          "text": [
            "100%|\u001b[31m██████████████████████████████\u001b[0m| 938/938 [00:04<00:00, 202.14it/s, accuracy=0.1279, loss=2.3018]\u001b[0m\n",
            "100%|\u001b[32m██████████████████████████████\u001b[0m| 157/157 [00:00<00:00, 478.90it/s, accuracy=0.1411, loss=2.3004]\u001b[0m\n"
          ]
        },
        {
          "name": "stdout",
          "output_type": "stream",
          "text": [
            "Epoch: 3/100\n"
          ]
        },
        {
          "name": "stderr",
          "output_type": "stream",
          "text": [
            "100%|\u001b[31m██████████████████████████████\u001b[0m| 938/938 [00:04<00:00, 203.05it/s, accuracy=0.1262, loss=2.3011]\u001b[0m\n",
            "100%|\u001b[32m██████████████████████████████\u001b[0m| 157/157 [00:00<00:00, 510.15it/s, accuracy=0.1157, loss=2.2990]\u001b[0m\n"
          ]
        },
        {
          "name": "stdout",
          "output_type": "stream",
          "text": [
            "Epoch: 4/100\n"
          ]
        },
        {
          "name": "stderr",
          "output_type": "stream",
          "text": [
            "100%|\u001b[31m██████████████████████████████\u001b[0m| 938/938 [00:04<00:00, 202.04it/s, accuracy=0.1097, loss=2.3002]\u001b[0m\n",
            "100%|\u001b[32m██████████████████████████████\u001b[0m| 157/157 [00:00<00:00, 501.29it/s, accuracy=0.0997, loss=2.2971]\u001b[0m\n"
          ]
        },
        {
          "name": "stdout",
          "output_type": "stream",
          "text": [
            "Epoch: 5/100\n"
          ]
        },
        {
          "name": "stderr",
          "output_type": "stream",
          "text": [
            "100%|\u001b[31m██████████████████████████████\u001b[0m| 938/938 [00:04<00:00, 200.40it/s, accuracy=0.0999, loss=2.2990]\u001b[0m\n",
            "100%|\u001b[32m██████████████████████████████\u001b[0m| 157/157 [00:00<00:00, 484.43it/s, accuracy=0.0980, loss=2.2940]\u001b[0m\n"
          ]
        },
        {
          "name": "stdout",
          "output_type": "stream",
          "text": [
            "Epoch: 6/100\n"
          ]
        },
        {
          "name": "stderr",
          "output_type": "stream",
          "text": [
            "100%|\u001b[31m██████████████████████████████\u001b[0m| 938/938 [00:04<00:00, 198.90it/s, accuracy=0.0987, loss=2.2967]\u001b[0m\n",
            "100%|\u001b[32m██████████████████████████████\u001b[0m| 157/157 [00:00<00:00, 488.73it/s, accuracy=0.0980, loss=2.2872]\u001b[0m\n"
          ]
        },
        {
          "name": "stdout",
          "output_type": "stream",
          "text": [
            "Epoch: 7/100\n"
          ]
        },
        {
          "name": "stderr",
          "output_type": "stream",
          "text": [
            "100%|\u001b[31m██████████████████████████████\u001b[0m| 938/938 [00:04<00:00, 198.49it/s, accuracy=0.0987, loss=2.2917]\u001b[0m\n",
            "100%|\u001b[32m██████████████████████████████\u001b[0m| 157/157 [00:00<00:00, 495.19it/s, accuracy=0.0980, loss=2.2727]\u001b[0m\n"
          ]
        },
        {
          "name": "stdout",
          "output_type": "stream",
          "text": [
            "Epoch: 8/100\n"
          ]
        },
        {
          "name": "stderr",
          "output_type": "stream",
          "text": [
            "100%|\u001b[31m██████████████████████████████\u001b[0m| 938/938 [00:04<00:00, 198.98it/s, accuracy=0.1048, loss=2.2844]\u001b[0m\n",
            "100%|\u001b[32m██████████████████████████████\u001b[0m| 157/157 [00:00<00:00, 496.70it/s, accuracy=0.1703, loss=2.2576]\u001b[0m\n"
          ]
        },
        {
          "name": "stdout",
          "output_type": "stream",
          "text": [
            "Epoch: 9/100\n"
          ]
        },
        {
          "name": "stderr",
          "output_type": "stream",
          "text": [
            "100%|\u001b[31m██████████████████████████████\u001b[0m| 938/938 [00:04<00:00, 189.19it/s, accuracy=0.1441, loss=2.2771]\u001b[0m\n",
            "100%|\u001b[32m██████████████████████████████\u001b[0m| 157/157 [00:00<00:00, 494.45it/s, accuracy=0.2138, loss=2.2443]\u001b[0m\n"
          ]
        },
        {
          "name": "stdout",
          "output_type": "stream",
          "text": [
            "Epoch: 10/100\n"
          ]
        },
        {
          "name": "stderr",
          "output_type": "stream",
          "text": [
            "100%|\u001b[31m██████████████████████████████\u001b[0m| 938/938 [00:04<00:00, 197.21it/s, accuracy=0.1703, loss=2.2698]\u001b[0m\n",
            "100%|\u001b[32m██████████████████████████████\u001b[0m| 157/157 [00:00<00:00, 495.92it/s, accuracy=0.2413, loss=2.2335]\u001b[0m\n"
          ]
        },
        {
          "name": "stdout",
          "output_type": "stream",
          "text": [
            "Epoch: 11/100\n"
          ]
        },
        {
          "name": "stderr",
          "output_type": "stream",
          "text": [
            "100%|\u001b[31m██████████████████████████████\u001b[0m| 938/938 [00:04<00:00, 197.04it/s, accuracy=0.1862, loss=2.2632]\u001b[0m\n",
            "100%|\u001b[32m██████████████████████████████\u001b[0m| 157/157 [00:00<00:00, 490.07it/s, accuracy=0.2526, loss=2.2246]\u001b[0m\n"
          ]
        },
        {
          "name": "stdout",
          "output_type": "stream",
          "text": [
            "Epoch: 12/100\n"
          ]
        },
        {
          "name": "stderr",
          "output_type": "stream",
          "text": [
            "100%|\u001b[31m██████████████████████████████\u001b[0m| 938/938 [00:04<00:00, 191.55it/s, accuracy=0.1989, loss=2.2553]\u001b[0m\n",
            "100%|\u001b[32m██████████████████████████████\u001b[0m| 157/157 [00:00<00:00, 376.70it/s, accuracy=0.2598, loss=2.2138]\u001b[0m\n"
          ]
        },
        {
          "name": "stdout",
          "output_type": "stream",
          "text": [
            "Epoch: 13/100\n"
          ]
        },
        {
          "name": "stderr",
          "output_type": "stream",
          "text": [
            "100%|\u001b[31m██████████████████████████████\u001b[0m| 938/938 [00:04<00:00, 187.97it/s, accuracy=0.2107, loss=2.2469]\u001b[0m\n",
            "100%|\u001b[32m██████████████████████████████\u001b[0m| 157/157 [00:00<00:00, 474.79it/s, accuracy=0.2620, loss=2.1975]\u001b[0m\n"
          ]
        },
        {
          "name": "stdout",
          "output_type": "stream",
          "text": [
            "Epoch: 14/100\n"
          ]
        },
        {
          "name": "stderr",
          "output_type": "stream",
          "text": [
            "100%|\u001b[31m██████████████████████████████\u001b[0m| 938/938 [00:04<00:00, 191.66it/s, accuracy=0.2213, loss=2.2339]\u001b[0m\n",
            "100%|\u001b[32m██████████████████████████████\u001b[0m| 157/157 [00:00<00:00, 374.21it/s, accuracy=0.2765, loss=2.1702]\u001b[0m\n"
          ]
        },
        {
          "name": "stdout",
          "output_type": "stream",
          "text": [
            "Epoch: 15/100\n"
          ]
        },
        {
          "name": "stderr",
          "output_type": "stream",
          "text": [
            "100%|\u001b[31m██████████████████████████████\u001b[0m| 938/938 [00:04<00:00, 197.28it/s, accuracy=0.2364, loss=2.2171]\u001b[0m\n",
            "100%|\u001b[32m██████████████████████████████\u001b[0m| 157/157 [00:00<00:00, 485.69it/s, accuracy=0.3091, loss=2.1412]\u001b[0m\n"
          ]
        },
        {
          "name": "stdout",
          "output_type": "stream",
          "text": [
            "Epoch: 16/100\n"
          ]
        },
        {
          "name": "stderr",
          "output_type": "stream",
          "text": [
            "100%|\u001b[31m██████████████████████████████\u001b[0m| 938/938 [00:05<00:00, 173.45it/s, accuracy=0.2620, loss=2.1958]\u001b[0m\n",
            "100%|\u001b[32m██████████████████████████████\u001b[0m| 157/157 [00:00<00:00, 496.47it/s, accuracy=0.3618, loss=2.1098]\u001b[0m\n"
          ]
        },
        {
          "name": "stdout",
          "output_type": "stream",
          "text": [
            "Epoch: 17/100\n"
          ]
        },
        {
          "name": "stderr",
          "output_type": "stream",
          "text": [
            "100%|\u001b[31m██████████████████████████████\u001b[0m| 938/938 [00:05<00:00, 174.68it/s, accuracy=0.2980, loss=2.1740]\u001b[0m\n",
            "100%|\u001b[32m██████████████████████████████\u001b[0m| 157/157 [00:00<00:00, 485.76it/s, accuracy=0.4212, loss=2.0757]\u001b[0m\n"
          ]
        },
        {
          "name": "stdout",
          "output_type": "stream",
          "text": [
            "Epoch: 18/100\n"
          ]
        },
        {
          "name": "stderr",
          "output_type": "stream",
          "text": [
            "100%|\u001b[31m██████████████████████████████\u001b[0m| 938/938 [00:05<00:00, 180.39it/s, accuracy=0.3351, loss=2.1497]\u001b[0m\n",
            "100%|\u001b[32m██████████████████████████████\u001b[0m| 157/157 [00:00<00:00, 430.39it/s, accuracy=0.4899, loss=2.0368]\u001b[0m\n"
          ]
        },
        {
          "name": "stdout",
          "output_type": "stream",
          "text": [
            "Epoch: 19/100\n"
          ]
        },
        {
          "name": "stderr",
          "output_type": "stream",
          "text": [
            "100%|\u001b[31m██████████████████████████████\u001b[0m| 938/938 [00:04<00:00, 198.03it/s, accuracy=0.3612, loss=2.1275]\u001b[0m\n",
            "100%|\u001b[32m██████████████████████████████\u001b[0m| 157/157 [00:00<00:00, 451.10it/s, accuracy=0.5266, loss=1.9997]\u001b[0m\n"
          ]
        },
        {
          "name": "stdout",
          "output_type": "stream",
          "text": [
            "Epoch: 20/100\n"
          ]
        },
        {
          "name": "stderr",
          "output_type": "stream",
          "text": [
            "100%|\u001b[31m██████████████████████████████\u001b[0m| 938/938 [00:04<00:00, 199.45it/s, accuracy=0.3999, loss=2.1028]\u001b[0m\n",
            "100%|\u001b[32m██████████████████████████████\u001b[0m| 157/157 [00:00<00:00, 428.73it/s, accuracy=0.5783, loss=1.9622]\u001b[0m\n"
          ]
        },
        {
          "name": "stdout",
          "output_type": "stream",
          "text": [
            "Epoch: 21/100\n"
          ]
        },
        {
          "name": "stderr",
          "output_type": "stream",
          "text": [
            "100%|\u001b[31m██████████████████████████████\u001b[0m| 938/938 [00:04<00:00, 194.05it/s, accuracy=0.4158, loss=2.0836]\u001b[0m\n",
            "100%|\u001b[32m██████████████████████████████\u001b[0m| 157/157 [00:00<00:00, 443.94it/s, accuracy=0.5879, loss=1.9383]\u001b[0m\n"
          ]
        },
        {
          "name": "stdout",
          "output_type": "stream",
          "text": [
            "Epoch: 22/100\n"
          ]
        },
        {
          "name": "stderr",
          "output_type": "stream",
          "text": [
            "100%|\u001b[31m██████████████████████████████\u001b[0m| 938/938 [00:05<00:00, 185.39it/s, accuracy=0.4271, loss=2.0657]\u001b[0m\n",
            "100%|\u001b[32m██████████████████████████████\u001b[0m| 157/157 [00:00<00:00, 530.34it/s, accuracy=0.5999, loss=1.9165]\u001b[0m\n"
          ]
        },
        {
          "name": "stdout",
          "output_type": "stream",
          "text": [
            "Epoch: 23/100\n"
          ]
        },
        {
          "name": "stderr",
          "output_type": "stream",
          "text": [
            "100%|\u001b[31m██████████████████████████████\u001b[0m| 938/938 [00:05<00:00, 180.34it/s, accuracy=0.4388, loss=2.0502]\u001b[0m\n",
            "100%|\u001b[32m██████████████████████████████\u001b[0m| 157/157 [00:00<00:00, 475.98it/s, accuracy=0.6068, loss=1.8986]\u001b[0m\n"
          ]
        },
        {
          "name": "stdout",
          "output_type": "stream",
          "text": [
            "Epoch: 24/100\n"
          ]
        },
        {
          "name": "stderr",
          "output_type": "stream",
          "text": [
            "100%|\u001b[31m██████████████████████████████\u001b[0m| 938/938 [00:04<00:00, 196.44it/s, accuracy=0.4434, loss=2.0401]\u001b[0m\n",
            "100%|\u001b[32m██████████████████████████████\u001b[0m| 157/157 [00:00<00:00, 486.52it/s, accuracy=0.6091, loss=1.8889]\u001b[0m\n"
          ]
        },
        {
          "name": "stdout",
          "output_type": "stream",
          "text": [
            "Epoch: 25/100\n"
          ]
        },
        {
          "name": "stderr",
          "output_type": "stream",
          "text": [
            "100%|\u001b[31m██████████████████████████████\u001b[0m| 938/938 [00:04<00:00, 194.00it/s, accuracy=0.4518, loss=2.0298]\u001b[0m\n",
            "100%|\u001b[32m██████████████████████████████\u001b[0m| 157/157 [00:00<00:00, 461.56it/s, accuracy=0.6118, loss=1.8812]\u001b[0m\n"
          ]
        },
        {
          "name": "stdout",
          "output_type": "stream",
          "text": [
            "Epoch: 26/100\n"
          ]
        },
        {
          "name": "stderr",
          "output_type": "stream",
          "text": [
            "100%|\u001b[31m██████████████████████████████\u001b[0m| 938/938 [00:04<00:00, 195.07it/s, accuracy=0.4587, loss=2.0206]\u001b[0m\n",
            "100%|\u001b[32m██████████████████████████████\u001b[0m| 157/157 [00:00<00:00, 477.50it/s, accuracy=0.6147, loss=1.8743]\u001b[0m\n"
          ]
        },
        {
          "name": "stdout",
          "output_type": "stream",
          "text": [
            "Epoch: 27/100\n"
          ]
        },
        {
          "name": "stderr",
          "output_type": "stream",
          "text": [
            "100%|\u001b[31m██████████████████████████████\u001b[0m| 938/938 [00:04<00:00, 196.63it/s, accuracy=0.4667, loss=2.0118]\u001b[0m\n",
            "100%|\u001b[32m██████████████████████████████\u001b[0m| 157/157 [00:00<00:00, 460.50it/s, accuracy=0.6169, loss=1.8663]\u001b[0m\n"
          ]
        },
        {
          "name": "stdout",
          "output_type": "stream",
          "text": [
            "Epoch: 28/100\n"
          ]
        },
        {
          "name": "stderr",
          "output_type": "stream",
          "text": [
            "100%|\u001b[31m██████████████████████████████\u001b[0m| 938/938 [00:04<00:00, 194.21it/s, accuracy=0.4717, loss=2.0050]\u001b[0m\n",
            "100%|\u001b[32m██████████████████████████████\u001b[0m| 157/157 [00:00<00:00, 473.61it/s, accuracy=0.6262, loss=1.8528]\u001b[0m\n"
          ]
        },
        {
          "name": "stdout",
          "output_type": "stream",
          "text": [
            "Epoch: 29/100\n"
          ]
        },
        {
          "name": "stderr",
          "output_type": "stream",
          "text": [
            "100%|\u001b[31m██████████████████████████████\u001b[0m| 938/938 [00:04<00:00, 195.23it/s, accuracy=0.4817, loss=1.9969]\u001b[0m\n",
            "100%|\u001b[32m██████████████████████████████\u001b[0m| 157/157 [00:00<00:00, 462.92it/s, accuracy=0.6718, loss=1.8284]\u001b[0m\n"
          ]
        },
        {
          "name": "stdout",
          "output_type": "stream",
          "text": [
            "Epoch: 30/100\n"
          ]
        },
        {
          "name": "stderr",
          "output_type": "stream",
          "text": [
            "100%|\u001b[31m██████████████████████████████\u001b[0m| 938/938 [00:05<00:00, 183.27it/s, accuracy=0.4978, loss=1.9846]\u001b[0m\n",
            "100%|\u001b[32m██████████████████████████████\u001b[0m| 157/157 [00:00<00:00, 516.37it/s, accuracy=0.6953, loss=1.8108]\u001b[0m\n"
          ]
        },
        {
          "name": "stdout",
          "output_type": "stream",
          "text": [
            "Epoch: 31/100\n"
          ]
        },
        {
          "name": "stderr",
          "output_type": "stream",
          "text": [
            "100%|\u001b[31m██████████████████████████████\u001b[0m| 938/938 [00:05<00:00, 185.92it/s, accuracy=0.5093, loss=1.9727]\u001b[0m\n",
            "100%|\u001b[32m██████████████████████████████\u001b[0m| 157/157 [00:00<00:00, 391.81it/s, accuracy=0.7032, loss=1.7988]\u001b[0m\n"
          ]
        },
        {
          "name": "stdout",
          "output_type": "stream",
          "text": [
            "Epoch: 32/100\n"
          ]
        },
        {
          "name": "stderr",
          "output_type": "stream",
          "text": [
            "100%|\u001b[31m██████████████████████████████\u001b[0m| 938/938 [00:05<00:00, 183.22it/s, accuracy=0.5202, loss=1.9617]\u001b[0m\n",
            "100%|\u001b[32m██████████████████████████████\u001b[0m| 157/157 [00:00<00:00, 464.33it/s, accuracy=0.7100, loss=1.7882]\u001b[0m\n"
          ]
        },
        {
          "name": "stdout",
          "output_type": "stream",
          "text": [
            "Epoch: 33/100\n"
          ]
        },
        {
          "name": "stderr",
          "output_type": "stream",
          "text": [
            "100%|\u001b[31m██████████████████████████████\u001b[0m| 938/938 [00:04<00:00, 194.47it/s, accuracy=0.5333, loss=1.9494]\u001b[0m\n",
            "100%|\u001b[32m██████████████████████████████\u001b[0m| 157/157 [00:00<00:00, 410.10it/s, accuracy=0.7089, loss=1.7856]\u001b[0m\n"
          ]
        },
        {
          "name": "stdout",
          "output_type": "stream",
          "text": [
            "Epoch: 34/100\n"
          ]
        },
        {
          "name": "stderr",
          "output_type": "stream",
          "text": [
            "100%|\u001b[31m██████████████████████████████\u001b[0m| 938/938 [00:05<00:00, 187.35it/s, accuracy=0.5436, loss=1.9383]\u001b[0m\n",
            "100%|\u001b[32m██████████████████████████████\u001b[0m| 157/157 [00:00<00:00, 475.99it/s, accuracy=0.7160, loss=1.7776]\u001b[0m\n"
          ]
        },
        {
          "name": "stdout",
          "output_type": "stream",
          "text": [
            "Epoch: 35/100\n"
          ]
        },
        {
          "name": "stderr",
          "output_type": "stream",
          "text": [
            "100%|\u001b[31m██████████████████████████████\u001b[0m| 938/938 [00:05<00:00, 185.57it/s, accuracy=0.5521, loss=1.9302]\u001b[0m\n",
            "100%|\u001b[32m██████████████████████████████\u001b[0m| 157/157 [00:00<00:00, 492.62it/s, accuracy=0.7181, loss=1.7746]\u001b[0m\n"
          ]
        },
        {
          "name": "stdout",
          "output_type": "stream",
          "text": [
            "Epoch: 36/100\n"
          ]
        },
        {
          "name": "stderr",
          "output_type": "stream",
          "text": [
            "100%|\u001b[31m██████████████████████████████\u001b[0m| 938/938 [00:05<00:00, 181.71it/s, accuracy=0.5609, loss=1.9198]\u001b[0m\n",
            "100%|\u001b[32m██████████████████████████████\u001b[0m| 157/157 [00:00<00:00, 426.56it/s, accuracy=0.7189, loss=1.7705]\u001b[0m\n"
          ]
        },
        {
          "name": "stdout",
          "output_type": "stream",
          "text": [
            "Epoch: 37/100\n"
          ]
        },
        {
          "name": "stderr",
          "output_type": "stream",
          "text": [
            "100%|\u001b[31m██████████████████████████████\u001b[0m| 938/938 [00:04<00:00, 191.37it/s, accuracy=0.5689, loss=1.9126]\u001b[0m\n",
            "100%|\u001b[32m██████████████████████████████\u001b[0m| 157/157 [00:00<00:00, 442.01it/s, accuracy=0.7217, loss=1.7678]\u001b[0m\n"
          ]
        },
        {
          "name": "stdout",
          "output_type": "stream",
          "text": [
            "Epoch: 38/100\n"
          ]
        },
        {
          "name": "stderr",
          "output_type": "stream",
          "text": [
            "100%|\u001b[31m██████████████████████████████\u001b[0m| 938/938 [00:04<00:00, 195.17it/s, accuracy=0.5777, loss=1.9032]\u001b[0m\n",
            "100%|\u001b[32m██████████████████████████████\u001b[0m| 157/157 [00:00<00:00, 439.42it/s, accuracy=0.7264, loss=1.7619]\u001b[0m\n"
          ]
        },
        {
          "name": "stdout",
          "output_type": "stream",
          "text": [
            "Epoch: 39/100\n"
          ]
        },
        {
          "name": "stderr",
          "output_type": "stream",
          "text": [
            "100%|\u001b[31m██████████████████████████████\u001b[0m| 938/938 [00:04<00:00, 196.53it/s, accuracy=0.5819, loss=1.8977]\u001b[0m\n",
            "100%|\u001b[32m██████████████████████████████\u001b[0m| 157/157 [00:00<00:00, 442.62it/s, accuracy=0.7300, loss=1.7579]\u001b[0m\n"
          ]
        },
        {
          "name": "stdout",
          "output_type": "stream",
          "text": [
            "Epoch: 40/100\n"
          ]
        },
        {
          "name": "stderr",
          "output_type": "stream",
          "text": [
            "100%|\u001b[31m██████████████████████████████\u001b[0m| 938/938 [00:04<00:00, 194.06it/s, accuracy=0.5947, loss=1.8860]\u001b[0m\n",
            "100%|\u001b[32m██████████████████████████████\u001b[0m| 157/157 [00:00<00:00, 444.47it/s, accuracy=0.7351, loss=1.7533]\u001b[0m\n"
          ]
        },
        {
          "name": "stdout",
          "output_type": "stream",
          "text": [
            "Epoch: 41/100\n"
          ]
        },
        {
          "name": "stderr",
          "output_type": "stream",
          "text": [
            "100%|\u001b[31m██████████████████████████████\u001b[0m| 938/938 [00:04<00:00, 194.97it/s, accuracy=0.6039, loss=1.8757]\u001b[0m\n",
            "100%|\u001b[32m██████████████████████████████\u001b[0m| 157/157 [00:00<00:00, 472.68it/s, accuracy=0.7398, loss=1.7473]\u001b[0m\n"
          ]
        },
        {
          "name": "stdout",
          "output_type": "stream",
          "text": [
            "Epoch: 42/100\n"
          ]
        },
        {
          "name": "stderr",
          "output_type": "stream",
          "text": [
            "100%|\u001b[31m██████████████████████████████\u001b[0m| 938/938 [00:04<00:00, 191.76it/s, accuracy=0.6109, loss=1.8685]\u001b[0m\n",
            "100%|\u001b[32m██████████████████████████████\u001b[0m| 157/157 [00:00<00:00, 463.34it/s, accuracy=0.7371, loss=1.7479]\u001b[0m\n"
          ]
        },
        {
          "name": "stdout",
          "output_type": "stream",
          "text": [
            "Epoch: 43/100\n"
          ]
        },
        {
          "name": "stderr",
          "output_type": "stream",
          "text": [
            "100%|\u001b[31m██████████████████████████████\u001b[0m| 938/938 [00:04<00:00, 191.56it/s, accuracy=0.6221, loss=1.8589]\u001b[0m\n",
            "100%|\u001b[32m██████████████████████████████\u001b[0m| 157/157 [00:00<00:00, 471.25it/s, accuracy=0.7438, loss=1.7419]\u001b[0m\n"
          ]
        },
        {
          "name": "stdout",
          "output_type": "stream",
          "text": [
            "Epoch: 44/100\n"
          ]
        },
        {
          "name": "stderr",
          "output_type": "stream",
          "text": [
            "100%|\u001b[31m██████████████████████████████\u001b[0m| 938/938 [00:04<00:00, 192.71it/s, accuracy=0.6294, loss=1.8499]\u001b[0m\n",
            "100%|\u001b[32m██████████████████████████████\u001b[0m| 157/157 [00:00<00:00, 456.62it/s, accuracy=0.7471, loss=1.7305]\u001b[0m\n"
          ]
        },
        {
          "name": "stdout",
          "output_type": "stream",
          "text": [
            "Epoch: 45/100\n"
          ]
        },
        {
          "name": "stderr",
          "output_type": "stream",
          "text": [
            "100%|\u001b[31m██████████████████████████████\u001b[0m| 938/938 [00:04<00:00, 193.38it/s, accuracy=0.6612, loss=1.8335]\u001b[0m\n",
            "100%|\u001b[32m██████████████████████████████\u001b[0m| 157/157 [00:00<00:00, 461.05it/s, accuracy=0.8135, loss=1.7036]\u001b[0m\n"
          ]
        },
        {
          "name": "stdout",
          "output_type": "stream",
          "text": [
            "Epoch: 46/100\n"
          ]
        },
        {
          "name": "stderr",
          "output_type": "stream",
          "text": [
            "100%|\u001b[31m██████████████████████████████\u001b[0m| 938/938 [00:04<00:00, 194.82it/s, accuracy=0.6784, loss=1.8189]\u001b[0m\n",
            "100%|\u001b[32m██████████████████████████████\u001b[0m| 157/157 [00:00<00:00, 470.18it/s, accuracy=0.8199, loss=1.6927]\u001b[0m\n"
          ]
        },
        {
          "name": "stdout",
          "output_type": "stream",
          "text": [
            "Epoch: 47/100\n"
          ]
        },
        {
          "name": "stderr",
          "output_type": "stream",
          "text": [
            "100%|\u001b[31m██████████████████████████████\u001b[0m| 938/938 [00:04<00:00, 192.85it/s, accuracy=0.6852, loss=1.8095]\u001b[0m\n",
            "100%|\u001b[32m██████████████████████████████\u001b[0m| 157/157 [00:00<00:00, 469.21it/s, accuracy=0.8174, loss=1.6875]\u001b[0m\n"
          ]
        },
        {
          "name": "stdout",
          "output_type": "stream",
          "text": [
            "Epoch: 48/100\n"
          ]
        },
        {
          "name": "stderr",
          "output_type": "stream",
          "text": [
            "100%|\u001b[31m██████████████████████████████\u001b[0m| 938/938 [00:04<00:00, 192.17it/s, accuracy=0.6968, loss=1.7971]\u001b[0m\n",
            "100%|\u001b[32m██████████████████████████████\u001b[0m| 157/157 [00:00<00:00, 459.38it/s, accuracy=0.8216, loss=1.6799]\u001b[0m\n"
          ]
        },
        {
          "name": "stdout",
          "output_type": "stream",
          "text": [
            "Epoch: 49/100\n"
          ]
        },
        {
          "name": "stderr",
          "output_type": "stream",
          "text": [
            "100%|\u001b[31m██████████████████████████████\u001b[0m| 938/938 [00:05<00:00, 183.41it/s, accuracy=0.7056, loss=1.7881]\u001b[0m\n",
            "100%|\u001b[32m██████████████████████████████\u001b[0m| 157/157 [00:00<00:00, 435.21it/s, accuracy=0.8267, loss=1.6721]\u001b[0m\n"
          ]
        },
        {
          "name": "stdout",
          "output_type": "stream",
          "text": [
            "Epoch: 50/100\n"
          ]
        },
        {
          "name": "stderr",
          "output_type": "stream",
          "text": [
            "100%|\u001b[31m██████████████████████████████\u001b[0m| 938/938 [00:04<00:00, 194.99it/s, accuracy=0.7096, loss=1.7818]\u001b[0m\n",
            "100%|\u001b[32m██████████████████████████████\u001b[0m| 157/157 [00:00<00:00, 436.39it/s, accuracy=0.8298, loss=1.6679]\u001b[0m\n"
          ]
        },
        {
          "name": "stdout",
          "output_type": "stream",
          "text": [
            "Epoch: 51/100\n"
          ]
        },
        {
          "name": "stderr",
          "output_type": "stream",
          "text": [
            "100%|\u001b[31m██████████████████████████████\u001b[0m| 938/938 [00:04<00:00, 195.21it/s, accuracy=0.7181, loss=1.7728]\u001b[0m\n",
            "100%|\u001b[32m██████████████████████████████\u001b[0m| 157/157 [00:00<00:00, 428.96it/s, accuracy=0.8304, loss=1.6629]\u001b[0m\n"
          ]
        },
        {
          "name": "stdout",
          "output_type": "stream",
          "text": [
            "Epoch: 52/100\n"
          ]
        },
        {
          "name": "stderr",
          "output_type": "stream",
          "text": [
            "100%|\u001b[31m██████████████████████████████\u001b[0m| 938/938 [00:04<00:00, 194.91it/s, accuracy=0.7228, loss=1.7652]\u001b[0m\n",
            "100%|\u001b[32m██████████████████████████████\u001b[0m| 157/157 [00:00<00:00, 439.41it/s, accuracy=0.8328, loss=1.6579]\u001b[0m\n"
          ]
        },
        {
          "name": "stdout",
          "output_type": "stream",
          "text": [
            "Epoch: 53/100\n"
          ]
        },
        {
          "name": "stderr",
          "output_type": "stream",
          "text": [
            "100%|\u001b[31m██████████████████████████████\u001b[0m| 938/938 [00:04<00:00, 194.73it/s, accuracy=0.7285, loss=1.7607]\u001b[0m\n",
            "100%|\u001b[32m██████████████████████████████\u001b[0m| 157/157 [00:00<00:00, 427.10it/s, accuracy=0.8369, loss=1.6539]\u001b[0m\n"
          ]
        },
        {
          "name": "stdout",
          "output_type": "stream",
          "text": [
            "Epoch: 54/100\n"
          ]
        },
        {
          "name": "stderr",
          "output_type": "stream",
          "text": [
            "100%|\u001b[31m██████████████████████████████\u001b[0m| 938/938 [00:04<00:00, 191.41it/s, accuracy=0.7333, loss=1.7529]\u001b[0m\n",
            "100%|\u001b[32m██████████████████████████████\u001b[0m| 157/157 [00:00<00:00, 470.92it/s, accuracy=0.8331, loss=1.6543]\u001b[0m\n"
          ]
        },
        {
          "name": "stdout",
          "output_type": "stream",
          "text": [
            "Epoch: 55/100\n"
          ]
        },
        {
          "name": "stderr",
          "output_type": "stream",
          "text": [
            "100%|\u001b[31m██████████████████████████████\u001b[0m| 938/938 [00:04<00:00, 192.86it/s, accuracy=0.7371, loss=1.7488]\u001b[0m\n",
            "100%|\u001b[32m██████████████████████████████\u001b[0m| 157/157 [00:00<00:00, 472.80it/s, accuracy=0.8373, loss=1.6493]\u001b[0m\n"
          ]
        },
        {
          "name": "stdout",
          "output_type": "stream",
          "text": [
            "Epoch: 56/100\n"
          ]
        },
        {
          "name": "stderr",
          "output_type": "stream",
          "text": [
            "100%|\u001b[31m██████████████████████████████\u001b[0m| 938/938 [00:04<00:00, 193.67it/s, accuracy=0.7403, loss=1.7446]\u001b[0m\n",
            "100%|\u001b[32m██████████████████████████████\u001b[0m| 157/157 [00:00<00:00, 476.44it/s, accuracy=0.8382, loss=1.6452]\u001b[0m\n"
          ]
        },
        {
          "name": "stdout",
          "output_type": "stream",
          "text": [
            "Epoch: 57/100\n"
          ]
        },
        {
          "name": "stderr",
          "output_type": "stream",
          "text": [
            "100%|\u001b[31m██████████████████████████████\u001b[0m| 938/938 [00:04<00:00, 194.03it/s, accuracy=0.7464, loss=1.7382]\u001b[0m\n",
            "100%|\u001b[32m██████████████████████████████\u001b[0m| 157/157 [00:00<00:00, 464.09it/s, accuracy=0.8420, loss=1.6401]\u001b[0m\n"
          ]
        },
        {
          "name": "stdout",
          "output_type": "stream",
          "text": [
            "Epoch: 58/100\n"
          ]
        },
        {
          "name": "stderr",
          "output_type": "stream",
          "text": [
            "100%|\u001b[31m██████████████████████████████\u001b[0m| 938/938 [00:04<00:00, 192.87it/s, accuracy=0.7493, loss=1.7341]\u001b[0m\n",
            "100%|\u001b[32m██████████████████████████████\u001b[0m| 157/157 [00:00<00:00, 460.41it/s, accuracy=0.8429, loss=1.6396]\u001b[0m\n"
          ]
        },
        {
          "name": "stdout",
          "output_type": "stream",
          "text": [
            "Epoch: 59/100\n"
          ]
        },
        {
          "name": "stderr",
          "output_type": "stream",
          "text": [
            "100%|\u001b[31m██████████████████████████████\u001b[0m| 938/938 [00:04<00:00, 192.57it/s, accuracy=0.7519, loss=1.7310]\u001b[0m\n",
            "100%|\u001b[32m██████████████████████████████\u001b[0m| 157/157 [00:00<00:00, 469.92it/s, accuracy=0.8433, loss=1.6384]\u001b[0m\n"
          ]
        },
        {
          "name": "stdout",
          "output_type": "stream",
          "text": [
            "Epoch: 60/100\n"
          ]
        },
        {
          "name": "stderr",
          "output_type": "stream",
          "text": [
            "100%|\u001b[31m██████████████████████████████\u001b[0m| 938/938 [00:04<00:00, 194.03it/s, accuracy=0.7560, loss=1.7259]\u001b[0m\n",
            "100%|\u001b[32m██████████████████████████████\u001b[0m| 157/157 [00:00<00:00, 469.44it/s, accuracy=0.8466, loss=1.6348]\u001b[0m\n"
          ]
        },
        {
          "name": "stdout",
          "output_type": "stream",
          "text": [
            "Epoch: 61/100\n"
          ]
        },
        {
          "name": "stderr",
          "output_type": "stream",
          "text": [
            "100%|\u001b[31m██████████████████████████████\u001b[0m| 938/938 [00:04<00:00, 192.99it/s, accuracy=0.7575, loss=1.7232]\u001b[0m\n",
            "100%|\u001b[32m██████████████████████████████\u001b[0m| 157/157 [00:00<00:00, 471.72it/s, accuracy=0.8460, loss=1.6335]\u001b[0m\n"
          ]
        },
        {
          "name": "stdout",
          "output_type": "stream",
          "text": [
            "Epoch: 62/100\n"
          ]
        },
        {
          "name": "stderr",
          "output_type": "stream",
          "text": [
            "100%|\u001b[31m██████████████████████████████\u001b[0m| 938/938 [00:04<00:00, 193.37it/s, accuracy=0.7619, loss=1.7184]\u001b[0m\n",
            "100%|\u001b[32m██████████████████████████████\u001b[0m| 157/157 [00:00<00:00, 463.57it/s, accuracy=0.8462, loss=1.6314]\u001b[0m\n"
          ]
        },
        {
          "name": "stdout",
          "output_type": "stream",
          "text": [
            "Epoch: 63/100\n"
          ]
        },
        {
          "name": "stderr",
          "output_type": "stream",
          "text": [
            "100%|\u001b[31m██████████████████████████████\u001b[0m| 938/938 [00:04<00:00, 192.89it/s, accuracy=0.7671, loss=1.7147]\u001b[0m\n",
            "100%|\u001b[32m██████████████████████████████\u001b[0m| 157/157 [00:00<00:00, 466.09it/s, accuracy=0.8495, loss=1.6298]\u001b[0m\n"
          ]
        },
        {
          "name": "stdout",
          "output_type": "stream",
          "text": [
            "Epoch: 64/100\n"
          ]
        },
        {
          "name": "stderr",
          "output_type": "stream",
          "text": [
            "100%|\u001b[31m██████████████████████████████\u001b[0m| 938/938 [00:04<00:00, 192.37it/s, accuracy=0.7688, loss=1.7115]\u001b[0m\n",
            "100%|\u001b[32m██████████████████████████████\u001b[0m| 157/157 [00:00<00:00, 462.45it/s, accuracy=0.8511, loss=1.6280]\u001b[0m\n"
          ]
        },
        {
          "name": "stdout",
          "output_type": "stream",
          "text": [
            "Epoch: 65/100\n"
          ]
        },
        {
          "name": "stderr",
          "output_type": "stream",
          "text": [
            "100%|\u001b[31m██████████████████████████████\u001b[0m| 938/938 [00:04<00:00, 194.37it/s, accuracy=0.7689, loss=1.7091]\u001b[0m\n",
            "100%|\u001b[32m██████████████████████████████\u001b[0m| 157/157 [00:00<00:00, 469.05it/s, accuracy=0.8513, loss=1.6257]\u001b[0m\n"
          ]
        },
        {
          "name": "stdout",
          "output_type": "stream",
          "text": [
            "Epoch: 66/100\n"
          ]
        },
        {
          "name": "stderr",
          "output_type": "stream",
          "text": [
            "100%|\u001b[31m██████████████████████████████\u001b[0m| 938/938 [00:04<00:00, 192.46it/s, accuracy=0.7735, loss=1.7055]\u001b[0m\n",
            "100%|\u001b[32m██████████████████████████████\u001b[0m| 157/157 [00:00<00:00, 474.32it/s, accuracy=0.8479, loss=1.6271]\u001b[0m\n"
          ]
        },
        {
          "name": "stdout",
          "output_type": "stream",
          "text": [
            "Epoch: 67/100\n"
          ]
        },
        {
          "name": "stderr",
          "output_type": "stream",
          "text": [
            "100%|\u001b[31m██████████████████████████████\u001b[0m| 938/938 [00:04<00:00, 193.48it/s, accuracy=0.7754, loss=1.7029]\u001b[0m\n",
            "100%|\u001b[32m██████████████████████████████\u001b[0m| 157/157 [00:00<00:00, 467.79it/s, accuracy=0.8539, loss=1.6220]\u001b[0m\n"
          ]
        },
        {
          "name": "stdout",
          "output_type": "stream",
          "text": [
            "Epoch: 68/100\n"
          ]
        },
        {
          "name": "stderr",
          "output_type": "stream",
          "text": [
            "100%|\u001b[31m██████████████████████████████\u001b[0m| 938/938 [00:04<00:00, 194.06it/s, accuracy=0.7783, loss=1.7000]\u001b[0m\n",
            "100%|\u001b[32m██████████████████████████████\u001b[0m| 157/157 [00:00<00:00, 474.30it/s, accuracy=0.8550, loss=1.6210]\u001b[0m\n"
          ]
        },
        {
          "name": "stdout",
          "output_type": "stream",
          "text": [
            "Epoch: 69/100\n"
          ]
        },
        {
          "name": "stderr",
          "output_type": "stream",
          "text": [
            "100%|\u001b[31m██████████████████████████████\u001b[0m| 938/938 [00:04<00:00, 194.16it/s, accuracy=0.7820, loss=1.6966]\u001b[0m\n",
            "100%|\u001b[32m██████████████████████████████\u001b[0m| 157/157 [00:00<00:00, 465.09it/s, accuracy=0.8547, loss=1.6208]\u001b[0m\n"
          ]
        },
        {
          "name": "stdout",
          "output_type": "stream",
          "text": [
            "Epoch: 70/100\n"
          ]
        },
        {
          "name": "stderr",
          "output_type": "stream",
          "text": [
            "100%|\u001b[31m██████████████████████████████\u001b[0m| 938/938 [00:04<00:00, 192.72it/s, accuracy=0.7813, loss=1.6965]\u001b[0m\n",
            "100%|\u001b[32m██████████████████████████████\u001b[0m| 157/157 [00:00<00:00, 469.79it/s, accuracy=0.8556, loss=1.6193]\u001b[0m\n"
          ]
        },
        {
          "name": "stdout",
          "output_type": "stream",
          "text": [
            "Epoch: 71/100\n"
          ]
        },
        {
          "name": "stderr",
          "output_type": "stream",
          "text": [
            "100%|\u001b[31m██████████████████████████████\u001b[0m| 938/938 [00:04<00:00, 192.85it/s, accuracy=0.7846, loss=1.6926]\u001b[0m\n",
            "100%|\u001b[32m██████████████████████████████\u001b[0m| 157/157 [00:00<00:00, 449.96it/s, accuracy=0.8575, loss=1.6168]\u001b[0m\n"
          ]
        },
        {
          "name": "stdout",
          "output_type": "stream",
          "text": [
            "Epoch: 72/100\n"
          ]
        },
        {
          "name": "stderr",
          "output_type": "stream",
          "text": [
            "100%|\u001b[31m██████████████████████████████\u001b[0m| 938/938 [00:04<00:00, 193.14it/s, accuracy=0.7873, loss=1.6896]\u001b[0m\n",
            "100%|\u001b[32m██████████████████████████████\u001b[0m| 157/157 [00:00<00:00, 467.66it/s, accuracy=0.8570, loss=1.6162]\u001b[0m\n"
          ]
        },
        {
          "name": "stdout",
          "output_type": "stream",
          "text": [
            "Epoch: 73/100\n"
          ]
        },
        {
          "name": "stderr",
          "output_type": "stream",
          "text": [
            "100%|\u001b[31m██████████████████████████████\u001b[0m| 938/938 [00:05<00:00, 183.05it/s, accuracy=0.7883, loss=1.6881]\u001b[0m\n",
            "100%|\u001b[32m██████████████████████████████\u001b[0m| 157/157 [00:00<00:00, 439.08it/s, accuracy=0.8579, loss=1.6146]\u001b[0m\n"
          ]
        },
        {
          "name": "stdout",
          "output_type": "stream",
          "text": [
            "Epoch: 74/100\n"
          ]
        },
        {
          "name": "stderr",
          "output_type": "stream",
          "text": [
            "100%|\u001b[31m██████████████████████████████\u001b[0m| 938/938 [00:04<00:00, 193.56it/s, accuracy=0.7882, loss=1.6877]\u001b[0m\n",
            "100%|\u001b[32m██████████████████████████████\u001b[0m| 157/157 [00:00<00:00, 429.35it/s, accuracy=0.8573, loss=1.6150]\u001b[0m\n"
          ]
        },
        {
          "name": "stdout",
          "output_type": "stream",
          "text": [
            "Epoch: 75/100\n"
          ]
        },
        {
          "name": "stderr",
          "output_type": "stream",
          "text": [
            "100%|\u001b[31m██████████████████████████████\u001b[0m| 938/938 [00:04<00:00, 193.46it/s, accuracy=0.7906, loss=1.6854]\u001b[0m\n",
            "100%|\u001b[32m██████████████████████████████\u001b[0m| 157/157 [00:00<00:00, 432.93it/s, accuracy=0.8596, loss=1.6129]\u001b[0m\n"
          ]
        },
        {
          "name": "stdout",
          "output_type": "stream",
          "text": [
            "Epoch: 76/100\n"
          ]
        },
        {
          "name": "stderr",
          "output_type": "stream",
          "text": [
            "100%|\u001b[31m██████████████████████████████\u001b[0m| 938/938 [00:04<00:00, 193.17it/s, accuracy=0.7917, loss=1.6833]\u001b[0m\n",
            "100%|\u001b[32m██████████████████████████████\u001b[0m| 157/157 [00:00<00:00, 457.26it/s, accuracy=0.8591, loss=1.6129]\u001b[0m\n"
          ]
        },
        {
          "name": "stdout",
          "output_type": "stream",
          "text": [
            "Epoch: 77/100\n"
          ]
        },
        {
          "name": "stderr",
          "output_type": "stream",
          "text": [
            "100%|\u001b[31m██████████████████████████████\u001b[0m| 938/938 [00:04<00:00, 192.22it/s, accuracy=0.7944, loss=1.6807]\u001b[0m\n",
            "100%|\u001b[32m██████████████████████████████\u001b[0m| 157/157 [00:00<00:00, 468.97it/s, accuracy=0.8628, loss=1.6109]\u001b[0m\n"
          ]
        },
        {
          "name": "stdout",
          "output_type": "stream",
          "text": [
            "Epoch: 78/100\n"
          ]
        },
        {
          "name": "stderr",
          "output_type": "stream",
          "text": [
            "100%|\u001b[31m██████████████████████████████\u001b[0m| 938/938 [00:04<00:00, 192.39it/s, accuracy=0.7990, loss=1.6764]\u001b[0m\n",
            "100%|\u001b[32m██████████████████████████████\u001b[0m| 157/157 [00:00<00:00, 420.09it/s, accuracy=0.8612, loss=1.6099]\u001b[0m\n"
          ]
        },
        {
          "name": "stdout",
          "output_type": "stream",
          "text": [
            "Epoch: 79/100\n"
          ]
        },
        {
          "name": "stderr",
          "output_type": "stream",
          "text": [
            "100%|\u001b[31m██████████████████████████████\u001b[0m| 938/938 [00:04<00:00, 192.49it/s, accuracy=0.7972, loss=1.6779]\u001b[0m\n",
            "100%|\u001b[32m██████████████████████████████\u001b[0m| 157/157 [00:00<00:00, 467.70it/s, accuracy=0.8607, loss=1.6113]\u001b[0m\n"
          ]
        },
        {
          "name": "stdout",
          "output_type": "stream",
          "text": [
            "Epoch: 80/100\n"
          ]
        },
        {
          "name": "stderr",
          "output_type": "stream",
          "text": [
            "100%|\u001b[31m██████████████████████████████\u001b[0m| 938/938 [00:04<00:00, 190.30it/s, accuracy=0.8001, loss=1.6744]\u001b[0m\n",
            "100%|\u001b[32m██████████████████████████████\u001b[0m| 157/157 [00:00<00:00, 472.07it/s, accuracy=0.8644, loss=1.6083]\u001b[0m\n"
          ]
        },
        {
          "name": "stdout",
          "output_type": "stream",
          "text": [
            "Epoch: 81/100\n"
          ]
        },
        {
          "name": "stderr",
          "output_type": "stream",
          "text": [
            "100%|\u001b[31m██████████████████████████████\u001b[0m| 938/938 [00:04<00:00, 193.13it/s, accuracy=0.8000, loss=1.6743]\u001b[0m\n",
            "100%|\u001b[32m██████████████████████████████\u001b[0m| 157/157 [00:00<00:00, 456.24it/s, accuracy=0.8623, loss=1.6084]\u001b[0m\n"
          ]
        },
        {
          "name": "stdout",
          "output_type": "stream",
          "text": [
            "Epoch: 82/100\n"
          ]
        },
        {
          "name": "stderr",
          "output_type": "stream",
          "text": [
            "100%|\u001b[31m██████████████████████████████\u001b[0m| 938/938 [00:04<00:00, 192.58it/s, accuracy=0.8018, loss=1.6726]\u001b[0m\n",
            "100%|\u001b[32m██████████████████████████████\u001b[0m| 157/157 [00:00<00:00, 470.32it/s, accuracy=0.8609, loss=1.6098]\u001b[0m\n"
          ]
        },
        {
          "name": "stdout",
          "output_type": "stream",
          "text": [
            "Epoch: 83/100\n"
          ]
        },
        {
          "name": "stderr",
          "output_type": "stream",
          "text": [
            "100%|\u001b[31m██████████████████████████████\u001b[0m| 938/938 [00:04<00:00, 193.15it/s, accuracy=0.8038, loss=1.6702]\u001b[0m\n",
            "100%|\u001b[32m██████████████████████████████\u001b[0m| 157/157 [00:00<00:00, 468.85it/s, accuracy=0.8620, loss=1.6078]\u001b[0m\n"
          ]
        },
        {
          "name": "stdout",
          "output_type": "stream",
          "text": [
            "Epoch: 84/100\n"
          ]
        },
        {
          "name": "stderr",
          "output_type": "stream",
          "text": [
            "100%|\u001b[31m██████████████████████████████\u001b[0m| 938/938 [00:04<00:00, 192.42it/s, accuracy=0.8043, loss=1.6697]\u001b[0m\n",
            "100%|\u001b[32m██████████████████████████████\u001b[0m| 157/157 [00:00<00:00, 472.73it/s, accuracy=0.8627, loss=1.6068]\u001b[0m\n"
          ]
        },
        {
          "name": "stdout",
          "output_type": "stream",
          "text": [
            "Epoch: 85/100\n"
          ]
        },
        {
          "name": "stderr",
          "output_type": "stream",
          "text": [
            "100%|\u001b[31m██████████████████████████████\u001b[0m| 938/938 [00:04<00:00, 192.40it/s, accuracy=0.8065, loss=1.6667]\u001b[0m\n",
            "100%|\u001b[32m██████████████████████████████\u001b[0m| 157/157 [00:00<00:00, 455.30it/s, accuracy=0.8629, loss=1.6063]\u001b[0m\n"
          ]
        },
        {
          "name": "stdout",
          "output_type": "stream",
          "text": [
            "Epoch: 86/100\n"
          ]
        },
        {
          "name": "stderr",
          "output_type": "stream",
          "text": [
            "100%|\u001b[31m██████████████████████████████\u001b[0m| 938/938 [00:04<00:00, 192.12it/s, accuracy=0.8069, loss=1.6664]\u001b[0m\n",
            "100%|\u001b[32m██████████████████████████████\u001b[0m| 157/157 [00:00<00:00, 469.48it/s, accuracy=0.8643, loss=1.6045]\u001b[0m\n"
          ]
        },
        {
          "name": "stdout",
          "output_type": "stream",
          "text": [
            "Epoch: 87/100\n"
          ]
        },
        {
          "name": "stderr",
          "output_type": "stream",
          "text": [
            "100%|\u001b[31m██████████████████████████████\u001b[0m| 938/938 [00:04<00:00, 192.94it/s, accuracy=0.8093, loss=1.6638]\u001b[0m\n",
            "100%|\u001b[32m██████████████████████████████\u001b[0m| 157/157 [00:00<00:00, 461.51it/s, accuracy=0.8647, loss=1.6048]\u001b[0m\n"
          ]
        },
        {
          "name": "stdout",
          "output_type": "stream",
          "text": [
            "Epoch: 88/100\n"
          ]
        },
        {
          "name": "stderr",
          "output_type": "stream",
          "text": [
            "100%|\u001b[31m██████████████████████████████\u001b[0m| 938/938 [00:04<00:00, 192.63it/s, accuracy=0.8102, loss=1.6629]\u001b[0m\n",
            "100%|\u001b[32m██████████████████████████████\u001b[0m| 157/157 [00:00<00:00, 469.32it/s, accuracy=0.8653, loss=1.6030]\u001b[0m\n"
          ]
        },
        {
          "name": "stdout",
          "output_type": "stream",
          "text": [
            "Epoch: 89/100\n"
          ]
        },
        {
          "name": "stderr",
          "output_type": "stream",
          "text": [
            "100%|\u001b[31m██████████████████████████████\u001b[0m| 938/938 [00:04<00:00, 192.89it/s, accuracy=0.8110, loss=1.6622]\u001b[0m\n",
            "100%|\u001b[32m██████████████████████████████\u001b[0m| 157/157 [00:00<00:00, 466.72it/s, accuracy=0.8653, loss=1.6028]\u001b[0m\n"
          ]
        },
        {
          "name": "stdout",
          "output_type": "stream",
          "text": [
            "Epoch: 90/100\n"
          ]
        },
        {
          "name": "stderr",
          "output_type": "stream",
          "text": [
            "100%|\u001b[31m██████████████████████████████\u001b[0m| 938/938 [00:05<00:00, 179.55it/s, accuracy=0.8122, loss=1.6604]\u001b[0m\n",
            "100%|\u001b[32m██████████████████████████████\u001b[0m| 157/157 [00:00<00:00, 471.74it/s, accuracy=0.8652, loss=1.6029]\u001b[0m\n"
          ]
        },
        {
          "name": "stdout",
          "output_type": "stream",
          "text": [
            "Epoch: 91/100\n"
          ]
        },
        {
          "name": "stderr",
          "output_type": "stream",
          "text": [
            "100%|\u001b[31m██████████████████████████████\u001b[0m| 938/938 [00:05<00:00, 185.70it/s, accuracy=0.8104, loss=1.6615]\u001b[0m\n",
            "100%|\u001b[32m██████████████████████████████\u001b[0m| 157/157 [00:00<00:00, 471.59it/s, accuracy=0.8648, loss=1.6020]\u001b[0m\n"
          ]
        },
        {
          "name": "stdout",
          "output_type": "stream",
          "text": [
            "Epoch: 92/100\n"
          ]
        },
        {
          "name": "stderr",
          "output_type": "stream",
          "text": [
            "100%|\u001b[31m██████████████████████████████\u001b[0m| 938/938 [00:04<00:00, 191.22it/s, accuracy=0.8143, loss=1.6580]\u001b[0m\n",
            "100%|\u001b[32m██████████████████████████████\u001b[0m| 157/157 [00:00<00:00, 472.59it/s, accuracy=0.8667, loss=1.6009]\u001b[0m\n"
          ]
        },
        {
          "name": "stdout",
          "output_type": "stream",
          "text": [
            "Epoch: 93/100\n"
          ]
        },
        {
          "name": "stderr",
          "output_type": "stream",
          "text": [
            "100%|\u001b[31m██████████████████████████████\u001b[0m| 938/938 [00:04<00:00, 193.34it/s, accuracy=0.8149, loss=1.6569]\u001b[0m\n",
            "100%|\u001b[32m██████████████████████████████\u001b[0m| 157/157 [00:00<00:00, 461.90it/s, accuracy=0.8674, loss=1.5998]\u001b[0m\n"
          ]
        },
        {
          "name": "stdout",
          "output_type": "stream",
          "text": [
            "Epoch: 94/100\n"
          ]
        },
        {
          "name": "stderr",
          "output_type": "stream",
          "text": [
            "100%|\u001b[31m██████████████████████████████\u001b[0m| 938/938 [00:04<00:00, 190.51it/s, accuracy=0.8173, loss=1.6555]\u001b[0m\n",
            "100%|\u001b[32m██████████████████████████████\u001b[0m| 157/157 [00:00<00:00, 458.80it/s, accuracy=0.8663, loss=1.6014]\u001b[0m\n"
          ]
        },
        {
          "name": "stdout",
          "output_type": "stream",
          "text": [
            "Epoch: 95/100\n"
          ]
        },
        {
          "name": "stderr",
          "output_type": "stream",
          "text": [
            "100%|\u001b[31m██████████████████████████████\u001b[0m| 938/938 [00:05<00:00, 161.19it/s, accuracy=0.8168, loss=1.6553]\u001b[0m\n",
            "100%|\u001b[32m██████████████████████████████\u001b[0m| 157/157 [00:00<00:00, 390.59it/s, accuracy=0.8659, loss=1.6007]\u001b[0m\n"
          ]
        },
        {
          "name": "stdout",
          "output_type": "stream",
          "text": [
            "Epoch: 96/100\n"
          ]
        },
        {
          "name": "stderr",
          "output_type": "stream",
          "text": [
            "100%|\u001b[31m██████████████████████████████\u001b[0m| 938/938 [00:05<00:00, 174.85it/s, accuracy=0.8180, loss=1.6539]\u001b[0m\n",
            "100%|\u001b[32m██████████████████████████████\u001b[0m| 157/157 [00:00<00:00, 474.41it/s, accuracy=0.8681, loss=1.5997]\u001b[0m\n"
          ]
        },
        {
          "name": "stdout",
          "output_type": "stream",
          "text": [
            "Epoch: 97/100\n"
          ]
        },
        {
          "name": "stderr",
          "output_type": "stream",
          "text": [
            "100%|\u001b[31m██████████████████████████████\u001b[0m| 938/938 [00:05<00:00, 168.80it/s, accuracy=0.8178, loss=1.6531]\u001b[0m\n",
            "100%|\u001b[32m██████████████████████████████\u001b[0m| 157/157 [00:00<00:00, 472.48it/s, accuracy=0.8677, loss=1.5985]\u001b[0m\n"
          ]
        },
        {
          "name": "stdout",
          "output_type": "stream",
          "text": [
            "Epoch: 98/100\n"
          ]
        },
        {
          "name": "stderr",
          "output_type": "stream",
          "text": [
            "100%|\u001b[31m██████████████████████████████\u001b[0m| 938/938 [00:04<00:00, 193.93it/s, accuracy=0.8188, loss=1.6526]\u001b[0m\n",
            "100%|\u001b[32m██████████████████████████████\u001b[0m| 157/157 [00:00<00:00, 447.67it/s, accuracy=0.8668, loss=1.5986]\u001b[0m\n"
          ]
        },
        {
          "name": "stdout",
          "output_type": "stream",
          "text": [
            "Epoch: 99/100\n"
          ]
        },
        {
          "name": "stderr",
          "output_type": "stream",
          "text": [
            "100%|\u001b[31m██████████████████████████████\u001b[0m| 938/938 [00:04<00:00, 200.07it/s, accuracy=0.8182, loss=1.6527]\u001b[0m\n",
            "100%|\u001b[32m██████████████████████████████\u001b[0m| 157/157 [00:00<00:00, 469.84it/s, accuracy=0.8691, loss=1.5975]\u001b[0m\n"
          ]
        },
        {
          "name": "stdout",
          "output_type": "stream",
          "text": [
            "Epoch: 100/100\n"
          ]
        },
        {
          "name": "stderr",
          "output_type": "stream",
          "text": [
            "100%|\u001b[31m██████████████████████████████\u001b[0m| 938/938 [00:04<00:00, 189.96it/s, accuracy=0.8217, loss=1.6499]\u001b[0m\n",
            "100%|\u001b[32m██████████████████████████████\u001b[0m| 157/157 [00:00<00:00, 475.05it/s, accuracy=0.8660, loss=1.6026]\u001b[0m\n"
          ]
        }
      ],
      "source": [
        "net2, history2 = test_or_train(\n",
        "    net2,\n",
        "    train_loader,\n",
        "    test_loader,\n",
        "    loss_fn,\n",
        "    metric,\n",
        "    optimizer2,\n",
        "    update_period=5,\n",
        "    epoch_max=100,\n",
        "    device=device,\n",
        "    mode=\"both\",\n",
        "    early_stopping_accuracy=0.98,\n",
        ")"
      ]
    },
    {
      "cell_type": "code",
      "execution_count": 21,
      "metadata": {},
      "outputs": [
        {
          "name": "stdout",
          "output_type": "stream",
          "text": [
            "+--------------------+---------------------+--------------------+----------+\n",
            "|     loss_train     |      acc_train      |     loss_test      | acc_test |\n",
            "+--------------------+---------------------+--------------------+----------+\n",
            "| 2.3023917994181313 | 0.11323333333333334 | 2.3015937885284425 |  0.1276  |\n",
            "| 2.301779421488444  | 0.12786666666666666 | 2.3004300525665284 |  0.1411  |\n",
            "| 2.301105199686686  | 0.12621666666666667 | 2.299012487792969  |  0.1157  |\n",
            "| 2.300234745279948  | 0.10966666666666666 | 2.297085223007202  |  0.0997  |\n",
            "| 2.2989735811869303 |       0.0999        | 2.2939566635131836 |  0.098   |\n",
            "| 2.2967103847503663 | 0.09873333333333334 | 2.2872416290283204 |  0.098   |\n",
            "| 2.291719249725342  | 0.09871666666666666 | 2.2726911727905272 |  0.098   |\n",
            "| 2.2843660423278807 | 0.10476666666666666 | 2.2576027240753174 |  0.1703  |\n",
            "| 2.277094981002808  | 0.14411666666666667 | 2.2443132095336913 |  0.2138  |\n",
            "| 2.269759626261393  | 0.17028333333333334 | 2.233527021026611  |  0.2413  |\n",
            "| 2.2631625747680664 |       0.18615       | 2.224640707397461  |  0.2526  |\n",
            "| 2.2553498407999673 | 0.19888333333333333 | 2.2138193153381347 |  0.2598  |\n",
            "| 2.246927773920695  | 0.21073333333333333 | 2.197453458404541  |  0.262   |\n",
            "| 2.2338521931966144 | 0.22133333333333333 | 2.1702111965179443 |  0.2765  |\n",
            "| 2.2170833276112876 |       0.23645       | 2.141159670257568  |  0.3091  |\n",
            "| 2.195816873041789  | 0.2620166666666667  |  2.10979799156189  |  0.3618  |\n",
            "| 2.1739661933898926 | 0.29801666666666665 | 2.0757017070770263 |  0.4212  |\n",
            "| 2.149686218770345  | 0.33513333333333334 | 2.036761261367798  |  0.4899  |\n",
            "| 2.1274956385294597 | 0.3612166666666667  | 1.9996891317367553 |  0.5266  |\n",
            "| 2.1027778367360432 | 0.39986666666666665 | 1.9622000730514526 |  0.5783  |\n",
            "|  2.08357397702535  |       0.41575       | 1.9382757385253906 |  0.5879  |\n",
            "| 2.0657051109313964 |       0.4271        | 1.9164779043197633 |  0.5999  |\n",
            "| 2.0502357849121093 |       0.4388        | 1.8985953496932984 |  0.6068  |\n",
            "| 2.0400845144907636 | 0.4433666666666667  | 1.8888752071380615 |  0.6091  |\n",
            "| 2.029832869974772  | 0.4518333333333333  | 1.881192015838623  |  0.6118  |\n",
            "| 2.020633637491862  | 0.45868333333333333 | 1.8742718015670776 |  0.6147  |\n",
            "| 2.0117791975657147 |       0.46675       | 1.8662612926483155 |  0.6169  |\n",
            "| 2.004992022387187  | 0.4717166666666667  | 1.852794076538086  |  0.6262  |\n",
            "| 1.9968504940032958 | 0.4816666666666667  | 1.8283619041442871 |  0.6718  |\n",
            "| 1.9846370325724283 | 0.4977666666666667  | 1.810757007408142  |  0.6953  |\n",
            "| 1.9726618200937907 | 0.5093166666666666  | 1.7988089021682738 |  0.7032  |\n",
            "| 1.9616771308898926 | 0.5202333333333333  | 1.788227031135559  |   0.71   |\n",
            "| 1.9494058584213256 | 0.5333166666666667  | 1.785608842086792  |  0.7089  |\n",
            "| 1.938273152669271  |       0.54365       | 1.7775830883026122 |  0.716   |\n",
            "| 1.9302074719111124 | 0.5521166666666667  | 1.7745666666030884 |  0.7181  |\n",
            "| 1.9197937030792236 |       0.5609        | 1.770523743247986  |  0.7189  |\n",
            "| 1.912576283899943  |       0.56895       | 1.767826984024048  |  0.7217  |\n",
            "| 1.9031891501108806 | 0.5777333333333333  | 1.7619387874603272 |  0.7264  |\n",
            "| 1.8976596705118816 | 0.5819333333333333  | 1.7578776252746582 |   0.73   |\n",
            "| 1.8859897172927858 | 0.5946666666666667  | 1.7533020643234254 |  0.7351  |\n",
            "| 1.8756669408798219 | 0.6038833333333333  | 1.7473428983688355 |  0.7398  |\n",
            "| 1.8685280645370483 | 0.6108666666666667  | 1.7478581304550171 |  0.7371  |\n",
            "| 1.8588582169850667 | 0.6220833333333333  | 1.741906698036194  |  0.7438  |\n",
            "| 1.8498946297963461 |       0.62945       | 1.7304668962478638 |  0.7471  |\n",
            "| 1.8334701229731243 | 0.6612166666666667  | 1.7035838775634766 |  0.8135  |\n",
            "| 1.8189258522669474 |       0.6784        | 1.6926774543762206 |  0.8199  |\n",
            "| 1.8095341126124065 | 0.6851666666666667  | 1.6874780223846435 |  0.8174  |\n",
            "| 1.797077129236857  | 0.6968166666666666  | 1.6799101720809937 |  0.8216  |\n",
            "|  1.78806405321757  | 0.7055833333333333  | 1.6721400651931764 |  0.8267  |\n",
            "| 1.7817921817143758 | 0.7095666666666667  | 1.6679342073440553 |  0.8298  |\n",
            "| 1.7728199191411336 | 0.7180666666666666  | 1.6629396572113038 |  0.8304  |\n",
            "| 1.7651949092229207 | 0.7228166666666667  | 1.6579278593063353 |  0.8328  |\n",
            "| 1.760677334022522  | 0.7285166666666667  | 1.6539058145523071 |  0.8369  |\n",
            "| 1.7529308547973632 |       0.7333        | 1.6542914155960082 |  0.8331  |\n",
            "| 1.7487792910893758 | 0.7370833333333333  | 1.6492848066329957 |  0.8373  |\n",
            "| 1.7446007921854656 | 0.7403166666666666  | 1.6452130805969238 |  0.8382  |\n",
            "| 1.7381847756067912 | 0.7464333333333333  | 1.6401126943588258 |  0.842   |\n",
            "| 1.7340990405400594 | 0.7493166666666666  | 1.6395992765426635 |  0.8429  |\n",
            "| 1.731024103609721  | 0.7519166666666667  | 1.6384345928192139 |  0.8433  |\n",
            "| 1.7259252298355103 |       0.75605       | 1.6348146808624267 |  0.8466  |\n",
            "| 1.7231981597264607 |       0.7575        | 1.6335084999084473 |  0.846   |\n",
            "| 1.7184376949946085 |       0.76185       | 1.6313756980895997 |  0.8462  |\n",
            "| 1.714709228960673  |       0.7671        | 1.629794972229004  |  0.8495  |\n",
            "| 1.7114928155263265 | 0.7688333333333334  | 1.628007110595703  |  0.8511  |\n",
            "| 1.7090858845392862 | 0.7688666666666667  | 1.6257491724014281 |  0.8513  |\n",
            "| 1.7055176521937052 | 0.7734833333333333  | 1.6271148765563965 |  0.8479  |\n",
            "| 1.7028684744517009 | 0.7754166666666666  | 1.6220443759918213 |  0.8539  |\n",
            "| 1.7000056770324707 |       0.7783        | 1.620961150741577  |  0.855   |\n",
            "| 1.6965951473236085 | 0.7820333333333334  | 1.6208162227630616 |  0.8547  |\n",
            "| 1.6964880917867025 |       0.78135       | 1.6193018367767333 |  0.8556  |\n",
            "| 1.6926296309789022 | 0.7845666666666666  | 1.6168323093414307 |  0.8575  |\n",
            "| 1.6896281602223715 |       0.78725       | 1.6162059545516967 |  0.857   |\n",
            "| 1.6881227117538453 |       0.78825       | 1.6146186946868897 |  0.8579  |\n",
            "| 1.6876972617467245 | 0.7881666666666667  | 1.6150481632232665 |  0.8573  |\n",
            "| 1.6853521058400471 | 0.7906166666666666  | 1.612942784500122  |  0.8596  |\n",
            "| 1.6833227584203085 |       0.7917        | 1.6128609712600708 |  0.8591  |\n",
            "| 1.6806547307332356 |       0.79435       | 1.610928844833374  |  0.8628  |\n",
            "| 1.6763857836405436 | 0.7990333333333334  | 1.6098757152557372 |  0.8612  |\n",
            "| 1.6779367630004882 | 0.7972333333333333  | 1.611296816444397  |  0.8607  |\n",
            "| 1.6743898506800334 | 0.8001333333333334  | 1.6082801803588866 |  0.8644  |\n",
            "| 1.6742977463404338 |         0.8         | 1.608447886276245  |  0.8623  |\n",
            "| 1.672567369969686  | 0.8017666666666666  | 1.6097805156707763 |  0.8609  |\n",
            "| 1.6701994068145751 |       0.8038        | 1.607767364692688  |  0.862   |\n",
            "| 1.6696795998891194 | 0.8042833333333334  | 1.6067954328536986 |  0.8627  |\n",
            "| 1.6666988358179728 | 0.8064833333333333  | 1.6063465614318848 |  0.8629  |\n",
            "| 1.6664206731796265 | 0.8069166666666666  | 1.6045262624740602 |  0.8643  |\n",
            "| 1.6637693227767945 |       0.80925       |  1.60480203666687  |  0.8647  |\n",
            "| 1.662858319536845  | 0.8101666666666667  | 1.6029749931335449 |  0.8653  |\n",
            "| 1.6622229460398357 |        0.811        | 1.602805283164978  |  0.8653  |\n",
            "| 1.660368582979838  | 0.8122166666666667  | 1.6029315828323365 |  0.8652  |\n",
            "| 1.661468242963155  | 0.8104166666666667  | 1.6020055009841918 |  0.8648  |\n",
            "| 1.6579865900675457 | 0.8142666666666667  | 1.6009479763031005 |  0.8667  |\n",
            "| 1.6568754144032796 | 0.8149333333333333  | 1.5998276706695556 |  0.8674  |\n",
            "| 1.655471849822998  | 0.8173166666666667  | 1.6014277215957642 |  0.8663  |\n",
            "| 1.6553486333847045 |       0.81685       | 1.6007486192703246 |  0.8659  |\n",
            "| 1.6538977573394775 | 0.8179833333333333  | 1.599662559890747  |  0.8681  |\n",
            "| 1.6531105925242107 | 0.8177666666666666  | 1.598543883895874  |  0.8677  |\n",
            "| 1.6526153662363687 |       0.81885       | 1.5986144170761107 |  0.8668  |\n",
            "| 1.652674685160319  | 0.8181666666666667  | 1.5974585599899291 |  0.8691  |\n",
            "| 1.6499494305928548 | 0.8217333333333333  | 1.602588733291626  |  0.866   |\n",
            "+--------------------+---------------------+--------------------+----------+\n"
          ]
        }
      ],
      "source": [
        "headers = history2.keys()\n",
        "rows = zip(*history2.values())\n",
        "print(tabulate(rows, headers=headers, tablefmt=\"pretty\"))"
      ]
    },
    {
      "cell_type": "code",
      "execution_count": 22,
      "metadata": {},
      "outputs": [
        {
          "data": {
            "image/png": "[encoded data removed]",
            "text/plain": [
              "<Figure size 1200x500 with 2 Axes>"
            ]
          },
          "metadata": {},
          "output_type": "display_data"
        }
      ],
      "source": [
        "epochs = range(1, len(history2[\"loss_train\"]) + 1)\n",
        "draw_loss_test(epochs, history2)"
      ]
    },
    {
      "cell_type": "code",
      "execution_count": null,
      "metadata": {
        "id": "H49386vobZUj"
      },
      "outputs": [],
      "source": [
        "net, history = training(\n",
        "    net,\n",
        "    train_loader,\n",
        "    test_loader,\n",
        "    loss_fn,\n",
        "    metric,\n",
        "    optimizer,\n",
        "    update_period=5,\n",
        "    epoch_max=100,\n",
        "    device=device,\n",
        "    early_stopping_accuracy=0.98\n",
        ")"
      ]
    },
    {
      "cell_type": "code",
      "execution_count": 27,
      "metadata": {},
      "outputs": [
        {
          "name": "stdout",
          "output_type": "stream",
          "text": [
            "+--------------------+---------------------+--------------------+----------+\n",
            "|     loss_train     |      acc_train      |     loss_test      | acc_test |\n",
            "+--------------------+---------------------+--------------------+----------+\n",
            "| 2.302253891372681  | 0.11513333333333334 | 2.3015244480133057 |  0.1905  |\n",
            "| 2.3015840198516844 |       0.1659        | 2.300276218032837  |  0.2611  |\n",
            "| 2.300844240442912  | 0.16923333333333335 | 2.2987437141418456 |  0.217   |\n",
            "|  2.29984623743693  | 0.13713333333333333 | 2.2966318099975584 |  0.137   |\n",
            "| 2.2984486667633055 | 0.10833333333333334 | 2.2932555164337156 |  0.1096  |\n",
            "| 2.2958373302459716 |       0.10065       | 2.2861803852081297 |  0.0988  |\n",
            "| 2.290309753545125  | 0.09903333333333333 | 2.2713675563812257 |  0.0989  |\n",
            "| 2.282408146540324  | 0.11401666666666667 | 2.2551241802215576 |  0.1885  |\n",
            "| 2.274461056772868  |       0.1557        | 2.2402670627593992 |  0.2304  |\n",
            "| 2.2661020184834797 | 0.18236666666666668 | 2.226756703186035  |  0.2549  |\n",
            "| 2.2579274979909263 |       0.2041        | 2.2117916984558104 |   0.27   |\n",
            "| 2.246191771952311  | 0.22096666666666667 | 2.188144364929199  |  0.2797  |\n",
            "| 2.2321220471700034 |       0.22765       | 2.1603829486846924 |  0.2811  |\n",
            "| 2.214310261408488  |       0.23635       | 2.1322396579742433 |  0.3105  |\n",
            "| 2.195043679936727  | 0.2673333333333333  | 2.1030152755737306 |  0.3761  |\n",
            "| 2.171557197189331  | 0.30548333333333333 | 2.0693416980743407 |  0.4537  |\n",
            "| 2.1495066078186036 | 0.34176666666666666 | 2.032821955490112  |  0.5003  |\n",
            "| 2.125733141454061  |       0.36795       | 1.9980935123443604 |  0.5231  |\n",
            "| 2.107855320549011  |       0.38155       | 1.972504916191101  |  0.5324  |\n",
            "| 2.089513953145345  | 0.39476666666666665 | 1.9505500785827636 |  0.5425  |\n",
            "| 2.077560060755412  | 0.40123333333333333 | 1.9338432062149047 |  0.5478  |\n",
            "| 2.0644258569081626 | 0.41318333333333335 | 1.9105321641921997 |  0.5792  |\n",
            "| 2.051775353240967  | 0.42678333333333335 | 1.886344721031189  |  0.6171  |\n",
            "| 2.0395387331644694 | 0.43783333333333335 | 1.8686718469619752 |  0.6237  |\n",
            "|  2.02718345896403  | 0.45243333333333335 | 1.845398878288269  |  0.6784  |\n",
            "| 2.012774441019694  | 0.47103333333333336 | 1.831066000556946  |  0.6865  |\n",
            "| 2.0012552225748697 | 0.48278333333333334 | 1.820034048652649  |  0.6917  |\n",
            "| 1.9900975998560588 | 0.4942166666666667  | 1.8101621887207031 |  0.698   |\n",
            "| 1.9806062050501505 | 0.5026833333333334  | 1.8058312572479247 |  0.6989  |\n",
            "| 1.9696693993886312 | 0.5134166666666666  | 1.7973448667526246 |  0.703   |\n",
            "| 1.9600650800704955 | 0.5215166666666666  | 1.7917962175369262 |  0.7092  |\n",
            "| 1.9525055934270223 | 0.5281333333333333  | 1.784802610397339  |  0.7122  |\n",
            "| 1.942646544011434  |       0.53835       | 1.7837140434265137 |  0.7116  |\n",
            "| 1.9323185910542806 | 0.5486333333333333  | 1.7763620609283448 |  0.7173  |\n",
            "| 1.924548531850179  |       0.55535       | 1.7726523147583009 |  0.7222  |\n",
            "| 1.9151218688964844 | 0.5648333333333333  | 1.7691554153442384 |  0.7247  |\n",
            "| 1.9070255125045776 | 0.5748833333333333  | 1.7650784734725953 |  0.7288  |\n",
            "| 1.8973816565831503 | 0.5829166666666666  | 1.7597935619354248 |  0.7316  |\n",
            "| 1.8892160735448202 |       0.59315       | 1.7547349527359009 |  0.7368  |\n",
            "| 1.8795310118993123 | 0.6014833333333334  | 1.7530566568374635 |  0.7368  |\n",
            "| 1.8691610275268555 | 0.6125666666666667  | 1.7487932538986206 |  0.7379  |\n",
            "| 1.862936517270406  | 0.6184666666666667  | 1.7470100233078003 |  0.7393  |\n",
            "| 1.8532951913833617 | 0.6287666666666667  |  1.74525532207489  |  0.7386  |\n",
            "| 1.8465696384429933 | 0.6353166666666666  | 1.741640721130371  |  0.7417  |\n",
            "| 1.8415825243631998 | 0.6397166666666667  | 1.7383205612182617 |  0.7448  |\n",
            "| 1.8340559964497885 | 0.6462166666666667  |  1.73600588722229  |  0.7467  |\n",
            "| 1.8300407899220785 | 0.6486833333333333  | 1.7332159881591798 |  0.7476  |\n",
            "| 1.8217039003372193 | 0.6572833333333333  | 1.7296825006484986 |  0.7495  |\n",
            "| 1.8161588084538778 |       0.6636        | 1.726840637397766  |  0.751   |\n",
            "| 1.8118267523447673 |       0.66705       | 1.7245335115432738 |  0.7527  |\n",
            "| 1.807637751897176  | 0.6697166666666666  | 1.7231371269226075 |  0.754   |\n",
            "| 1.8018449128468832 | 0.6755833333333333  | 1.721068071937561  |  0.7543  |\n",
            "| 1.7996356215159097 | 0.6776666666666666  | 1.7185642642974854 |  0.7573  |\n",
            "| 1.7941316501617433 | 0.6825333333333333  | 1.718650922203064  |  0.7547  |\n",
            "| 1.7921761681874593 | 0.6845833333333333  | 1.7142424886703491 |   0.76   |\n",
            "| 1.7888977373758952 | 0.6861333333333334  | 1.7142597557067871 |  0.7592  |\n",
            "| 1.7845726915359497 |       0.69075       | 1.7111425048828126 |  0.762   |\n",
            "| 1.782200001525879  | 0.6927166666666666  | 1.7108277946472168 |  0.7616  |\n",
            "| 1.780063365618388  | 0.6948333333333333  | 1.7093623094558716 |  0.7616  |\n",
            "| 1.7777117013295491 | 0.6958833333333333  | 1.7076313745498657 |  0.7636  |\n",
            "| 1.775894584274292  | 0.6976333333333333  | 1.7059596210479737 |  0.7648  |\n",
            "| 1.7717196739196777 |       0.7012        |  1.70550514087677  |  0.7652  |\n",
            "| 1.7699199912389119 | 0.7036666666666667  | 1.7042118900299073 |  0.766   |\n",
            "| 1.7660190184911093 | 0.7076166666666667  |  1.70364856300354  |  0.7658  |\n",
            "| 1.7655882168451944 | 0.7071166666666666  | 1.7010777143478393 |  0.7684  |\n",
            "| 1.7634079926172892 | 0.7098833333333333  | 1.7019110918045044 |  0.7674  |\n",
            "| 1.7615486763636272 | 0.7100666666666666  | 1.6993078481674195 |  0.7701  |\n",
            "| 1.7595406878789266 | 0.7128666666666666  | 1.6986120492935182 |  0.7705  |\n",
            "| 1.7562510000864664 | 0.7151833333333333  | 1.6978486322402955 |  0.7714  |\n",
            "| 1.7568376184463501 | 0.7140166666666666  | 1.6964753234863281 |  0.7731  |\n",
            "| 1.7542193012873333 |       0.7171        | 1.6955408672332763 |  0.7723  |\n",
            "| 1.752369516436259  | 0.7182666666666667  | 1.694457053565979  |  0.774   |\n",
            "| 1.7502541810353598 |       0.7217        | 1.6935770433425903 |  0.7738  |\n",
            "| 1.7499465909322103 |       0.72045       | 1.693608193206787  |  0.7744  |\n",
            "| 1.7495777379989623 |        0.721        | 1.693255319404602  |  0.7756  |\n",
            "| 1.7469037206013998 | 0.7239666666666666  | 1.6928973207473754 |  0.7742  |\n",
            "| 1.7458859028498332 | 0.7252333333333333  | 1.6906259256362914 |  0.7773  |\n",
            "| 1.7430447369893391 | 0.7266833333333333  | 1.6899588235855103 |  0.7764  |\n",
            "| 1.7438965025583903 | 0.7259166666666667  | 1.6897081899642945 |  0.7773  |\n",
            "| 1.741455255762736  |        0.728        | 1.6891486711502075 |  0.7781  |\n",
            "| 1.7411678303400675 |       0.7287        | 1.6889302242279052 |  0.7778  |\n",
            "| 1.739330744934082  | 0.7301333333333333  | 1.6886378028869629 |  0.7785  |\n",
            "| 1.7384634753545125 | 0.7310166666666666  | 1.6876980792999268 |  0.7787  |\n",
            "| 1.7376301279703776 | 0.7315333333333334  | 1.6876182680130005 |  0.7792  |\n",
            "| 1.7355824155171713 |       0.7337        | 1.6866435876846313 |  0.7796  |\n",
            "| 1.7353393600463867 | 0.7339333333333333  | 1.6856848493576049 |  0.7802  |\n",
            "| 1.7336210536956786 | 0.7353166666666666  | 1.6854048727035522 |  0.7809  |\n",
            "| 1.7337747392018636 |       0.7346        | 1.684184511756897  |  0.7814  |\n",
            "| 1.7324473445892334 |       0.7358        | 1.6841529350280762 |  0.7819  |\n",
            "| 1.7309279483159383 |       0.73795       | 1.6842665603637694 |  0.7813  |\n",
            "| 1.731064684486389  |        0.737        | 1.6836421688079835 |  0.782   |\n",
            "| 1.728739034016927  | 0.7398333333333333  | 1.6824288076400757 |  0.7822  |\n",
            "| 1.7278187502543132 | 0.7407333333333334  | 1.6826981336593627 |  0.7825  |\n",
            "| 1.7273465980529785 | 0.7409666666666667  | 1.6820294580459594 |  0.7825  |\n",
            "| 1.7274952431360882 | 0.7405333333333334  | 1.6824315338134765 |  0.7823  |\n",
            "| 1.7258596537907918 | 0.7422333333333333  | 1.682209283065796  |  0.7819  |\n",
            "| 1.7256150826772054 | 0.7417333333333334  | 1.6805241174697876 |  0.7837  |\n",
            "| 1.725051641146342  | 0.7431833333333333  | 1.6809105926513672 |  0.783   |\n",
            "| 1.7244251010258993 | 0.7435333333333334  | 1.6810608158111573 |  0.7826  |\n",
            "| 1.7233768075942992 | 0.7443333333333333  | 1.6820848791122436 |  0.7815  |\n",
            "+--------------------+---------------------+--------------------+----------+\n"
          ]
        }
      ],
      "source": [
        "headers = history.keys()\n",
        "rows = zip(*history.values())\n",
        "print(tabulate(rows, headers=headers, tablefmt='pretty'))"
      ]
    },
    {
      "cell_type": "code",
      "execution_count": 28,
      "metadata": {},
      "outputs": [
        {
          "data": {
            "image/png": "[encoded data removed]",
            "text/plain": [
              "<Figure size 1200x500 with 2 Axes>"
            ]
          },
          "metadata": {},
          "output_type": "display_data"
        }
      ],
      "source": [
        "epochs = range(1, len(history[\"loss_train\"]) + 1)\n",
        "draw_loss_test(epochs, history)"
      ]
    },
    {
      "cell_type": "markdown",
      "metadata": {
        "id": "rI08yFn8Vouo"
      },
      "source": [
        "12. Save model and optimizer states to a file.\n",
        "\n",
        "Use method `state_dict` and function `torch.save`."
      ]
    },
    {
      "cell_type": "code",
      "execution_count": 29,
      "metadata": {
        "id": "LmSvHf0gVouo"
      },
      "outputs": [],
      "source": [
        "model_path = './models/net.pth'\n",
        "optimizer_path = \"./models/optimizer.pth\"\n",
        "\n",
        "torch.save(net.state_dict(), model_path)\n",
        "torch.save(optimizer.state_dict(), optimizer_path)"
      ]
    },
    {
      "cell_type": "code",
      "execution_count": 30,
      "metadata": {},
      "outputs": [],
      "source": [
        "model_path2 = \"./models/net2.pth\"\n",
        "optimizer_path2 = \"./models/optimizer2.pth\"\n",
        "\n",
        "torch.save(net2.state_dict(), model_path2)\n",
        "torch.save(optimizer2.state_dict(), optimizer_path2)"
      ]
    },
    {
      "cell_type": "code",
      "execution_count": 31,
      "metadata": {},
      "outputs": [],
      "source": [
        "checkpoint_path = \"./checkpoints/checkpoint.pth\"\n",
        "\n",
        "torch.save(\n",
        "    {\n",
        "        \"model_state_dict\": net.state_dict(),\n",
        "        \"optimizer_state_dict\": optimizer.state_dict(),\n",
        "    },\n",
        "    checkpoint_path,\n",
        ")"
      ]
    },
    {
      "cell_type": "code",
      "execution_count": 32,
      "metadata": {},
      "outputs": [],
      "source": [
        "checkpoint_path2 = \"./checkpoints/checkpoint2.pth\"\n",
        "\n",
        "torch.save(\n",
        "    {\n",
        "        \"model_state_dict\": net2.state_dict(),\n",
        "        \"optimizer_state_dict\": optimizer2.state_dict(),\n",
        "    },\n",
        "    checkpoint_path2,\n",
        ")"
      ]
    },
    {
      "cell_type": "markdown",
      "metadata": {
        "id": "HpFF_fDZVouo"
      },
      "source": [
        "13. Create new network with the same architecture and initialize it with saved weights. Compare evaluations for both networks.\n",
        "\n",
        "Use `torch.load` and `load_state_dict`."
      ]
    },
    {
      "cell_type": "code",
      "execution_count": 33,
      "metadata": {
        "id": "Se9FuqrNVoup"
      },
      "outputs": [
        {
          "name": "stderr",
          "output_type": "stream",
          "text": [
            "/var/folders/0b/brzkvl1j0tn9xzynh5pr39sw0000gn/T/ipykernel_17512/1409746203.py:4: FutureWarning: You are using `torch.load` with `weights_only=False` (the current default value), which uses the default pickle module implicitly. It is possible to construct malicious pickle data which will execute arbitrary code during unpickling (See https://github.com/pytorch/pytorch/blob/main/SECURITY.md#untrusted-models for more details). In a future release, the default value for `weights_only` will be flipped to `True`. This limits the functions that could be executed during unpickling. Arbitrary objects will no longer be allowed to be loaded via this mode unless they are explicitly allowlisted by the user via `torch.serialization.add_safe_globals`. We recommend you start setting `weights_only=True` for any use case where you don't have full control of the loaded file. Please open an issue on GitHub for any issues related to this experimental feature.\n",
            "  net3.load_state_dict(torch.load(model_path))\n",
            "/var/folders/0b/brzkvl1j0tn9xzynh5pr39sw0000gn/T/ipykernel_17512/1409746203.py:5: FutureWarning: You are using `torch.load` with `weights_only=False` (the current default value), which uses the default pickle module implicitly. It is possible to construct malicious pickle data which will execute arbitrary code during unpickling (See https://github.com/pytorch/pytorch/blob/main/SECURITY.md#untrusted-models for more details). In a future release, the default value for `weights_only` will be flipped to `True`. This limits the functions that could be executed during unpickling. Arbitrary objects will no longer be allowed to be loaded via this mode unless they are explicitly allowlisted by the user via `torch.serialization.add_safe_globals`. We recommend you start setting `weights_only=True` for any use case where you don't have full control of the loaded file. Please open an issue on GitHub for any issues related to this experimental feature.\n",
            "  optimizer3.load_state_dict(torch.load(optimizer_path))\n"
          ]
        }
      ],
      "source": [
        "net3 = MLP(input_shape, output_size)\n",
        "optimizer3 = torch.optim.SGD(net2.parameters(), lr=0.01)\n",
        "\n",
        "net3.load_state_dict(torch.load(model_path))\n",
        "optimizer3.load_state_dict(torch.load(optimizer_path))"
      ]
    },
    {
      "cell_type": "code",
      "execution_count": 34,
      "metadata": {},
      "outputs": [
        {
          "name": "stderr",
          "output_type": "stream",
          "text": [
            "/var/folders/0b/brzkvl1j0tn9xzynh5pr39sw0000gn/T/ipykernel_17512/47768843.py:1: FutureWarning: You are using `torch.load` with `weights_only=False` (the current default value), which uses the default pickle module implicitly. It is possible to construct malicious pickle data which will execute arbitrary code during unpickling (See https://github.com/pytorch/pytorch/blob/main/SECURITY.md#untrusted-models for more details). In a future release, the default value for `weights_only` will be flipped to `True`. This limits the functions that could be executed during unpickling. Arbitrary objects will no longer be allowed to be loaded via this mode unless they are explicitly allowlisted by the user via `torch.serialization.add_safe_globals`. We recommend you start setting `weights_only=True` for any use case where you don't have full control of the loaded file. Please open an issue on GitHub for any issues related to this experimental feature.\n",
            "  checkpoint = torch.load(\"./checkpoints/checkpoint.pth\")\n"
          ]
        },
        {
          "data": {
            "text/plain": [
              "MLP(\n",
              "  (model): Sequential(\n",
              "    (0): Flatten(start_dim=1, end_dim=-1)\n",
              "    (1): Linear(in_features=784, out_features=512, bias=True)\n",
              "    (2): ReLU()\n",
              "    (3): Linear(in_features=512, out_features=512, bias=True)\n",
              "    (4): ReLU()\n",
              "    (5): Linear(in_features=512, out_features=10, bias=True)\n",
              "    (6): Softmax(dim=1)\n",
              "  )\n",
              ")"
            ]
          },
          "execution_count": 34,
          "metadata": {},
          "output_type": "execute_result"
        }
      ],
      "source": [
        "checkpoint = torch.load(\"./checkpoints/checkpoint.pth\")\n",
        "net4 = MLP(input_shape, output_size)\n",
        "optimizer4 = torch.optim.SGD(net3.parameters(), lr=0.01)\n",
        "\n",
        "net4.load_state_dict(checkpoint[\"model_state_dict\"])\n",
        "optimizer4.load_state_dict(checkpoint[\"optimizer_state_dict\"])\n",
        "\n",
        "net4.to(device)"
      ]
    },
    {
      "cell_type": "markdown",
      "metadata": {
        "id": "CSZOeaG6Voup"
      },
      "source": [
        "14. **EXTENSION EXERCISE**\n",
        "\n",
        "Define your own model and train it.\n",
        "\n",
        "Try to achieve better results.\n",
        "\n",
        "You can use different parameters, layers e.g.:\n",
        "- conv2d\n",
        "- maxpooling2d\n",
        "- batch norm 2d\n",
        "- and more...\n",
        "\n",
        "Save weights to a file."
      ]
    },
    {
      "cell_type": "code",
      "execution_count": 35,
      "metadata": {},
      "outputs": [],
      "source": [
        "import torch\n",
        "import torch.nn as nn\n",
        "import torch.optim as optim\n",
        "\n",
        "\n",
        "class FastCNNModel(nn.Module):\n",
        "\n",
        "    def __init__(self, input_shape, output_size) -> None:\n",
        "        super(FastCNNModel, self).__init__()\n",
        "        self.model = nn.Sequential(\n",
        "            nn.Conv2d(\n",
        "                in_channels=input_shape[0],\n",
        "                out_channels=16,\n",
        "                kernel_size=3,\n",
        "                padding=1,\n",
        "            ),\n",
        "            nn.BatchNorm2d(16),\n",
        "            nn.ReLU(),\n",
        "            nn.MaxPool2d(kernel_size=2),\n",
        "            nn.Conv2d(\n",
        "                in_channels=16, out_channels=32, kernel_size=3, padding=1\n",
        "            ),\n",
        "            nn.BatchNorm2d(32),\n",
        "            nn.ReLU(),\n",
        "            nn.MaxPool2d(kernel_size=2),\n",
        "            nn.Conv2d(\n",
        "                in_channels=32, out_channels=64, kernel_size=3, padding=1\n",
        "            ),\n",
        "            nn.BatchNorm2d(64),\n",
        "            nn.ReLU(),\n",
        "            nn.MaxPool2d(kernel_size=2),\n",
        "            nn.Flatten(),\n",
        "            nn.Dropout(0.3),\n",
        "            nn.Linear(64 * (input_shape[1] // 8) * (input_shape[2] // 8), 128),\n",
        "            nn.ReLU(),\n",
        "            nn.Linear(128, output_size),\n",
        "        )\n",
        "\n",
        "    def forward(self, x: torch.Tensor) -> torch.Tensor:\n",
        "        return self.model(x)"
      ]
    },
    {
      "cell_type": "code",
      "execution_count": 38,
      "metadata": {},
      "outputs": [],
      "source": [
        "my_net = FastCNNModel(input_shape, output_size)\n",
        "my_net = my_net.to(device)\n",
        "\n",
        "my_loss_fn = nn.CrossEntropyLoss()\n",
        "my_optimizer = optim.SGD(my_net.parameters(), lr=0.01, momentum=0.9)"
      ]
    },
    {
      "cell_type": "code",
      "execution_count": 39,
      "metadata": {},
      "outputs": [
        {
          "name": "stdout",
          "output_type": "stream",
          "text": [
            "Epoch: 1/100\n"
          ]
        },
        {
          "name": "stderr",
          "output_type": "stream",
          "text": [
            "100%|\u001b[31m███████████████████████████████\u001b[0m| 938/938 [00:19<00:00, 47.52it/s, accuracy=0.8217, loss=0.5324]\u001b[0m\n",
            "100%|\u001b[32m██████████████████████████████\u001b[0m| 157/157 [00:00<00:00, 169.21it/s, accuracy=0.9783, loss=0.0637]\u001b[0m\n"
          ]
        },
        {
          "name": "stdout",
          "output_type": "stream",
          "text": [
            "Epoch: 2/100\n"
          ]
        },
        {
          "name": "stderr",
          "output_type": "stream",
          "text": [
            "100%|\u001b[31m███████████████████████████████\u001b[0m| 938/938 [00:20<00:00, 45.74it/s, accuracy=0.9493, loss=0.1599]\u001b[0m\n",
            "100%|\u001b[32m██████████████████████████████\u001b[0m| 157/157 [00:01<00:00, 134.75it/s, accuracy=0.9860, loss=0.0429]\u001b[0m\n"
          ]
        },
        {
          "name": "stdout",
          "output_type": "stream",
          "text": [
            "Epoch: 3/100\n"
          ]
        },
        {
          "name": "stderr",
          "output_type": "stream",
          "text": [
            "100%|\u001b[31m███████████████████████████████\u001b[0m| 938/938 [00:21<00:00, 43.72it/s, accuracy=0.9609, loss=0.1215]\u001b[0m\n",
            "100%|\u001b[32m██████████████████████████████\u001b[0m| 157/157 [00:01<00:00, 140.04it/s, accuracy=0.9883, loss=0.0335]\u001b[0m\n"
          ]
        },
        {
          "name": "stdout",
          "output_type": "stream",
          "text": [
            "Epoch: 4/100\n"
          ]
        },
        {
          "name": "stderr",
          "output_type": "stream",
          "text": [
            "100%|\u001b[31m███████████████████████████████\u001b[0m| 938/938 [00:21<00:00, 43.52it/s, accuracy=0.9693, loss=0.0988]\u001b[0m\n",
            "100%|\u001b[32m██████████████████████████████\u001b[0m| 157/157 [00:01<00:00, 147.58it/s, accuracy=0.9892, loss=0.0292]\u001b[0m\n"
          ]
        },
        {
          "name": "stdout",
          "output_type": "stream",
          "text": [
            "Epoch: 5/100\n"
          ]
        },
        {
          "name": "stderr",
          "output_type": "stream",
          "text": [
            "100%|\u001b[31m███████████████████████████████\u001b[0m| 938/938 [00:22<00:00, 42.43it/s, accuracy=0.9716, loss=0.0894]\u001b[0m\n",
            "100%|\u001b[32m██████████████████████████████\u001b[0m| 157/157 [00:01<00:00, 140.32it/s, accuracy=0.9881, loss=0.0357]\u001b[0m\n"
          ]
        },
        {
          "name": "stdout",
          "output_type": "stream",
          "text": [
            "Epoch: 6/100\n"
          ]
        },
        {
          "name": "stderr",
          "output_type": "stream",
          "text": [
            "100%|\u001b[31m███████████████████████████████\u001b[0m| 938/938 [00:20<00:00, 46.21it/s, accuracy=0.9748, loss=0.0803]\u001b[0m\n",
            "100%|\u001b[32m██████████████████████████████\u001b[0m| 157/157 [00:01<00:00, 147.13it/s, accuracy=0.9887, loss=0.0346]\u001b[0m\n"
          ]
        },
        {
          "name": "stdout",
          "output_type": "stream",
          "text": [
            "Epoch: 7/100\n"
          ]
        },
        {
          "name": "stderr",
          "output_type": "stream",
          "text": [
            "100%|\u001b[31m███████████████████████████████\u001b[0m| 938/938 [00:20<00:00, 45.93it/s, accuracy=0.9766, loss=0.0742]\u001b[0m\n",
            "100%|\u001b[32m██████████████████████████████\u001b[0m| 157/157 [00:00<00:00, 157.42it/s, accuracy=0.9888, loss=0.0337]\u001b[0m\n"
          ]
        },
        {
          "name": "stdout",
          "output_type": "stream",
          "text": [
            "Epoch: 8/100\n"
          ]
        },
        {
          "name": "stderr",
          "output_type": "stream",
          "text": [
            "100%|\u001b[31m███████████████████████████████\u001b[0m| 938/938 [00:20<00:00, 45.29it/s, accuracy=0.9785, loss=0.0697]\u001b[0m\n",
            "100%|\u001b[32m██████████████████████████████\u001b[0m| 157/157 [00:01<00:00, 145.98it/s, accuracy=0.9925, loss=0.0246]\u001b[0m\n"
          ]
        },
        {
          "name": "stdout",
          "output_type": "stream",
          "text": [
            "Epoch: 9/100\n"
          ]
        },
        {
          "name": "stderr",
          "output_type": "stream",
          "text": [
            "100%|\u001b[31m███████████████████████████████\u001b[0m| 938/938 [00:21<00:00, 43.49it/s, accuracy=0.9788, loss=0.0681]\u001b[0m\n",
            "100%|\u001b[32m██████████████████████████████\u001b[0m| 157/157 [00:00<00:00, 181.97it/s, accuracy=0.9913, loss=0.0263]\u001b[0m\n"
          ]
        },
        {
          "name": "stdout",
          "output_type": "stream",
          "text": [
            "Epoch: 10/100\n"
          ]
        },
        {
          "name": "stderr",
          "output_type": "stream",
          "text": [
            "100%|\u001b[31m███████████████████████████████\u001b[0m| 938/938 [00:20<00:00, 46.66it/s, accuracy=0.9799, loss=0.0651]\u001b[0m\n",
            "100%|\u001b[32m██████████████████████████████\u001b[0m| 157/157 [00:00<00:00, 191.42it/s, accuracy=0.9921, loss=0.0241]\u001b[0m\n"
          ]
        },
        {
          "name": "stdout",
          "output_type": "stream",
          "text": [
            "Epoch: 11/100\n"
          ]
        },
        {
          "name": "stderr",
          "output_type": "stream",
          "text": [
            "100%|\u001b[31m███████████████████████████████\u001b[0m| 938/938 [00:18<00:00, 50.54it/s, accuracy=0.9803, loss=0.0627]\u001b[0m\n",
            "100%|\u001b[32m██████████████████████████████\u001b[0m| 157/157 [00:00<00:00, 185.16it/s, accuracy=0.9924, loss=0.0248]\u001b[0m"
          ]
        },
        {
          "name": "stdout",
          "output_type": "stream",
          "text": [
            "Training accuracy of 0.9803 achieved, stopping training.\n"
          ]
        },
        {
          "name": "stderr",
          "output_type": "stream",
          "text": [
            "\n"
          ]
        }
      ],
      "source": [
        "my_net, my_history = test_or_train(\n",
        "    my_net,\n",
        "    train_loader,\n",
        "    test_loader,\n",
        "    my_loss_fn,\n",
        "    metric,\n",
        "    my_optimizer,\n",
        "    mode=\"both\",\n",
        "    update_period=5,\n",
        "    epoch_max=100,\n",
        "    device=device,\n",
        "    early_stopping_accuracy=0.98,\n",
        ")"
      ]
    },
    {
      "cell_type": "code",
      "execution_count": 40,
      "metadata": {},
      "outputs": [
        {
          "data": {
            "image/png": "[encoded data removed]",
            "text/plain": [
              "<Figure size 1200x500 with 2 Axes>"
            ]
          },
          "metadata": {},
          "output_type": "display_data"
        }
      ],
      "source": [
        "my_epochs = range(1, len(my_history[\"loss_train\"]) + 1)\n",
        "draw_loss_test(my_epochs, my_history)"
      ]
    },
    {
      "cell_type": "code",
      "execution_count": 41,
      "metadata": {},
      "outputs": [],
      "source": [
        "class SimpleFastCNNModel(nn.Module):\n",
        "\n",
        "    def __init__(self, input_shape, output_size) -> None:\n",
        "        super(SimpleFastCNNModel, self).__init__()\n",
        "        self.model = nn.Sequential(\n",
        "            nn.Conv2d(\n",
        "                in_channels=input_shape[0],\n",
        "                out_channels=8,\n",
        "                kernel_size=3,\n",
        "                padding=1,\n",
        "            ),\n",
        "            nn.BatchNorm2d(8),\n",
        "            nn.ReLU(),\n",
        "            nn.MaxPool2d(kernel_size=2),\n",
        "            nn.Conv2d(\n",
        "                in_channels=8, out_channels=16, kernel_size=3, padding=1\n",
        "            ),\n",
        "            nn.BatchNorm2d(16),\n",
        "            nn.ReLU(),\n",
        "            nn.MaxPool2d(kernel_size=2),\n",
        "            nn.AdaptiveAvgPool2d(1),\n",
        "            nn.Flatten(),\n",
        "            nn.Linear(16, output_size),\n",
        "        )\n",
        "\n",
        "    def forward(self, x: torch.Tensor) -> torch.Tensor:\n",
        "        return self.model(x)"
      ]
    },
    {
      "cell_type": "code",
      "execution_count": 45,
      "metadata": {},
      "outputs": [],
      "source": [
        "my_net2 = SimpleFastCNNModel(input_shape, output_size)\n",
        "my_net2 = my_net2.to(device)\n",
        "\n",
        "my_loss_fn2 = nn.CrossEntropyLoss()\n",
        "my_optimizer2 = optim.SGD(my_net2.parameters(), lr=0.01, momentum=0.9)"
      ]
    },
    {
      "cell_type": "code",
      "execution_count": 46,
      "metadata": {},
      "outputs": [
        {
          "name": "stdout",
          "output_type": "stream",
          "text": [
            "Epoch: 1/100\n"
          ]
        },
        {
          "name": "stderr",
          "output_type": "stream",
          "text": [
            "100%|\u001b[31m███████████████████████████████\u001b[0m| 938/938 [00:11<00:00, 78.62it/s, accuracy=0.3919, loss=1.7501]\u001b[0m\n",
            "100%|\u001b[32m██████████████████████████████\u001b[0m| 157/157 [00:00<00:00, 291.11it/s, accuracy=0.6191, loss=1.2049]\u001b[0m\n"
          ]
        },
        {
          "name": "stdout",
          "output_type": "stream",
          "text": [
            "Epoch: 2/100\n"
          ]
        },
        {
          "name": "stderr",
          "output_type": "stream",
          "text": [
            "100%|\u001b[31m███████████████████████████████\u001b[0m| 938/938 [00:11<00:00, 78.98it/s, accuracy=0.6599, loss=1.0627]\u001b[0m\n",
            "100%|\u001b[32m██████████████████████████████\u001b[0m| 157/157 [00:00<00:00, 286.25it/s, accuracy=0.7627, loss=0.7199]\u001b[0m\n"
          ]
        },
        {
          "name": "stdout",
          "output_type": "stream",
          "text": [
            "Epoch: 3/100\n"
          ]
        },
        {
          "name": "stderr",
          "output_type": "stream",
          "text": [
            "100%|\u001b[31m███████████████████████████████\u001b[0m| 938/938 [00:11<00:00, 79.12it/s, accuracy=0.7495, loss=0.7874]\u001b[0m\n",
            "100%|\u001b[32m██████████████████████████████\u001b[0m| 157/157 [00:00<00:00, 284.97it/s, accuracy=0.7657, loss=0.6997]\u001b[0m\n"
          ]
        },
        {
          "name": "stdout",
          "output_type": "stream",
          "text": [
            "Epoch: 4/100\n"
          ]
        },
        {
          "name": "stderr",
          "output_type": "stream",
          "text": [
            "100%|\u001b[31m███████████████████████████████\u001b[0m| 938/938 [00:11<00:00, 79.11it/s, accuracy=0.7990, loss=0.6453]\u001b[0m\n",
            "100%|\u001b[32m██████████████████████████████\u001b[0m| 157/157 [00:00<00:00, 268.17it/s, accuracy=0.8615, loss=0.4619]\u001b[0m\n"
          ]
        },
        {
          "name": "stdout",
          "output_type": "stream",
          "text": [
            "Epoch: 5/100\n"
          ]
        },
        {
          "name": "stderr",
          "output_type": "stream",
          "text": [
            "100%|\u001b[31m███████████████████████████████\u001b[0m| 938/938 [00:12<00:00, 76.77it/s, accuracy=0.8203, loss=0.5798]\u001b[0m\n",
            "100%|\u001b[32m██████████████████████████████\u001b[0m| 157/157 [00:00<00:00, 274.58it/s, accuracy=0.8783, loss=0.4097]\u001b[0m\n"
          ]
        },
        {
          "name": "stdout",
          "output_type": "stream",
          "text": [
            "Epoch: 6/100\n"
          ]
        },
        {
          "name": "stderr",
          "output_type": "stream",
          "text": [
            "100%|\u001b[31m███████████████████████████████\u001b[0m| 938/938 [00:11<00:00, 78.68it/s, accuracy=0.8342, loss=0.5287]\u001b[0m\n",
            "100%|\u001b[32m██████████████████████████████\u001b[0m| 157/157 [00:00<00:00, 277.01it/s, accuracy=0.9102, loss=0.3242]\u001b[0m\n"
          ]
        },
        {
          "name": "stdout",
          "output_type": "stream",
          "text": [
            "Epoch: 7/100\n"
          ]
        },
        {
          "name": "stderr",
          "output_type": "stream",
          "text": [
            "100%|\u001b[31m███████████████████████████████\u001b[0m| 938/938 [00:11<00:00, 79.33it/s, accuracy=0.8514, loss=0.4839]\u001b[0m\n",
            "100%|\u001b[32m██████████████████████████████\u001b[0m| 157/157 [00:00<00:00, 285.39it/s, accuracy=0.8951, loss=0.3536]\u001b[0m\n"
          ]
        },
        {
          "name": "stdout",
          "output_type": "stream",
          "text": [
            "Epoch: 8/100\n"
          ]
        },
        {
          "name": "stderr",
          "output_type": "stream",
          "text": [
            "100%|\u001b[31m███████████████████████████████\u001b[0m| 938/938 [00:11<00:00, 79.34it/s, accuracy=0.8563, loss=0.4606]\u001b[0m\n",
            "100%|\u001b[32m██████████████████████████████\u001b[0m| 157/157 [00:00<00:00, 287.09it/s, accuracy=0.8962, loss=0.3302]\u001b[0m\n"
          ]
        },
        {
          "name": "stdout",
          "output_type": "stream",
          "text": [
            "Epoch: 9/100\n"
          ]
        },
        {
          "name": "stderr",
          "output_type": "stream",
          "text": [
            "100%|\u001b[31m███████████████████████████████\u001b[0m| 938/938 [00:11<00:00, 79.44it/s, accuracy=0.8641, loss=0.4383]\u001b[0m\n",
            "100%|\u001b[32m██████████████████████████████\u001b[0m| 157/157 [00:00<00:00, 283.92it/s, accuracy=0.9130, loss=0.2996]\u001b[0m\n"
          ]
        },
        {
          "name": "stdout",
          "output_type": "stream",
          "text": [
            "Epoch: 10/100\n"
          ]
        },
        {
          "name": "stderr",
          "output_type": "stream",
          "text": [
            "100%|\u001b[31m███████████████████████████████\u001b[0m| 938/938 [00:12<00:00, 77.43it/s, accuracy=0.8658, loss=0.4287]\u001b[0m\n",
            "100%|\u001b[32m██████████████████████████████\u001b[0m| 157/157 [00:00<00:00, 285.38it/s, accuracy=0.9286, loss=0.2466]\u001b[0m\n"
          ]
        },
        {
          "name": "stdout",
          "output_type": "stream",
          "text": [
            "Epoch: 11/100\n"
          ]
        },
        {
          "name": "stderr",
          "output_type": "stream",
          "text": [
            "100%|\u001b[31m███████████████████████████████\u001b[0m| 938/938 [00:11<00:00, 79.31it/s, accuracy=0.8717, loss=0.4103]\u001b[0m\n",
            "100%|\u001b[32m██████████████████████████████\u001b[0m| 157/157 [00:00<00:00, 290.86it/s, accuracy=0.9125, loss=0.2946]\u001b[0m\n"
          ]
        },
        {
          "name": "stdout",
          "output_type": "stream",
          "text": [
            "Epoch: 12/100\n"
          ]
        },
        {
          "name": "stderr",
          "output_type": "stream",
          "text": [
            "100%|\u001b[31m███████████████████████████████\u001b[0m| 938/938 [00:11<00:00, 79.35it/s, accuracy=0.8781, loss=0.3975]\u001b[0m\n",
            "100%|\u001b[32m██████████████████████████████\u001b[0m| 157/157 [00:00<00:00, 286.46it/s, accuracy=0.9172, loss=0.2728]\u001b[0m\n"
          ]
        },
        {
          "name": "stdout",
          "output_type": "stream",
          "text": [
            "Epoch: 13/100\n"
          ]
        },
        {
          "name": "stderr",
          "output_type": "stream",
          "text": [
            "100%|\u001b[31m███████████████████████████████\u001b[0m| 938/938 [00:11<00:00, 79.19it/s, accuracy=0.8779, loss=0.3936]\u001b[0m\n",
            "100%|\u001b[32m██████████████████████████████\u001b[0m| 157/157 [00:00<00:00, 289.21it/s, accuracy=0.9283, loss=0.2346]\u001b[0m\n"
          ]
        },
        {
          "name": "stdout",
          "output_type": "stream",
          "text": [
            "Epoch: 14/100\n"
          ]
        },
        {
          "name": "stderr",
          "output_type": "stream",
          "text": [
            "100%|\u001b[31m███████████████████████████████\u001b[0m| 938/938 [00:11<00:00, 79.12it/s, accuracy=0.8764, loss=0.3931]\u001b[0m\n",
            "100%|\u001b[32m██████████████████████████████\u001b[0m| 157/157 [00:00<00:00, 287.19it/s, accuracy=0.9288, loss=0.2365]\u001b[0m\n"
          ]
        },
        {
          "name": "stdout",
          "output_type": "stream",
          "text": [
            "Epoch: 15/100\n"
          ]
        },
        {
          "name": "stderr",
          "output_type": "stream",
          "text": [
            "100%|\u001b[31m███████████████████████████████\u001b[0m| 938/938 [00:11<00:00, 79.14it/s, accuracy=0.8835, loss=0.3729]\u001b[0m\n",
            "100%|\u001b[32m██████████████████████████████\u001b[0m| 157/157 [00:00<00:00, 264.25it/s, accuracy=0.9336, loss=0.2269]\u001b[0m\n"
          ]
        },
        {
          "name": "stdout",
          "output_type": "stream",
          "text": [
            "Epoch: 16/100\n"
          ]
        },
        {
          "name": "stderr",
          "output_type": "stream",
          "text": [
            "100%|\u001b[31m███████████████████████████████\u001b[0m| 938/938 [00:11<00:00, 79.29it/s, accuracy=0.8847, loss=0.3671]\u001b[0m\n",
            "100%|\u001b[32m██████████████████████████████\u001b[0m| 157/157 [00:00<00:00, 265.41it/s, accuracy=0.9332, loss=0.2297]\u001b[0m\n"
          ]
        },
        {
          "name": "stdout",
          "output_type": "stream",
          "text": [
            "Epoch: 17/100\n"
          ]
        },
        {
          "name": "stderr",
          "output_type": "stream",
          "text": [
            "100%|\u001b[31m███████████████████████████████\u001b[0m| 938/938 [00:11<00:00, 78.92it/s, accuracy=0.8867, loss=0.3668]\u001b[0m\n",
            "100%|\u001b[32m██████████████████████████████\u001b[0m| 157/157 [00:00<00:00, 279.61it/s, accuracy=0.9403, loss=0.2047]\u001b[0m\n"
          ]
        },
        {
          "name": "stdout",
          "output_type": "stream",
          "text": [
            "Epoch: 18/100\n"
          ]
        },
        {
          "name": "stderr",
          "output_type": "stream",
          "text": [
            "100%|\u001b[31m███████████████████████████████\u001b[0m| 938/938 [00:11<00:00, 79.48it/s, accuracy=0.8895, loss=0.3560]\u001b[0m\n",
            "100%|\u001b[32m██████████████████████████████\u001b[0m| 157/157 [00:00<00:00, 289.79it/s, accuracy=0.9318, loss=0.2331]\u001b[0m\n"
          ]
        },
        {
          "name": "stdout",
          "output_type": "stream",
          "text": [
            "Epoch: 19/100\n"
          ]
        },
        {
          "name": "stderr",
          "output_type": "stream",
          "text": [
            "100%|\u001b[31m███████████████████████████████\u001b[0m| 938/938 [00:11<00:00, 80.07it/s, accuracy=0.8928, loss=0.3499]\u001b[0m\n",
            "100%|\u001b[32m██████████████████████████████\u001b[0m| 157/157 [00:00<00:00, 290.81it/s, accuracy=0.9371, loss=0.2140]\u001b[0m\n"
          ]
        },
        {
          "name": "stdout",
          "output_type": "stream",
          "text": [
            "Epoch: 20/100\n"
          ]
        },
        {
          "name": "stderr",
          "output_type": "stream",
          "text": [
            "100%|\u001b[31m███████████████████████████████\u001b[0m| 938/938 [00:11<00:00, 80.02it/s, accuracy=0.8926, loss=0.3443]\u001b[0m\n",
            "100%|\u001b[32m██████████████████████████████\u001b[0m| 157/157 [00:00<00:00, 290.61it/s, accuracy=0.9316, loss=0.2264]\u001b[0m\n"
          ]
        },
        {
          "name": "stdout",
          "output_type": "stream",
          "text": [
            "Epoch: 21/100\n"
          ]
        },
        {
          "name": "stderr",
          "output_type": "stream",
          "text": [
            "100%|\u001b[31m███████████████████████████████\u001b[0m| 938/938 [00:11<00:00, 79.61it/s, accuracy=0.8928, loss=0.3455]\u001b[0m\n",
            "100%|\u001b[32m██████████████████████████████\u001b[0m| 157/157 [00:00<00:00, 286.85it/s, accuracy=0.9344, loss=0.2143]\u001b[0m\n"
          ]
        },
        {
          "name": "stdout",
          "output_type": "stream",
          "text": [
            "Epoch: 22/100\n"
          ]
        },
        {
          "name": "stderr",
          "output_type": "stream",
          "text": [
            "100%|\u001b[31m███████████████████████████████\u001b[0m| 938/938 [00:11<00:00, 79.80it/s, accuracy=0.8948, loss=0.3392]\u001b[0m\n",
            "100%|\u001b[32m██████████████████████████████\u001b[0m| 157/157 [00:00<00:00, 290.39it/s, accuracy=0.9379, loss=0.2173]\u001b[0m\n"
          ]
        },
        {
          "name": "stdout",
          "output_type": "stream",
          "text": [
            "Epoch: 23/100\n"
          ]
        },
        {
          "name": "stderr",
          "output_type": "stream",
          "text": [
            "100%|\u001b[31m███████████████████████████████\u001b[0m| 938/938 [00:11<00:00, 78.67it/s, accuracy=0.8957, loss=0.3343]\u001b[0m\n",
            "100%|\u001b[32m██████████████████████████████\u001b[0m| 157/157 [00:00<00:00, 277.56it/s, accuracy=0.9457, loss=0.1908]\u001b[0m\n"
          ]
        },
        {
          "name": "stdout",
          "output_type": "stream",
          "text": [
            "Epoch: 24/100\n"
          ]
        },
        {
          "name": "stderr",
          "output_type": "stream",
          "text": [
            "100%|\u001b[31m███████████████████████████████\u001b[0m| 938/938 [00:11<00:00, 80.10it/s, accuracy=0.8983, loss=0.3302]\u001b[0m\n",
            "100%|\u001b[32m██████████████████████████████\u001b[0m| 157/157 [00:00<00:00, 279.19it/s, accuracy=0.9342, loss=0.2181]\u001b[0m\n"
          ]
        },
        {
          "name": "stdout",
          "output_type": "stream",
          "text": [
            "Epoch: 25/100\n"
          ]
        },
        {
          "name": "stderr",
          "output_type": "stream",
          "text": [
            "100%|\u001b[31m███████████████████████████████\u001b[0m| 938/938 [00:11<00:00, 80.23it/s, accuracy=0.9003, loss=0.3223]\u001b[0m\n",
            "100%|\u001b[32m██████████████████████████████\u001b[0m| 157/157 [00:00<00:00, 295.19it/s, accuracy=0.9448, loss=0.1879]\u001b[0m\n"
          ]
        },
        {
          "name": "stdout",
          "output_type": "stream",
          "text": [
            "Epoch: 26/100\n"
          ]
        },
        {
          "name": "stderr",
          "output_type": "stream",
          "text": [
            "100%|\u001b[31m███████████████████████████████\u001b[0m| 938/938 [00:39<00:00, 23.76it/s, accuracy=0.8994, loss=0.3249]\u001b[0m\n",
            "100%|\u001b[32m██████████████████████████████\u001b[0m| 157/157 [00:00<00:00, 238.36it/s, accuracy=0.9498, loss=0.1875]\u001b[0m\n"
          ]
        },
        {
          "name": "stdout",
          "output_type": "stream",
          "text": [
            "Epoch: 27/100\n"
          ]
        },
        {
          "name": "stderr",
          "output_type": "stream",
          "text": [
            "100%|\u001b[31m███████████████████████████████\u001b[0m| 938/938 [00:12<00:00, 76.69it/s, accuracy=0.8992, loss=0.3233]\u001b[0m\n",
            "100%|\u001b[32m██████████████████████████████\u001b[0m| 157/157 [00:00<00:00, 280.33it/s, accuracy=0.9408, loss=0.1947]\u001b[0m\n"
          ]
        },
        {
          "name": "stdout",
          "output_type": "stream",
          "text": [
            "Epoch: 28/100\n"
          ]
        },
        {
          "name": "stderr",
          "output_type": "stream",
          "text": [
            "100%|\u001b[31m███████████████████████████████\u001b[0m| 938/938 [00:11<00:00, 78.66it/s, accuracy=0.8994, loss=0.3240]\u001b[0m\n",
            "100%|\u001b[32m██████████████████████████████\u001b[0m| 157/157 [00:00<00:00, 266.86it/s, accuracy=0.9455, loss=0.1863]\u001b[0m\n"
          ]
        },
        {
          "name": "stdout",
          "output_type": "stream",
          "text": [
            "Epoch: 29/100\n"
          ]
        },
        {
          "name": "stderr",
          "output_type": "stream",
          "text": [
            "100%|\u001b[31m███████████████████████████████\u001b[0m| 938/938 [00:12<00:00, 73.42it/s, accuracy=0.9013, loss=0.3180]\u001b[0m\n",
            "100%|\u001b[32m██████████████████████████████\u001b[0m| 157/157 [00:00<00:00, 228.04it/s, accuracy=0.9473, loss=0.1765]\u001b[0m\n"
          ]
        },
        {
          "name": "stdout",
          "output_type": "stream",
          "text": [
            "Epoch: 30/100\n"
          ]
        },
        {
          "name": "stderr",
          "output_type": "stream",
          "text": [
            "100%|\u001b[31m███████████████████████████████\u001b[0m| 938/938 [00:11<00:00, 78.32it/s, accuracy=0.9009, loss=0.3175]\u001b[0m\n",
            "100%|\u001b[32m██████████████████████████████\u001b[0m| 157/157 [00:00<00:00, 272.28it/s, accuracy=0.9401, loss=0.1966]\u001b[0m\n"
          ]
        },
        {
          "name": "stdout",
          "output_type": "stream",
          "text": [
            "Epoch: 31/100\n"
          ]
        },
        {
          "name": "stderr",
          "output_type": "stream",
          "text": [
            "100%|\u001b[31m███████████████████████████████\u001b[0m| 938/938 [00:11<00:00, 78.54it/s, accuracy=0.9046, loss=0.3128]\u001b[0m\n",
            "100%|\u001b[32m██████████████████████████████\u001b[0m| 157/157 [00:00<00:00, 275.49it/s, accuracy=0.9487, loss=0.1775]\u001b[0m\n"
          ]
        },
        {
          "name": "stdout",
          "output_type": "stream",
          "text": [
            "Epoch: 32/100\n"
          ]
        },
        {
          "name": "stderr",
          "output_type": "stream",
          "text": [
            "100%|\u001b[31m███████████████████████████████\u001b[0m| 938/938 [00:11<00:00, 78.57it/s, accuracy=0.9039, loss=0.3097]\u001b[0m\n",
            "100%|\u001b[32m██████████████████████████████\u001b[0m| 157/157 [00:00<00:00, 271.62it/s, accuracy=0.9476, loss=0.1753]\u001b[0m\n"
          ]
        },
        {
          "name": "stdout",
          "output_type": "stream",
          "text": [
            "Epoch: 33/100\n"
          ]
        },
        {
          "name": "stderr",
          "output_type": "stream",
          "text": [
            "100%|\u001b[31m███████████████████████████████\u001b[0m| 938/938 [00:11<00:00, 78.88it/s, accuracy=0.9028, loss=0.3137]\u001b[0m\n",
            "100%|\u001b[32m██████████████████████████████\u001b[0m| 157/157 [00:00<00:00, 261.39it/s, accuracy=0.9442, loss=0.1904]\u001b[0m\n"
          ]
        },
        {
          "name": "stdout",
          "output_type": "stream",
          "text": [
            "Epoch: 34/100\n"
          ]
        },
        {
          "name": "stderr",
          "output_type": "stream",
          "text": [
            "100%|\u001b[31m███████████████████████████████\u001b[0m| 938/938 [00:12<00:00, 77.23it/s, accuracy=0.9043, loss=0.3091]\u001b[0m\n",
            "100%|\u001b[32m██████████████████████████████\u001b[0m| 157/157 [00:00<00:00, 280.07it/s, accuracy=0.9366, loss=0.2017]\u001b[0m\n"
          ]
        },
        {
          "name": "stdout",
          "output_type": "stream",
          "text": [
            "Epoch: 35/100\n"
          ]
        },
        {
          "name": "stderr",
          "output_type": "stream",
          "text": [
            "100%|\u001b[31m███████████████████████████████\u001b[0m| 938/938 [00:11<00:00, 78.52it/s, accuracy=0.9044, loss=0.3086]\u001b[0m\n",
            "100%|\u001b[32m██████████████████████████████\u001b[0m| 157/157 [00:00<00:00, 279.04it/s, accuracy=0.9470, loss=0.1807]\u001b[0m\n"
          ]
        },
        {
          "name": "stdout",
          "output_type": "stream",
          "text": [
            "Epoch: 36/100\n"
          ]
        },
        {
          "name": "stderr",
          "output_type": "stream",
          "text": [
            "100%|\u001b[31m███████████████████████████████\u001b[0m| 938/938 [00:11<00:00, 78.68it/s, accuracy=0.9043, loss=0.3066]\u001b[0m\n",
            "100%|\u001b[32m██████████████████████████████\u001b[0m| 157/157 [00:00<00:00, 278.18it/s, accuracy=0.9395, loss=0.1869]\u001b[0m\n"
          ]
        },
        {
          "name": "stdout",
          "output_type": "stream",
          "text": [
            "Epoch: 37/100\n"
          ]
        },
        {
          "name": "stderr",
          "output_type": "stream",
          "text": [
            "100%|\u001b[31m███████████████████████████████\u001b[0m| 938/938 [00:11<00:00, 78.90it/s, accuracy=0.9063, loss=0.3026]\u001b[0m\n",
            "100%|\u001b[32m██████████████████████████████\u001b[0m| 157/157 [00:00<00:00, 261.12it/s, accuracy=0.9395, loss=0.1987]\u001b[0m\n"
          ]
        },
        {
          "name": "stdout",
          "output_type": "stream",
          "text": [
            "Epoch: 38/100\n"
          ]
        },
        {
          "name": "stderr",
          "output_type": "stream",
          "text": [
            "100%|\u001b[31m███████████████████████████████\u001b[0m| 938/938 [00:11<00:00, 79.06it/s, accuracy=0.9060, loss=0.3025]\u001b[0m\n",
            "100%|\u001b[32m██████████████████████████████\u001b[0m| 157/157 [00:00<00:00, 267.94it/s, accuracy=0.9444, loss=0.1877]\u001b[0m\n"
          ]
        },
        {
          "name": "stdout",
          "output_type": "stream",
          "text": [
            "Epoch: 39/100\n"
          ]
        },
        {
          "name": "stderr",
          "output_type": "stream",
          "text": [
            "100%|\u001b[31m███████████████████████████████\u001b[0m| 938/938 [00:11<00:00, 79.14it/s, accuracy=0.9078, loss=0.3014]\u001b[0m\n",
            "100%|\u001b[32m██████████████████████████████\u001b[0m| 157/157 [00:00<00:00, 262.59it/s, accuracy=0.9442, loss=0.1802]\u001b[0m\n"
          ]
        },
        {
          "name": "stdout",
          "output_type": "stream",
          "text": [
            "Epoch: 40/100\n"
          ]
        },
        {
          "name": "stderr",
          "output_type": "stream",
          "text": [
            "100%|\u001b[31m███████████████████████████████\u001b[0m| 938/938 [00:11<00:00, 79.37it/s, accuracy=0.9058, loss=0.3007]\u001b[0m\n",
            "100%|\u001b[32m██████████████████████████████\u001b[0m| 157/157 [00:00<00:00, 270.84it/s, accuracy=0.9515, loss=0.1634]\u001b[0m\n"
          ]
        },
        {
          "name": "stdout",
          "output_type": "stream",
          "text": [
            "Epoch: 41/100\n"
          ]
        },
        {
          "name": "stderr",
          "output_type": "stream",
          "text": [
            "100%|\u001b[31m███████████████████████████████\u001b[0m| 938/938 [00:11<00:00, 79.38it/s, accuracy=0.9082, loss=0.2974]\u001b[0m\n",
            "100%|\u001b[32m██████████████████████████████\u001b[0m| 157/157 [00:00<00:00, 268.06it/s, accuracy=0.9503, loss=0.1633]\u001b[0m\n"
          ]
        },
        {
          "name": "stdout",
          "output_type": "stream",
          "text": [
            "Epoch: 42/100\n"
          ]
        },
        {
          "name": "stderr",
          "output_type": "stream",
          "text": [
            "100%|\u001b[31m███████████████████████████████\u001b[0m| 938/938 [00:11<00:00, 78.76it/s, accuracy=0.9080, loss=0.2975]\u001b[0m\n",
            "100%|\u001b[32m██████████████████████████████\u001b[0m| 157/157 [00:00<00:00, 279.08it/s, accuracy=0.9545, loss=0.1551]\u001b[0m\n"
          ]
        },
        {
          "name": "stdout",
          "output_type": "stream",
          "text": [
            "Epoch: 43/100\n"
          ]
        },
        {
          "name": "stderr",
          "output_type": "stream",
          "text": [
            "100%|\u001b[31m███████████████████████████████\u001b[0m| 938/938 [00:11<00:00, 79.20it/s, accuracy=0.9086, loss=0.2965]\u001b[0m\n",
            "100%|\u001b[32m██████████████████████████████\u001b[0m| 157/157 [00:00<00:00, 276.27it/s, accuracy=0.9538, loss=0.1607]\u001b[0m\n"
          ]
        },
        {
          "name": "stdout",
          "output_type": "stream",
          "text": [
            "Epoch: 44/100\n"
          ]
        },
        {
          "name": "stderr",
          "output_type": "stream",
          "text": [
            "100%|\u001b[31m███████████████████████████████\u001b[0m| 938/938 [00:11<00:00, 79.30it/s, accuracy=0.9090, loss=0.2916]\u001b[0m\n",
            "100%|\u001b[32m██████████████████████████████\u001b[0m| 157/157 [00:00<00:00, 285.40it/s, accuracy=0.9495, loss=0.1726]\u001b[0m\n"
          ]
        },
        {
          "name": "stdout",
          "output_type": "stream",
          "text": [
            "Epoch: 45/100\n"
          ]
        },
        {
          "name": "stderr",
          "output_type": "stream",
          "text": [
            "100%|\u001b[31m███████████████████████████████\u001b[0m| 938/938 [00:11<00:00, 79.31it/s, accuracy=0.9107, loss=0.2876]\u001b[0m\n",
            "100%|\u001b[32m██████████████████████████████\u001b[0m| 157/157 [00:00<00:00, 284.83it/s, accuracy=0.9443, loss=0.1797]\u001b[0m\n"
          ]
        },
        {
          "name": "stdout",
          "output_type": "stream",
          "text": [
            "Epoch: 46/100\n"
          ]
        },
        {
          "name": "stderr",
          "output_type": "stream",
          "text": [
            "100%|\u001b[31m███████████████████████████████\u001b[0m| 938/938 [00:11<00:00, 79.34it/s, accuracy=0.9093, loss=0.2913]\u001b[0m\n",
            "100%|\u001b[32m██████████████████████████████\u001b[0m| 157/157 [00:00<00:00, 283.83it/s, accuracy=0.9464, loss=0.1765]\u001b[0m\n"
          ]
        },
        {
          "name": "stdout",
          "output_type": "stream",
          "text": [
            "Epoch: 47/100\n"
          ]
        },
        {
          "name": "stderr",
          "output_type": "stream",
          "text": [
            "100%|\u001b[31m███████████████████████████████\u001b[0m| 938/938 [00:12<00:00, 75.77it/s, accuracy=0.9121, loss=0.2861]\u001b[0m\n",
            "100%|\u001b[32m██████████████████████████████\u001b[0m| 157/157 [00:00<00:00, 256.36it/s, accuracy=0.9498, loss=0.1664]\u001b[0m\n"
          ]
        },
        {
          "name": "stdout",
          "output_type": "stream",
          "text": [
            "Epoch: 48/100\n"
          ]
        },
        {
          "name": "stderr",
          "output_type": "stream",
          "text": [
            "100%|\u001b[31m███████████████████████████████\u001b[0m| 938/938 [00:11<00:00, 78.73it/s, accuracy=0.9101, loss=0.2876]\u001b[0m\n",
            "100%|\u001b[32m██████████████████████████████\u001b[0m| 157/157 [00:00<00:00, 269.65it/s, accuracy=0.9518, loss=0.1637]\u001b[0m\n"
          ]
        },
        {
          "name": "stdout",
          "output_type": "stream",
          "text": [
            "Epoch: 49/100\n"
          ]
        },
        {
          "name": "stderr",
          "output_type": "stream",
          "text": [
            "100%|\u001b[31m███████████████████████████████\u001b[0m| 938/938 [00:11<00:00, 78.38it/s, accuracy=0.9133, loss=0.2798]\u001b[0m\n",
            "100%|\u001b[32m██████████████████████████████\u001b[0m| 157/157 [00:00<00:00, 272.37it/s, accuracy=0.9447, loss=0.1825]\u001b[0m\n"
          ]
        },
        {
          "name": "stdout",
          "output_type": "stream",
          "text": [
            "Epoch: 50/100\n"
          ]
        },
        {
          "name": "stderr",
          "output_type": "stream",
          "text": [
            "100%|\u001b[31m███████████████████████████████\u001b[0m| 938/938 [00:11<00:00, 78.28it/s, accuracy=0.9123, loss=0.2822]\u001b[0m\n",
            "100%|\u001b[32m██████████████████████████████\u001b[0m| 157/157 [00:00<00:00, 275.05it/s, accuracy=0.9492, loss=0.1633]\u001b[0m\n"
          ]
        },
        {
          "name": "stdout",
          "output_type": "stream",
          "text": [
            "Epoch: 51/100\n"
          ]
        },
        {
          "name": "stderr",
          "output_type": "stream",
          "text": [
            "100%|\u001b[31m███████████████████████████████\u001b[0m| 938/938 [00:11<00:00, 78.49it/s, accuracy=0.9132, loss=0.2766]\u001b[0m\n",
            "100%|\u001b[32m██████████████████████████████\u001b[0m| 157/157 [00:00<00:00, 274.05it/s, accuracy=0.9496, loss=0.1666]\u001b[0m\n"
          ]
        },
        {
          "name": "stdout",
          "output_type": "stream",
          "text": [
            "Epoch: 52/100\n"
          ]
        },
        {
          "name": "stderr",
          "output_type": "stream",
          "text": [
            "100%|\u001b[31m███████████████████████████████\u001b[0m| 938/938 [00:12<00:00, 78.14it/s, accuracy=0.9142, loss=0.2793]\u001b[0m\n",
            "100%|\u001b[32m██████████████████████████████\u001b[0m| 157/157 [00:00<00:00, 279.13it/s, accuracy=0.9498, loss=0.1651]\u001b[0m\n"
          ]
        },
        {
          "name": "stdout",
          "output_type": "stream",
          "text": [
            "Epoch: 53/100\n"
          ]
        },
        {
          "name": "stderr",
          "output_type": "stream",
          "text": [
            "100%|\u001b[31m███████████████████████████████\u001b[0m| 938/938 [00:11<00:00, 78.87it/s, accuracy=0.9133, loss=0.2802]\u001b[0m\n",
            "100%|\u001b[32m██████████████████████████████\u001b[0m| 157/157 [00:00<00:00, 265.18it/s, accuracy=0.9549, loss=0.1522]\u001b[0m\n"
          ]
        },
        {
          "name": "stdout",
          "output_type": "stream",
          "text": [
            "Epoch: 54/100\n"
          ]
        },
        {
          "name": "stderr",
          "output_type": "stream",
          "text": [
            "100%|\u001b[31m███████████████████████████████\u001b[0m| 938/938 [00:11<00:00, 78.53it/s, accuracy=0.9164, loss=0.2704]\u001b[0m\n",
            "100%|\u001b[32m██████████████████████████████\u001b[0m| 157/157 [00:00<00:00, 269.68it/s, accuracy=0.9501, loss=0.1656]\u001b[0m\n"
          ]
        },
        {
          "name": "stdout",
          "output_type": "stream",
          "text": [
            "Epoch: 55/100\n"
          ]
        },
        {
          "name": "stderr",
          "output_type": "stream",
          "text": [
            "100%|\u001b[31m███████████████████████████████\u001b[0m| 938/938 [00:11<00:00, 79.07it/s, accuracy=0.9140, loss=0.2793]\u001b[0m\n",
            "100%|\u001b[32m██████████████████████████████\u001b[0m| 157/157 [00:00<00:00, 273.85it/s, accuracy=0.9552, loss=0.1503]\u001b[0m\n"
          ]
        },
        {
          "name": "stdout",
          "output_type": "stream",
          "text": [
            "Epoch: 56/100\n"
          ]
        },
        {
          "name": "stderr",
          "output_type": "stream",
          "text": [
            "100%|\u001b[31m███████████████████████████████\u001b[0m| 938/938 [00:11<00:00, 78.83it/s, accuracy=0.9141, loss=0.2798]\u001b[0m\n",
            "100%|\u001b[32m██████████████████████████████\u001b[0m| 157/157 [00:00<00:00, 277.04it/s, accuracy=0.9497, loss=0.1705]\u001b[0m\n"
          ]
        },
        {
          "name": "stdout",
          "output_type": "stream",
          "text": [
            "Epoch: 57/100\n"
          ]
        },
        {
          "name": "stderr",
          "output_type": "stream",
          "text": [
            "100%|\u001b[31m███████████████████████████████\u001b[0m| 938/938 [00:11<00:00, 79.27it/s, accuracy=0.9131, loss=0.2776]\u001b[0m\n",
            "100%|\u001b[32m██████████████████████████████\u001b[0m| 157/157 [00:00<00:00, 279.15it/s, accuracy=0.9550, loss=0.1505]\u001b[0m\n"
          ]
        },
        {
          "name": "stdout",
          "output_type": "stream",
          "text": [
            "Epoch: 58/100\n"
          ]
        },
        {
          "name": "stderr",
          "output_type": "stream",
          "text": [
            "100%|\u001b[31m███████████████████████████████\u001b[0m| 938/938 [00:11<00:00, 79.03it/s, accuracy=0.9156, loss=0.2740]\u001b[0m\n",
            "100%|\u001b[32m██████████████████████████████\u001b[0m| 157/157 [00:00<00:00, 281.63it/s, accuracy=0.9516, loss=0.1548]\u001b[0m\n"
          ]
        },
        {
          "name": "stdout",
          "output_type": "stream",
          "text": [
            "Epoch: 59/100\n"
          ]
        },
        {
          "name": "stderr",
          "output_type": "stream",
          "text": [
            "100%|\u001b[31m███████████████████████████████\u001b[0m| 938/938 [00:11<00:00, 79.92it/s, accuracy=0.9160, loss=0.2710]\u001b[0m\n",
            "100%|\u001b[32m██████████████████████████████\u001b[0m| 157/157 [00:00<00:00, 278.30it/s, accuracy=0.9539, loss=0.1544]\u001b[0m\n"
          ]
        },
        {
          "name": "stdout",
          "output_type": "stream",
          "text": [
            "Epoch: 60/100\n"
          ]
        },
        {
          "name": "stderr",
          "output_type": "stream",
          "text": [
            "100%|\u001b[31m███████████████████████████████\u001b[0m| 938/938 [00:11<00:00, 79.63it/s, accuracy=0.9153, loss=0.2707]\u001b[0m\n",
            "100%|\u001b[32m██████████████████████████████\u001b[0m| 157/157 [00:00<00:00, 284.80it/s, accuracy=0.9538, loss=0.1531]\u001b[0m\n"
          ]
        },
        {
          "name": "stdout",
          "output_type": "stream",
          "text": [
            "Epoch: 61/100\n"
          ]
        },
        {
          "name": "stderr",
          "output_type": "stream",
          "text": [
            "100%|\u001b[31m███████████████████████████████\u001b[0m| 938/938 [00:11<00:00, 79.28it/s, accuracy=0.9155, loss=0.2725]\u001b[0m\n",
            "100%|\u001b[32m██████████████████████████████\u001b[0m| 157/157 [00:00<00:00, 284.22it/s, accuracy=0.9558, loss=0.1523]\u001b[0m\n"
          ]
        },
        {
          "name": "stdout",
          "output_type": "stream",
          "text": [
            "Epoch: 62/100\n"
          ]
        },
        {
          "name": "stderr",
          "output_type": "stream",
          "text": [
            "100%|\u001b[31m███████████████████████████████\u001b[0m| 938/938 [00:11<00:00, 79.84it/s, accuracy=0.9145, loss=0.2767]\u001b[0m\n",
            "100%|\u001b[32m██████████████████████████████\u001b[0m| 157/157 [00:00<00:00, 279.15it/s, accuracy=0.9558, loss=0.1474]\u001b[0m\n"
          ]
        },
        {
          "name": "stdout",
          "output_type": "stream",
          "text": [
            "Epoch: 63/100\n"
          ]
        },
        {
          "name": "stderr",
          "output_type": "stream",
          "text": [
            "100%|\u001b[31m███████████████████████████████\u001b[0m| 938/938 [00:11<00:00, 79.46it/s, accuracy=0.9161, loss=0.2694]\u001b[0m\n",
            "100%|\u001b[32m██████████████████████████████\u001b[0m| 157/157 [00:00<00:00, 282.57it/s, accuracy=0.9504, loss=0.1637]\u001b[0m\n"
          ]
        },
        {
          "name": "stdout",
          "output_type": "stream",
          "text": [
            "Epoch: 64/100\n"
          ]
        },
        {
          "name": "stderr",
          "output_type": "stream",
          "text": [
            "100%|\u001b[31m███████████████████████████████\u001b[0m| 938/938 [00:12<00:00, 77.92it/s, accuracy=0.9164, loss=0.2710]\u001b[0m\n",
            "100%|\u001b[32m██████████████████████████████\u001b[0m| 157/157 [00:00<00:00, 279.58it/s, accuracy=0.9531, loss=0.1521]\u001b[0m\n"
          ]
        },
        {
          "name": "stdout",
          "output_type": "stream",
          "text": [
            "Epoch: 65/100\n"
          ]
        },
        {
          "name": "stderr",
          "output_type": "stream",
          "text": [
            "100%|\u001b[31m███████████████████████████████\u001b[0m| 938/938 [00:11<00:00, 79.42it/s, accuracy=0.9165, loss=0.2671]\u001b[0m\n",
            "100%|\u001b[32m██████████████████████████████\u001b[0m| 157/157 [00:00<00:00, 275.35it/s, accuracy=0.9518, loss=0.1575]\u001b[0m\n"
          ]
        },
        {
          "name": "stdout",
          "output_type": "stream",
          "text": [
            "Epoch: 66/100\n"
          ]
        },
        {
          "name": "stderr",
          "output_type": "stream",
          "text": [
            "100%|\u001b[31m███████████████████████████████\u001b[0m| 938/938 [00:11<00:00, 79.64it/s, accuracy=0.9188, loss=0.2664]\u001b[0m\n",
            "100%|\u001b[32m██████████████████████████████\u001b[0m| 157/157 [00:00<00:00, 263.34it/s, accuracy=0.9586, loss=0.1440]\u001b[0m\n"
          ]
        },
        {
          "name": "stdout",
          "output_type": "stream",
          "text": [
            "Epoch: 67/100\n"
          ]
        },
        {
          "name": "stderr",
          "output_type": "stream",
          "text": [
            "100%|\u001b[31m███████████████████████████████\u001b[0m| 938/938 [00:12<00:00, 76.30it/s, accuracy=0.9179, loss=0.2653]\u001b[0m\n",
            "100%|\u001b[32m██████████████████████████████\u001b[0m| 157/157 [00:00<00:00, 252.24it/s, accuracy=0.9519, loss=0.1524]\u001b[0m\n"
          ]
        },
        {
          "name": "stdout",
          "output_type": "stream",
          "text": [
            "Epoch: 68/100\n"
          ]
        },
        {
          "name": "stderr",
          "output_type": "stream",
          "text": [
            "100%|\u001b[31m███████████████████████████████\u001b[0m| 938/938 [00:11<00:00, 81.12it/s, accuracy=0.9172, loss=0.2642]\u001b[0m\n",
            "100%|\u001b[32m██████████████████████████████\u001b[0m| 157/157 [00:00<00:00, 307.49it/s, accuracy=0.9568, loss=0.1405]\u001b[0m\n"
          ]
        },
        {
          "name": "stdout",
          "output_type": "stream",
          "text": [
            "Epoch: 69/100\n"
          ]
        },
        {
          "name": "stderr",
          "output_type": "stream",
          "text": [
            "100%|\u001b[31m███████████████████████████████\u001b[0m| 938/938 [00:11<00:00, 84.13it/s, accuracy=0.9197, loss=0.2608]\u001b[0m\n",
            "100%|\u001b[32m██████████████████████████████\u001b[0m| 157/157 [00:00<00:00, 313.86it/s, accuracy=0.9509, loss=0.1619]\u001b[0m\n"
          ]
        },
        {
          "name": "stdout",
          "output_type": "stream",
          "text": [
            "Epoch: 70/100\n"
          ]
        },
        {
          "name": "stderr",
          "output_type": "stream",
          "text": [
            "100%|\u001b[31m███████████████████████████████\u001b[0m| 938/938 [00:11<00:00, 83.60it/s, accuracy=0.9193, loss=0.2637]\u001b[0m\n",
            "100%|\u001b[32m██████████████████████████████\u001b[0m| 157/157 [00:00<00:00, 248.83it/s, accuracy=0.9503, loss=0.1581]\u001b[0m\n"
          ]
        },
        {
          "name": "stdout",
          "output_type": "stream",
          "text": [
            "Epoch: 71/100\n"
          ]
        },
        {
          "name": "stderr",
          "output_type": "stream",
          "text": [
            "100%|\u001b[31m███████████████████████████████\u001b[0m| 938/938 [00:11<00:00, 80.68it/s, accuracy=0.9195, loss=0.2611]\u001b[0m\n",
            "100%|\u001b[32m██████████████████████████████\u001b[0m| 157/157 [00:00<00:00, 306.41it/s, accuracy=0.9576, loss=0.1441]\u001b[0m\n"
          ]
        },
        {
          "name": "stdout",
          "output_type": "stream",
          "text": [
            "Epoch: 72/100\n"
          ]
        },
        {
          "name": "stderr",
          "output_type": "stream",
          "text": [
            "100%|\u001b[31m███████████████████████████████\u001b[0m| 938/938 [00:11<00:00, 80.24it/s, accuracy=0.9196, loss=0.2637]\u001b[0m\n",
            "100%|\u001b[32m██████████████████████████████\u001b[0m| 157/157 [00:00<00:00, 305.95it/s, accuracy=0.9552, loss=0.1471]\u001b[0m\n"
          ]
        },
        {
          "name": "stdout",
          "output_type": "stream",
          "text": [
            "Epoch: 73/100\n"
          ]
        },
        {
          "name": "stderr",
          "output_type": "stream",
          "text": [
            "100%|\u001b[31m███████████████████████████████\u001b[0m| 938/938 [00:11<00:00, 84.18it/s, accuracy=0.9211, loss=0.2557]\u001b[0m\n",
            "100%|\u001b[32m██████████████████████████████\u001b[0m| 157/157 [00:00<00:00, 301.92it/s, accuracy=0.9552, loss=0.1468]\u001b[0m\n"
          ]
        },
        {
          "name": "stdout",
          "output_type": "stream",
          "text": [
            "Epoch: 74/100\n"
          ]
        },
        {
          "name": "stderr",
          "output_type": "stream",
          "text": [
            "100%|\u001b[31m███████████████████████████████\u001b[0m| 938/938 [00:10<00:00, 86.07it/s, accuracy=0.9188, loss=0.2623]\u001b[0m\n",
            "100%|\u001b[32m██████████████████████████████\u001b[0m| 157/157 [00:00<00:00, 296.90it/s, accuracy=0.9590, loss=0.1391]\u001b[0m\n"
          ]
        },
        {
          "name": "stdout",
          "output_type": "stream",
          "text": [
            "Epoch: 75/100\n"
          ]
        },
        {
          "name": "stderr",
          "output_type": "stream",
          "text": [
            "100%|\u001b[31m███████████████████████████████\u001b[0m| 938/938 [00:11<00:00, 83.10it/s, accuracy=0.9197, loss=0.2617]\u001b[0m\n",
            "100%|\u001b[32m██████████████████████████████\u001b[0m| 157/157 [00:00<00:00, 288.42it/s, accuracy=0.9587, loss=0.1356]\u001b[0m\n"
          ]
        },
        {
          "name": "stdout",
          "output_type": "stream",
          "text": [
            "Epoch: 76/100\n"
          ]
        },
        {
          "name": "stderr",
          "output_type": "stream",
          "text": [
            "100%|\u001b[31m███████████████████████████████\u001b[0m| 938/938 [00:11<00:00, 81.51it/s, accuracy=0.9198, loss=0.2588]\u001b[0m\n",
            "100%|\u001b[32m██████████████████████████████\u001b[0m| 157/157 [00:00<00:00, 271.31it/s, accuracy=0.9547, loss=0.1466]\u001b[0m\n"
          ]
        },
        {
          "name": "stdout",
          "output_type": "stream",
          "text": [
            "Epoch: 77/100\n"
          ]
        },
        {
          "name": "stderr",
          "output_type": "stream",
          "text": [
            "100%|\u001b[31m███████████████████████████████\u001b[0m| 938/938 [00:12<00:00, 78.13it/s, accuracy=0.9203, loss=0.2599]\u001b[0m\n",
            "100%|\u001b[32m██████████████████████████████\u001b[0m| 157/157 [00:00<00:00, 279.63it/s, accuracy=0.9579, loss=0.1417]\u001b[0m\n"
          ]
        },
        {
          "name": "stdout",
          "output_type": "stream",
          "text": [
            "Epoch: 78/100\n"
          ]
        },
        {
          "name": "stderr",
          "output_type": "stream",
          "text": [
            "100%|\u001b[31m███████████████████████████████\u001b[0m| 938/938 [00:11<00:00, 83.37it/s, accuracy=0.9197, loss=0.2574]\u001b[0m\n",
            "100%|\u001b[32m██████████████████████████████\u001b[0m| 157/157 [00:00<00:00, 308.48it/s, accuracy=0.9563, loss=0.1487]\u001b[0m\n"
          ]
        },
        {
          "name": "stdout",
          "output_type": "stream",
          "text": [
            "Epoch: 79/100\n"
          ]
        },
        {
          "name": "stderr",
          "output_type": "stream",
          "text": [
            "100%|\u001b[31m███████████████████████████████\u001b[0m| 938/938 [00:11<00:00, 84.60it/s, accuracy=0.9193, loss=0.2587]\u001b[0m\n",
            "100%|\u001b[32m██████████████████████████████\u001b[0m| 157/157 [00:00<00:00, 317.58it/s, accuracy=0.9508, loss=0.1600]\u001b[0m\n"
          ]
        },
        {
          "name": "stdout",
          "output_type": "stream",
          "text": [
            "Epoch: 80/100\n"
          ]
        },
        {
          "name": "stderr",
          "output_type": "stream",
          "text": [
            "100%|\u001b[31m███████████████████████████████\u001b[0m| 938/938 [00:11<00:00, 83.66it/s, accuracy=0.9193, loss=0.2603]\u001b[0m\n",
            "100%|\u001b[32m██████████████████████████████\u001b[0m| 157/157 [00:00<00:00, 297.17it/s, accuracy=0.9536, loss=0.1526]\u001b[0m\n"
          ]
        },
        {
          "name": "stdout",
          "output_type": "stream",
          "text": [
            "Epoch: 81/100\n"
          ]
        },
        {
          "name": "stderr",
          "output_type": "stream",
          "text": [
            "100%|\u001b[31m███████████████████████████████\u001b[0m| 938/938 [00:11<00:00, 82.49it/s, accuracy=0.9226, loss=0.2498]\u001b[0m\n",
            "100%|\u001b[32m██████████████████████████████\u001b[0m| 157/157 [00:00<00:00, 289.99it/s, accuracy=0.9576, loss=0.1396]\u001b[0m\n"
          ]
        },
        {
          "name": "stdout",
          "output_type": "stream",
          "text": [
            "Epoch: 82/100\n"
          ]
        },
        {
          "name": "stderr",
          "output_type": "stream",
          "text": [
            "100%|\u001b[31m███████████████████████████████\u001b[0m| 938/938 [00:11<00:00, 83.22it/s, accuracy=0.9196, loss=0.2582]\u001b[0m\n",
            "100%|\u001b[32m██████████████████████████████\u001b[0m| 157/157 [00:00<00:00, 281.37it/s, accuracy=0.9523, loss=0.1561]\u001b[0m\n"
          ]
        },
        {
          "name": "stdout",
          "output_type": "stream",
          "text": [
            "Epoch: 83/100\n"
          ]
        },
        {
          "name": "stderr",
          "output_type": "stream",
          "text": [
            "100%|\u001b[31m███████████████████████████████\u001b[0m| 938/938 [00:11<00:00, 83.80it/s, accuracy=0.9210, loss=0.2559]\u001b[0m\n",
            "100%|\u001b[32m██████████████████████████████\u001b[0m| 157/157 [00:00<00:00, 291.67it/s, accuracy=0.9577, loss=0.1429]\u001b[0m\n"
          ]
        },
        {
          "name": "stdout",
          "output_type": "stream",
          "text": [
            "Epoch: 84/100\n"
          ]
        },
        {
          "name": "stderr",
          "output_type": "stream",
          "text": [
            "100%|\u001b[31m███████████████████████████████\u001b[0m| 938/938 [00:11<00:00, 84.10it/s, accuracy=0.9206, loss=0.2565]\u001b[0m\n",
            "100%|\u001b[32m██████████████████████████████\u001b[0m| 157/157 [00:00<00:00, 321.60it/s, accuracy=0.9603, loss=0.1345]\u001b[0m\n"
          ]
        },
        {
          "name": "stdout",
          "output_type": "stream",
          "text": [
            "Epoch: 85/100\n"
          ]
        },
        {
          "name": "stderr",
          "output_type": "stream",
          "text": [
            "100%|\u001b[31m███████████████████████████████\u001b[0m| 938/938 [00:11<00:00, 84.23it/s, accuracy=0.9227, loss=0.2518]\u001b[0m\n",
            "100%|\u001b[32m██████████████████████████████\u001b[0m| 157/157 [00:00<00:00, 297.64it/s, accuracy=0.9544, loss=0.1461]\u001b[0m\n"
          ]
        },
        {
          "name": "stdout",
          "output_type": "stream",
          "text": [
            "Epoch: 86/100\n"
          ]
        },
        {
          "name": "stderr",
          "output_type": "stream",
          "text": [
            "100%|\u001b[31m███████████████████████████████\u001b[0m| 938/938 [00:11<00:00, 82.93it/s, accuracy=0.9218, loss=0.2553]\u001b[0m\n",
            "100%|\u001b[32m██████████████████████████████\u001b[0m| 157/157 [00:00<00:00, 318.20it/s, accuracy=0.9548, loss=0.1464]\u001b[0m\n"
          ]
        },
        {
          "name": "stdout",
          "output_type": "stream",
          "text": [
            "Epoch: 87/100\n"
          ]
        },
        {
          "name": "stderr",
          "output_type": "stream",
          "text": [
            "100%|\u001b[31m███████████████████████████████\u001b[0m| 938/938 [00:11<00:00, 80.48it/s, accuracy=0.9214, loss=0.2518]\u001b[0m\n",
            "100%|\u001b[32m██████████████████████████████\u001b[0m| 157/157 [00:00<00:00, 278.65it/s, accuracy=0.9566, loss=0.1394]\u001b[0m\n"
          ]
        },
        {
          "name": "stdout",
          "output_type": "stream",
          "text": [
            "Epoch: 88/100\n"
          ]
        },
        {
          "name": "stderr",
          "output_type": "stream",
          "text": [
            "100%|\u001b[31m███████████████████████████████\u001b[0m| 938/938 [00:11<00:00, 82.91it/s, accuracy=0.9228, loss=0.2494]\u001b[0m\n",
            "100%|\u001b[32m██████████████████████████████\u001b[0m| 157/157 [00:00<00:00, 284.68it/s, accuracy=0.9606, loss=0.1341]\u001b[0m\n"
          ]
        },
        {
          "name": "stdout",
          "output_type": "stream",
          "text": [
            "Epoch: 89/100\n"
          ]
        },
        {
          "name": "stderr",
          "output_type": "stream",
          "text": [
            "100%|\u001b[31m███████████████████████████████\u001b[0m| 938/938 [00:11<00:00, 84.02it/s, accuracy=0.9235, loss=0.2495]\u001b[0m\n",
            "100%|\u001b[32m██████████████████████████████\u001b[0m| 157/157 [00:00<00:00, 307.35it/s, accuracy=0.9598, loss=0.1373]\u001b[0m\n"
          ]
        },
        {
          "name": "stdout",
          "output_type": "stream",
          "text": [
            "Epoch: 90/100\n"
          ]
        },
        {
          "name": "stderr",
          "output_type": "stream",
          "text": [
            "100%|\u001b[31m███████████████████████████████\u001b[0m| 938/938 [00:11<00:00, 82.54it/s, accuracy=0.9232, loss=0.2499]\u001b[0m\n",
            "100%|\u001b[32m██████████████████████████████\u001b[0m| 157/157 [00:00<00:00, 320.00it/s, accuracy=0.9595, loss=0.1363]\u001b[0m\n"
          ]
        },
        {
          "name": "stdout",
          "output_type": "stream",
          "text": [
            "Epoch: 91/100\n"
          ]
        },
        {
          "name": "stderr",
          "output_type": "stream",
          "text": [
            "100%|\u001b[31m███████████████████████████████\u001b[0m| 938/938 [00:11<00:00, 82.29it/s, accuracy=0.9232, loss=0.2505]\u001b[0m\n",
            "100%|\u001b[32m██████████████████████████████\u001b[0m| 157/157 [00:00<00:00, 296.37it/s, accuracy=0.9585, loss=0.1366]\u001b[0m\n"
          ]
        },
        {
          "name": "stdout",
          "output_type": "stream",
          "text": [
            "Epoch: 92/100\n"
          ]
        },
        {
          "name": "stderr",
          "output_type": "stream",
          "text": [
            "100%|\u001b[31m███████████████████████████████\u001b[0m| 938/938 [00:11<00:00, 82.18it/s, accuracy=0.9236, loss=0.2459]\u001b[0m\n",
            "100%|\u001b[32m██████████████████████████████\u001b[0m| 157/157 [00:00<00:00, 296.85it/s, accuracy=0.9590, loss=0.1372]\u001b[0m\n"
          ]
        },
        {
          "name": "stdout",
          "output_type": "stream",
          "text": [
            "Epoch: 93/100\n"
          ]
        },
        {
          "name": "stderr",
          "output_type": "stream",
          "text": [
            "100%|\u001b[31m███████████████████████████████\u001b[0m| 938/938 [00:11<00:00, 83.82it/s, accuracy=0.9247, loss=0.2484]\u001b[0m\n",
            "100%|\u001b[32m██████████████████████████████\u001b[0m| 157/157 [00:00<00:00, 290.85it/s, accuracy=0.9588, loss=0.1363]\u001b[0m\n"
          ]
        },
        {
          "name": "stdout",
          "output_type": "stream",
          "text": [
            "Epoch: 94/100\n"
          ]
        },
        {
          "name": "stderr",
          "output_type": "stream",
          "text": [
            "100%|\u001b[31m███████████████████████████████\u001b[0m| 938/938 [00:11<00:00, 84.99it/s, accuracy=0.9234, loss=0.2461]\u001b[0m\n",
            "100%|\u001b[32m██████████████████████████████\u001b[0m| 157/157 [00:00<00:00, 313.59it/s, accuracy=0.9602, loss=0.1311]\u001b[0m\n"
          ]
        },
        {
          "name": "stdout",
          "output_type": "stream",
          "text": [
            "Epoch: 95/100\n"
          ]
        },
        {
          "name": "stderr",
          "output_type": "stream",
          "text": [
            "100%|\u001b[31m███████████████████████████████\u001b[0m| 938/938 [00:11<00:00, 80.34it/s, accuracy=0.9250, loss=0.2431]\u001b[0m\n",
            "100%|\u001b[32m██████████████████████████████\u001b[0m| 157/157 [00:00<00:00, 277.52it/s, accuracy=0.9570, loss=0.1383]\u001b[0m\n"
          ]
        },
        {
          "name": "stdout",
          "output_type": "stream",
          "text": [
            "Epoch: 96/100\n"
          ]
        },
        {
          "name": "stderr",
          "output_type": "stream",
          "text": [
            "100%|\u001b[31m███████████████████████████████\u001b[0m| 938/938 [00:12<00:00, 77.95it/s, accuracy=0.9230, loss=0.2475]\u001b[0m\n",
            "100%|\u001b[32m██████████████████████████████\u001b[0m| 157/157 [00:00<00:00, 277.87it/s, accuracy=0.9596, loss=0.1384]\u001b[0m\n"
          ]
        },
        {
          "name": "stdout",
          "output_type": "stream",
          "text": [
            "Epoch: 97/100\n"
          ]
        },
        {
          "name": "stderr",
          "output_type": "stream",
          "text": [
            "100%|\u001b[31m███████████████████████████████\u001b[0m| 938/938 [00:11<00:00, 79.06it/s, accuracy=0.9227, loss=0.2493]\u001b[0m\n",
            "100%|\u001b[32m██████████████████████████████\u001b[0m| 157/157 [00:00<00:00, 278.94it/s, accuracy=0.9585, loss=0.1373]\u001b[0m\n"
          ]
        },
        {
          "name": "stdout",
          "output_type": "stream",
          "text": [
            "Epoch: 98/100\n"
          ]
        },
        {
          "name": "stderr",
          "output_type": "stream",
          "text": [
            "100%|\u001b[31m███████████████████████████████\u001b[0m| 938/938 [00:11<00:00, 79.43it/s, accuracy=0.9230, loss=0.2503]\u001b[0m\n",
            "100%|\u001b[32m██████████████████████████████\u001b[0m| 157/157 [00:00<00:00, 280.35it/s, accuracy=0.9610, loss=0.1310]\u001b[0m\n"
          ]
        },
        {
          "name": "stdout",
          "output_type": "stream",
          "text": [
            "Epoch: 99/100\n"
          ]
        },
        {
          "name": "stderr",
          "output_type": "stream",
          "text": [
            "100%|\u001b[31m███████████████████████████████\u001b[0m| 938/938 [00:11<00:00, 78.92it/s, accuracy=0.9236, loss=0.2458]\u001b[0m\n",
            "100%|\u001b[32m██████████████████████████████\u001b[0m| 157/157 [00:00<00:00, 277.88it/s, accuracy=0.9619, loss=0.1326]\u001b[0m\n"
          ]
        },
        {
          "name": "stdout",
          "output_type": "stream",
          "text": [
            "Epoch: 100/100\n"
          ]
        },
        {
          "name": "stderr",
          "output_type": "stream",
          "text": [
            "100%|\u001b[31m███████████████████████████████\u001b[0m| 938/938 [00:11<00:00, 78.25it/s, accuracy=0.9233, loss=0.2482]\u001b[0m\n",
            "100%|\u001b[32m██████████████████████████████\u001b[0m| 157/157 [00:00<00:00, 269.36it/s, accuracy=0.9606, loss=0.1290]\u001b[0m\n"
          ]
        }
      ],
      "source": [
        "my_net2, my_history2 = test_or_train(\n",
        "    my_net2,\n",
        "    train_loader,\n",
        "    test_loader,\n",
        "    my_loss_fn2,\n",
        "    metric,\n",
        "    my_optimizer2,\n",
        "    mode=\"both\",\n",
        "    update_period=5,\n",
        "    epoch_max=100,\n",
        "    device=device,\n",
        "    early_stopping_accuracy=0.98,\n",
        ")"
      ]
    },
    {
      "cell_type": "code",
      "execution_count": 47,
      "metadata": {},
      "outputs": [
        {
          "data": {
            "image/png": "[encoded data removed]",
            "text/plain": [
              "<Figure size 1200x500 with 2 Axes>"
            ]
          },
          "metadata": {},
          "output_type": "display_data"
        }
      ],
      "source": [
        "my_epochs2 = range(1, len(my_history2[\"loss_train\"]) + 1)\n",
        "draw_loss_test(my_epochs2, my_history2)"
      ]
    }
  ],
  "metadata": {
    "colab": {
      "provenance": []
    },
    "kernelspec": {
      "display_name": "WSAI",
      "language": "python",
      "name": "python3"
    },
    "language_info": {
      "codemirror_mode": {
        "name": "ipython",
        "version": 3
      },
      "file_extension": ".py",
      "mimetype": "text/x-python",
      "name": "python",
      "nbconvert_exporter": "python",
      "pygments_lexer": "ipython3",
      "version": "3.12.2"
    }
  },
  "nbformat": 4,
  "nbformat_minor": 0
}
