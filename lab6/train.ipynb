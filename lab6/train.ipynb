{
 "cells": [
  {
   "cell_type": "code",
   "execution_count": 1,
   "id": "95bd6dd5",
   "metadata": {
    "id": "95bd6dd5"
   },
   "outputs": [],
   "source": [
    "import numpy as np\n",
    "import torch\n",
    "import matplotlib.pyplot as plt\n",
    "import local_utils\n",
    "import torch.nn.functional as F\n",
    "from torchvision import datasets\n",
    "from torch.utils.data import DataLoader\n",
    "from torchvision.transforms import ToTensor\n",
    "from local_utils import ResidualBlock\n",
    "from torch import nn"
   ]
  },
  {
   "cell_type": "markdown",
   "id": "547cd26f",
   "metadata": {
    "id": "547cd26f"
   },
   "source": [
    "### The first part of the class is dedicated to training our own network for classification. We will use the MNIST dataset and the MiniResNet model for this purpose. At the end we will do an evaluation on the CPU and GPU."
   ]
  },
  {
   "cell_type": "markdown",
   "id": "e7438742",
   "metadata": {
    "id": "e7438742"
   },
   "source": [
    "# 1. Preparation of the dataset"
   ]
  },
  {
   "cell_type": "markdown",
   "id": "282f626e",
   "metadata": {
    "id": "282f626e"
   },
   "source": [
    "MNIST is a database of handwritten digits. It contains 60,000 training and 10,000 test images with a size of 28 x 28. The PyTorch library enables us to retrieve the data easily using the `datasets.MNIST` function:\n",
    "- `root` - the path where the data will be saved,\n",
    "- `train` - we select whether the collection is training or testing (`True/False`),\n",
    "- `download` - if we want to download the data.\n",
    "\n",
    "The downloaded and prepared data, we then pass to the DataLoaders, which will be used for training and testing:\n",
    "- `dataset` - we specify the loaded datasets,\n",
    "- `batch_size` - the amount of data in one batch. The data is not large, so you can set the parameter to 64.\n",
    "- `shuffle` - whether the data will be shuffled. This is required during training.\n",
    "\n",
    "At the end, you can check that the data has been prepared correctly. The dimension of the data batch for the MNIST set, should be (batch_size, 1, 28, 28), while the labels should be in the range 0-9.\n",
    "\n",
    "If in any doubt, please refer to the documentation of the functions used:\n",
    "\n",
    "https://pytorch.org/vision/stable/generated/torchvision.datasets.MNIST.html#torchvision.datasets.MNIST\n",
    "\n",
    "https://pytorch.org/docs/stable/data.html#torch.utils.data.DataLoader"
   ]
  },
  {
   "cell_type": "code",
   "execution_count": 5,
   "id": "f95f4de9",
   "metadata": {
    "id": "f95f4de9",
    "outputId": "61e8c497-e0f9-43f9-9ac6-4159d8dfed74"
   },
   "outputs": [
    {
     "name": "stdout",
     "output_type": "stream",
     "text": [
      "Data batch shape =  (64, 1, 28, 28)\n",
      "Labels for batch =  [6 5 9 9 1 3 6 4 1 0 1 4 7 1 3 1 8 3 8 5 5 7 6 6 8 9 7 9 2 9 7 9 4 2 2 0 4\n",
      " 7 2 8 1 3 1 9 4 0 2 2 1 0 8 0 9 9 7 1 0 9 6 8 5 2 1 5]\n"
     ]
    },
    {
     "data": {
      "image/png": "[encoded data removed]",
      "text/plain": [
       "<Figure size 1500x300 with 5 Axes>"
      ]
     },
     "metadata": {},
     "output_type": "display_data"
    }
   ],
   "source": [
    "batchsize = 64\n",
    "\n",
    "#image datasets\n",
    "train_dataset = datasets.MNIST(root='data', train=True, download=True, transform=ToTensor()) #TODO\n",
    "test_dataset = datasets.MNIST(root='data', train=False, download=True, transform=ToTensor()) #TODO\n",
    "\n",
    "#data loaders\n",
    "train_loader = DataLoader(dataset=train_dataset, batch_size=batchsize, shuffle=True) #TODO\n",
    "test_loader = DataLoader(dataset=test_dataset, batch_size=batchsize, shuffle=True) #TODO\n",
    "\n",
    "for X, Y in train_loader:\n",
    "    print(\"Data batch shape = \", np.shape(X.numpy()))\n",
    "    print(\"Labels for batch = \", Y.numpy())\n",
    "    break\n",
    "\n",
    "fig, axes = plt.subplots(1, 5, figsize=(15, 3))\n",
    "for i, (img, label) in enumerate(zip(X[:5], Y[:5])):\n",
    "    axes[i].imshow(img.squeeze(), cmap='gray')\n",
    "    axes[i].set_title(f'Label: {label.item()}')\n",
    "    axes[i].axis('off')\n",
    "plt.show()"
   ]
  },
  {
   "cell_type": "markdown",
   "id": "3407b935",
   "metadata": {
    "id": "3407b935"
   },
   "source": [
    "# 2. Model preparation"
   ]
  },
  {
   "cell_type": "markdown",
   "id": "0f5eb3fd",
   "metadata": {
    "id": "0f5eb3fd"
   },
   "source": [
    "We create the MiniResNet class:\n",
    "- we set `input_shape`  corresponding to the data (CH, H, W),\n",
    "- we set `num_of_classes` corresponding to the data.\n",
    "\n",
    "The part responsible for feature extraction `(CNN)` is built with 2D convolution layers, Max Pooling, ReLU and residual blocks (their implementation can be found in the local_utils.py file).\n",
    "\n",
    "\n",
    "The `(FC)` classifier part, on the other hand, consists of a flattening layer, a linear layer and a softmax layer.\n",
    "\n",
    "\n",
    "PyTorch allows us to create networks using the `nn.Module` class. The `nn.sequential` container allows us to initialise the layers in the correct order. The `forward` function calls the convolution part `CNN` and then the classifier part `FC`.\n",
    "\n",
    "\n",
    "Please fill in the missing data. The principle of each layer is described in detail in the PyTorch documentation:\n",
    "\n",
    "https://pytorch.org/docs/stable/nn.html"
   ]
  },
  {
   "cell_type": "code",
   "execution_count": 2,
   "id": "9c44eaad",
   "metadata": {
    "id": "9c44eaad"
   },
   "outputs": [],
   "source": [
    "class MiniResNet(nn.Module):\n",
    "    def __init__(self,\n",
    "                 input_shape=(1, 28, 28), #TODO\n",
    "                 num_of_classes=10, #TODO\n",
    "                 ) -> None:\n",
    "        super().__init__()\n",
    "        self.CNN = nn.Sequential(\n",
    "                                nn.Conv2d(input_shape[0], 16, 3, padding=1),\n",
    "                                nn.ReLU(),\n",
    "\n",
    "                                ResidualBlock(16,4,3),\n",
    "\n",
    "                                nn.Conv2d(16, 32, 3, padding=1),\n",
    "                                nn.ReLU(),\n",
    "                                nn.MaxPool2d(2,2),\n",
    "\n",
    "                                ResidualBlock(32,4,3),\n",
    "                                ResidualBlock(32,2,3),\n",
    "\n",
    "                                nn.Conv2d(32, 64, 3, padding=1),\n",
    "                                nn.ReLU(),\n",
    "                                nn.MaxPool2d(2,2),\n",
    "\n",
    "\n",
    "                                ResidualBlock(64,8,3),\n",
    "                                ResidualBlock(64,16,3),\n",
    "\n",
    "\n",
    "                                nn.Conv2d(64, 128, 3),\n",
    "                                nn.ReLU(),\n",
    "                                nn.Conv2d(128, 128, 3),\n",
    "                                nn.ReLU(),\n",
    "                                )\n",
    "        CNN_out_shape = [\n",
    "                         128,\n",
    "                         input_shape[-2]//2//2 - 3//2*2 - 3//2*2,\n",
    "                         input_shape[-1]//2//2 - 3//2*2 - 3//2*2\n",
    "                        ]\n",
    "        CNN_flatten_len = torch.prod(torch.tensor(CNN_out_shape))\n",
    "\n",
    "        self.FC = nn.Sequential(\n",
    "                                # Flatten\n",
    "                                #......TODO.........\n",
    "                                nn.Flatten(),\n",
    "\n",
    "                                # Linear (in=CNN_flatten_len, out=number of classes)\n",
    "                                #......TODO.........\n",
    "                                nn.Linear(in_features=CNN_flatten_len, out_features=num_of_classes),\n",
    "\n",
    "                                # Softmax (dimension = 1)\n",
    "                                #......TODO.........\n",
    "                                nn.Softmax(dim=1)\n",
    "                               )\n",
    "\n",
    "    def forward(self, x: torch.Tensor) -> torch.Tensor:\n",
    "        return self.FC(self.CNN(x))"
   ]
  },
  {
   "cell_type": "markdown",
   "id": "85c39957",
   "metadata": {
    "id": "85c39957"
   },
   "source": [
    "We create a network instance. We can display the entire architecture using `print`."
   ]
  },
  {
   "cell_type": "code",
   "execution_count": 7,
   "id": "56e63e22",
   "metadata": {
    "id": "56e63e22",
    "outputId": "70421f86-1b54-4f01-cf71-70b1d0305755"
   },
   "outputs": [
    {
     "name": "stdout",
     "output_type": "stream",
     "text": [
      "MiniResNet(\n",
      "  (CNN): Sequential(\n",
      "    (0): Conv2d(1, 16, kernel_size=(3, 3), stride=(1, 1), padding=(1, 1))\n",
      "    (1): ReLU()\n",
      "    (2): ResidualBlock(\n",
      "      (L1): Sequential(\n",
      "        (0): Conv2d(16, 4, kernel_size=(3, 3), stride=(1, 1), padding=(1, 1), bias=False)\n",
      "        (1): BatchNorm2d(4, eps=1e-05, momentum=0.1, affine=True, track_running_stats=True)\n",
      "        (2): ReLU()\n",
      "      )\n",
      "      (L2): Sequential(\n",
      "        (0): Conv2d(4, 16, kernel_size=(3, 3), stride=(1, 1), padding=(1, 1), bias=False)\n",
      "        (1): BatchNorm2d(16, eps=1e-05, momentum=0.1, affine=True, track_running_stats=True)\n",
      "        (2): ReLU()\n",
      "      )\n",
      "    )\n",
      "    (3): Conv2d(16, 32, kernel_size=(3, 3), stride=(1, 1), padding=(1, 1))\n",
      "    (4): ReLU()\n",
      "    (5): MaxPool2d(kernel_size=2, stride=2, padding=0, dilation=1, ceil_mode=False)\n",
      "    (6): ResidualBlock(\n",
      "      (L1): Sequential(\n",
      "        (0): Conv2d(32, 4, kernel_size=(3, 3), stride=(1, 1), padding=(1, 1), bias=False)\n",
      "        (1): BatchNorm2d(4, eps=1e-05, momentum=0.1, affine=True, track_running_stats=True)\n",
      "        (2): ReLU()\n",
      "      )\n",
      "      (L2): Sequential(\n",
      "        (0): Conv2d(4, 32, kernel_size=(3, 3), stride=(1, 1), padding=(1, 1), bias=False)\n",
      "        (1): BatchNorm2d(32, eps=1e-05, momentum=0.1, affine=True, track_running_stats=True)\n",
      "        (2): ReLU()\n",
      "      )\n",
      "    )\n",
      "    (7): ResidualBlock(\n",
      "      (L1): Sequential(\n",
      "        (0): Conv2d(32, 2, kernel_size=(3, 3), stride=(1, 1), padding=(1, 1), bias=False)\n",
      "        (1): BatchNorm2d(2, eps=1e-05, momentum=0.1, affine=True, track_running_stats=True)\n",
      "        (2): ReLU()\n",
      "      )\n",
      "      (L2): Sequential(\n",
      "        (0): Conv2d(2, 32, kernel_size=(3, 3), stride=(1, 1), padding=(1, 1), bias=False)\n",
      "        (1): BatchNorm2d(32, eps=1e-05, momentum=0.1, affine=True, track_running_stats=True)\n",
      "        (2): ReLU()\n",
      "      )\n",
      "    )\n",
      "    (8): Conv2d(32, 64, kernel_size=(3, 3), stride=(1, 1), padding=(1, 1))\n",
      "    (9): ReLU()\n",
      "    (10): MaxPool2d(kernel_size=2, stride=2, padding=0, dilation=1, ceil_mode=False)\n",
      "    (11): ResidualBlock(\n",
      "      (L1): Sequential(\n",
      "        (0): Conv2d(64, 8, kernel_size=(3, 3), stride=(1, 1), padding=(1, 1), bias=False)\n",
      "        (1): BatchNorm2d(8, eps=1e-05, momentum=0.1, affine=True, track_running_stats=True)\n",
      "        (2): ReLU()\n",
      "      )\n",
      "      (L2): Sequential(\n",
      "        (0): Conv2d(8, 64, kernel_size=(3, 3), stride=(1, 1), padding=(1, 1), bias=False)\n",
      "        (1): BatchNorm2d(64, eps=1e-05, momentum=0.1, affine=True, track_running_stats=True)\n",
      "        (2): ReLU()\n",
      "      )\n",
      "    )\n",
      "    (12): ResidualBlock(\n",
      "      (L1): Sequential(\n",
      "        (0): Conv2d(64, 16, kernel_size=(3, 3), stride=(1, 1), padding=(1, 1), bias=False)\n",
      "        (1): BatchNorm2d(16, eps=1e-05, momentum=0.1, affine=True, track_running_stats=True)\n",
      "        (2): ReLU()\n",
      "      )\n",
      "      (L2): Sequential(\n",
      "        (0): Conv2d(16, 64, kernel_size=(3, 3), stride=(1, 1), padding=(1, 1), bias=False)\n",
      "        (1): BatchNorm2d(64, eps=1e-05, momentum=0.1, affine=True, track_running_stats=True)\n",
      "        (2): ReLU()\n",
      "      )\n",
      "    )\n",
      "    (13): Conv2d(64, 128, kernel_size=(3, 3), stride=(1, 1))\n",
      "    (14): ReLU()\n",
      "    (15): Conv2d(128, 128, kernel_size=(3, 3), stride=(1, 1))\n",
      "    (16): ReLU()\n",
      "  )\n",
      "  (FC): Sequential(\n",
      "    (0): Flatten(start_dim=1, end_dim=-1)\n",
      "    (1): Linear(in_features=1152, out_features=10, bias=True)\n",
      "    (2): Softmax(dim=1)\n",
      "  )\n",
      ")\n"
     ]
    }
   ],
   "source": [
    "model = MiniResNet() #TODO\n",
    "\n",
    "print(model)"
   ]
  },
  {
   "cell_type": "markdown",
   "id": "0458bfeb",
   "metadata": {
    "id": "0458bfeb"
   },
   "source": [
    "# 3. Network training"
   ]
  },
  {
   "cell_type": "markdown",
   "id": "0e08700e",
   "metadata": {
    "id": "0e08700e"
   },
   "source": [
    "We start by looking at the available computing resources. If possible, we want to train on the GPU (CUDA). We load the model on the device. We can check on which device we will be working.\n",
    "\n",
    "https://pytorch.org/docs/stable/tensor_attributes.html#torch.device"
   ]
  },
  {
   "cell_type": "code",
   "execution_count": 8,
   "id": "4e1f62dc",
   "metadata": {
    "id": "4e1f62dc",
    "outputId": "ffa87d83-2db0-4602-9346-4fd7d49697af"
   },
   "outputs": [
    {
     "name": "stdout",
     "output_type": "stream",
     "text": [
      "cpu\n"
     ]
    }
   ],
   "source": [
    "device = torch.device('cuda') if torch.cuda.is_available() else torch.device('cpu') # TODO\n",
    "\n",
    "model.to(device) #TODO\n",
    "print(device)"
   ]
  },
  {
   "cell_type": "markdown",
   "id": "6e90547d",
   "metadata": {
    "id": "6e90547d"
   },
   "source": [
    "We now proceed with the training. We will use the `training` function from the local_utils.py file. It takes as arguments respectively:\n",
    "- `model` - we specify our model,\n",
    "- `train_loader` / `test_loader` - these are respectively prepared DataLoaders with training/testing data,\n",
    "- `loss_fcn` - we will use the `CrossEntropyLoss` function from the `torch.nn` library with the parameter `reduction='mean'`,\n",
    "- `metric` - we will use the Accuracy metric, implemented in the local_utils file (`AccuracyMetric`),\n",
    "- `epoch_max` - we set the number of epochs to 5 (this parameter can be modified, but a small value will make the network inaccurate, while a large value will make us wait a long time for the result and there may be an overtraining effect!),\n",
    "- `device` - specify the available device, same as with the model,\n",
    "- `update_period` - please set to `5`,\n",
    "- `optimizer` - we will use `SGD` (Stochastic Gradient Descent) from the torch.optim library. We specify the model parameters and a learning rate equal to `0.1` (please refer to the documentation).\n",
    "\n",
    "https://pytorch.org/docs/stable/generated/torch.nn.CrossEntropyLoss.html\n",
    "\n",
    "https://pytorch.org/docs/stable/generated/torch.optim.SGD.html"
   ]
  },
  {
   "cell_type": "code",
   "execution_count": 10,
   "id": "09c8994f",
   "metadata": {
    "id": "09c8994f",
    "outputId": "d4fad44d-2a36-43e8-c266-247b01b6a987"
   },
   "outputs": [
    {
     "name": "stdout",
     "output_type": "stream",
     "text": [
      "Epoch 1 / 5: STARTED\n",
      "TRAINING\n",
      "Running on platform: macOS-14.6.1-arm64-arm-64bit, machine: arm64, python_version: 3.12.7, processor: arm, system: Darwin, \n"
     ]
    },
    {
     "name": "stderr",
     "output_type": "stream",
     "text": [
      "938it [02:01,  7.75it/s]\n"
     ]
    },
    {
     "name": "stdout",
     "output_type": "stream",
     "text": [
      "VALIDATION\n",
      "Running on platform: macOS-14.6.1-arm64-arm-64bit, machine: arm64, python_version: 3.12.7, processor: arm, system: Darwin, \n"
     ]
    },
    {
     "name": "stderr",
     "output_type": "stream",
     "text": [
      "157it [00:04, 36.97it/s]\n"
     ]
    },
    {
     "name": "stdout",
     "output_type": "stream",
     "text": [
      "After epoch 1: loss=1.7212 acc=0.7407 val_loss=1.5109 val_acc=0.9535\n",
      "Epoch 1 / 5: FINISHED\n",
      "\n",
      "Epoch 2 / 5: STARTED\n",
      "TRAINING\n",
      "Running on platform: macOS-14.6.1-arm64-arm-64bit, machine: arm64, python_version: 3.12.7, processor: arm, system: Darwin, \n"
     ]
    },
    {
     "name": "stderr",
     "output_type": "stream",
     "text": [
      "938it [02:08,  7.32it/s]\n"
     ]
    },
    {
     "name": "stdout",
     "output_type": "stream",
     "text": [
      "VALIDATION\n",
      "Running on platform: macOS-14.6.1-arm64-arm-64bit, machine: arm64, python_version: 3.12.7, processor: arm, system: Darwin, \n"
     ]
    },
    {
     "name": "stderr",
     "output_type": "stream",
     "text": [
      "157it [00:04, 35.15it/s]\n"
     ]
    },
    {
     "name": "stdout",
     "output_type": "stream",
     "text": [
      "After epoch 2: loss=1.4958 acc=0.9668 val_loss=1.4834 val_acc=0.9794\n",
      "Epoch 2 / 5: FINISHED\n",
      "\n",
      "Epoch 3 / 5: STARTED\n",
      "TRAINING\n",
      "Running on platform: macOS-14.6.1-arm64-arm-64bit, machine: arm64, python_version: 3.12.7, processor: arm, system: Darwin, \n"
     ]
    },
    {
     "name": "stderr",
     "output_type": "stream",
     "text": [
      "938it [02:09,  7.23it/s]\n"
     ]
    },
    {
     "name": "stdout",
     "output_type": "stream",
     "text": [
      "VALIDATION\n",
      "Running on platform: macOS-14.6.1-arm64-arm-64bit, machine: arm64, python_version: 3.12.7, processor: arm, system: Darwin, \n"
     ]
    },
    {
     "name": "stderr",
     "output_type": "stream",
     "text": [
      "157it [00:05, 31.28it/s]\n"
     ]
    },
    {
     "name": "stdout",
     "output_type": "stream",
     "text": [
      "After epoch 3: loss=1.4829 acc=0.9791 val_loss=1.4773 val_acc=0.9851\n",
      "Epoch 3 / 5: FINISHED\n",
      "\n",
      "Epoch 4 / 5: STARTED\n",
      "TRAINING\n",
      "Running on platform: macOS-14.6.1-arm64-arm-64bit, machine: arm64, python_version: 3.12.7, processor: arm, system: Darwin, \n"
     ]
    },
    {
     "name": "stderr",
     "output_type": "stream",
     "text": [
      "938it [02:15,  6.95it/s]\n"
     ]
    },
    {
     "name": "stdout",
     "output_type": "stream",
     "text": [
      "VALIDATION\n",
      "Running on platform: macOS-14.6.1-arm64-arm-64bit, machine: arm64, python_version: 3.12.7, processor: arm, system: Darwin, \n"
     ]
    },
    {
     "name": "stderr",
     "output_type": "stream",
     "text": [
      "157it [00:05, 30.20it/s]\n"
     ]
    },
    {
     "name": "stdout",
     "output_type": "stream",
     "text": [
      "After epoch 4: loss=1.4773 acc=0.9844 val_loss=1.4751 val_acc=0.9866\n",
      "Epoch 4 / 5: FINISHED\n",
      "\n",
      "Epoch 5 / 5: STARTED\n",
      "TRAINING\n",
      "Running on platform: macOS-14.6.1-arm64-arm-64bit, machine: arm64, python_version: 3.12.7, processor: arm, system: Darwin, \n"
     ]
    },
    {
     "name": "stderr",
     "output_type": "stream",
     "text": [
      "938it [02:11,  7.13it/s]\n"
     ]
    },
    {
     "name": "stdout",
     "output_type": "stream",
     "text": [
      "VALIDATION\n",
      "Running on platform: macOS-14.6.1-arm64-arm-64bit, machine: arm64, python_version: 3.12.7, processor: arm, system: Darwin, \n"
     ]
    },
    {
     "name": "stderr",
     "output_type": "stream",
     "text": [
      "157it [00:04, 33.25it/s]"
     ]
    },
    {
     "name": "stdout",
     "output_type": "stream",
     "text": [
      "After epoch 5: loss=1.4746 acc=0.9871 val_loss=1.4803 val_acc=0.9818\n",
      "Epoch 5 / 5: FINISHED\n",
      "\n"
     ]
    },
    {
     "name": "stderr",
     "output_type": "stream",
     "text": [
      "\n"
     ]
    }
   ],
   "source": [
    "loss_fcn = torch.nn.CrossEntropyLoss(reduction='mean') #TODO\n",
    "metric = local_utils.AccuracyMetric() #TODO\n",
    "epoch = 5 #TODO\n",
    "update_period = 5 #TODO\n",
    "optimizer = torch.optim.SGD(model.parameters(), lr=0.1) #TODO\n",
    "\n",
    "model, history = local_utils.training(model=model,\n",
    "                                    train_loader=train_loader,\n",
    "                                    test_loader=test_loader,\n",
    "                                    loss_fcn=loss_fcn,\n",
    "                                    metric=metric,\n",
    "                                    optimizer=optimizer,\n",
    "                                    update_period=update_period,\n",
    "                                    epoch_max=epoch,\n",
    "                                    device=device)"
   ]
  },
  {
   "cell_type": "markdown",
   "id": "7b608845",
   "metadata": {
    "id": "7b608845"
   },
   "source": [
    "We can display the training history with the `plot_history` function from local_utils. We just feed the `history` value from the `training` function to it. The expected value of `acc` and `val_acc` should be at the 98% level."
   ]
  },
  {
   "cell_type": "code",
   "execution_count": null,
   "id": "078b4b6f",
   "metadata": {
    "id": "078b4b6f",
    "outputId": "c582064b-87a3-4375-a2fa-28ef5de6a2db"
   },
   "outputs": [
    {
     "data": {
      "image/png": "[encoded data removed]",
      "text/plain": [
       "<Figure size 640x480 with 1 Axes>"
      ]
     },
     "metadata": {},
     "output_type": "display_data"
    },
    {
     "data": {
      "image/png": "[encoded data removed]",
      "text/plain": [
       "<Figure size 640x480 with 1 Axes>"
      ]
     },
     "metadata": {},
     "output_type": "display_data"
    }
   ],
   "source": [
    "local_utils.plot_history(history)"
   ]
  },
  {
   "cell_type": "markdown",
   "id": "f61994be",
   "metadata": {
    "id": "f61994be"
   },
   "source": [
    "Save the trained model to the file `MNIST.pth`. It will be useful later in the exercise."
   ]
  },
  {
   "cell_type": "code",
   "execution_count": null,
   "id": "7c51377b",
   "metadata": {
    "id": "7c51377b"
   },
   "outputs": [],
   "source": [
    "sd = {'model': model.state_dict(), 'opt': optimizer.state_dict()}\n",
    "torch.save(sd, 'MNIST.pth', _use_new_zipfile_serialization=False)"
   ]
  },
  {
   "cell_type": "markdown",
   "id": "f69cc13a",
   "metadata": {
    "id": "f69cc13a"
   },
   "source": [
    "# 4. Model evaluation\n"
   ]
  },
  {
   "cell_type": "markdown",
   "id": "14f3efe4",
   "metadata": {
    "id": "14f3efe4"
   },
   "source": [
    "We will test the learned model on both the CPU and the GPU (if available).\n",
    "\n",
    "We start by creating a new DataLoader. We will use the test collection for it, just as we did at the beginning, but we will set the `batch_size` value to 1."
   ]
  },
  {
   "cell_type": "code",
   "execution_count": null,
   "id": "abead943",
   "metadata": {
    "id": "abead943"
   },
   "outputs": [],
   "source": [
    "eval_loader = DataLoader(test_dataset, batch_size=1, shuffle=True) #TODO"
   ]
  },
  {
   "cell_type": "markdown",
   "id": "e5f41a72",
   "metadata": {
    "id": "e5f41a72"
   },
   "source": [
    "We set the device parameter to `cuda`.\n",
    "\n",
    "We create a new instance of the `MiniResNet` model, load the learned weights `MNIST.pth` with the `torch.load` function with the `map_location` parameter as the device on which the operation will be performed. With the `load_state_dict` function we load the data into the new model and load it onto the hardware.\n",
    "\n",
    "The `TimeMeasurement` function from `local_utils` allows us to check the time results of the model.\n",
    "\n",
    "We run the `train_test_pass` function. We specify our model, data generator, loss function, metric and device. We set `test` as `mode`. The `Optimizer` and `update_period` can be set to `None`."
   ]
  },
  {
   "cell_type": "code",
   "execution_count": 3,
   "id": "a8d896ec",
   "metadata": {
    "id": "a8d896ec",
    "outputId": "092014cc-8666-4b75-9536-ebb0b753d0f9"
   },
   "outputs": [
    {
     "name": "stderr",
     "output_type": "stream",
     "text": [
      "C:\\Users\\szymo\\AppData\\Local\\Temp\\ipykernel_16724\\756141213.py:4: FutureWarning: You are using `torch.load` with `weights_only=False` (the current default value), which uses the default pickle module implicitly. It is possible to construct malicious pickle data which will execute arbitrary code during unpickling (See https://github.com/pytorch/pytorch/blob/main/SECURITY.md#untrusted-models for more details). In a future release, the default value for `weights_only` will be flipped to `True`. This limits the functions that could be executed during unpickling. Arbitrary objects will no longer be allowed to be loaded via this mode unless they are explicitly allowlisted by the user via `torch.serialization.add_safe_globals`. We recommend you start setting `weights_only=True` for any use case where you don't have full control of the loaded file. Please open an issue on GitHub for any issues related to this experimental feature.\n",
      "  pretrainedModel = torch.load('MNIST.pth', map_location=device) #TODO\n"
     ]
    },
    {
     "ename": "RuntimeError",
     "evalue": "Attempting to deserialize object on a CUDA device but torch.cuda.is_available() is False. If you are running on a CPU-only machine, please use torch.load with map_location=torch.device('cpu') to map your storages to the CPU.",
     "output_type": "error",
     "traceback": [
      "\u001b[1;31m---------------------------------------------------------------------------\u001b[0m",
      "\u001b[1;31mRuntimeError\u001b[0m                              Traceback (most recent call last)",
      "Cell \u001b[1;32mIn [3], line 4\u001b[0m\n\u001b[0;32m      1\u001b[0m device \u001b[38;5;241m=\u001b[39m torch\u001b[38;5;241m.\u001b[39mdevice(\u001b[38;5;124m'\u001b[39m\u001b[38;5;124mcuda\u001b[39m\u001b[38;5;124m'\u001b[39m) \u001b[38;5;66;03m#TODO\u001b[39;00m\n\u001b[0;32m      3\u001b[0m evalModel \u001b[38;5;241m=\u001b[39m MiniResNet() \u001b[38;5;66;03m#TODO\u001b[39;00m\n\u001b[1;32m----> 4\u001b[0m pretrainedModel \u001b[38;5;241m=\u001b[39m \u001b[43mtorch\u001b[49m\u001b[38;5;241;43m.\u001b[39;49m\u001b[43mload\u001b[49m\u001b[43m(\u001b[49m\u001b[38;5;124;43m'\u001b[39;49m\u001b[38;5;124;43mMNIST.pth\u001b[39;49m\u001b[38;5;124;43m'\u001b[39;49m\u001b[43m,\u001b[49m\u001b[43m \u001b[49m\u001b[43mmap_location\u001b[49m\u001b[38;5;241;43m=\u001b[39;49m\u001b[43mdevice\u001b[49m\u001b[43m)\u001b[49m \u001b[38;5;66;03m#TODO\u001b[39;00m\n\u001b[0;32m      5\u001b[0m evalModel\u001b[38;5;241m.\u001b[39mload_state_dict(pretrainedModel[\u001b[38;5;124m'\u001b[39m\u001b[38;5;124mmodel\u001b[39m\u001b[38;5;124m'\u001b[39m])\n\u001b[0;32m      6\u001b[0m evalModel\u001b[38;5;241m.\u001b[39mto(device) \u001b[38;5;66;03m#TODO\u001b[39;00m\n",
      "File \u001b[1;32mc:\\Users\\szymo\\anaconda3\\envs\\wsai2\\lib\\site-packages\\torch\\serialization.py:1384\u001b[0m, in \u001b[0;36mload\u001b[1;34m(f, map_location, pickle_module, weights_only, mmap, **pickle_load_args)\u001b[0m\n\u001b[0;32m   1382\u001b[0m     \u001b[38;5;28;01mexcept\u001b[39;00m pickle\u001b[38;5;241m.\u001b[39mUnpicklingError \u001b[38;5;28;01mas\u001b[39;00m e:\n\u001b[0;32m   1383\u001b[0m         \u001b[38;5;28;01mraise\u001b[39;00m pickle\u001b[38;5;241m.\u001b[39mUnpicklingError(_get_wo_message(\u001b[38;5;28mstr\u001b[39m(e))) \u001b[38;5;28;01mfrom\u001b[39;00m \u001b[38;5;28mNone\u001b[39m\n\u001b[1;32m-> 1384\u001b[0m \u001b[38;5;28;01mreturn\u001b[39;00m _legacy_load(\n\u001b[0;32m   1385\u001b[0m     opened_file, map_location, pickle_module, \u001b[38;5;241m*\u001b[39m\u001b[38;5;241m*\u001b[39mpickle_load_args\n\u001b[0;32m   1386\u001b[0m )\n",
      "File \u001b[1;32mc:\\Users\\szymo\\anaconda3\\envs\\wsai2\\lib\\site-packages\\torch\\serialization.py:1638\u001b[0m, in \u001b[0;36m_legacy_load\u001b[1;34m(f, map_location, pickle_module, **pickle_load_args)\u001b[0m\n\u001b[0;32m   1636\u001b[0m unpickler \u001b[38;5;241m=\u001b[39m UnpicklerWrapper(f, \u001b[38;5;241m*\u001b[39m\u001b[38;5;241m*\u001b[39mpickle_load_args)\n\u001b[0;32m   1637\u001b[0m unpickler\u001b[38;5;241m.\u001b[39mpersistent_load \u001b[38;5;241m=\u001b[39m persistent_load\n\u001b[1;32m-> 1638\u001b[0m result \u001b[38;5;241m=\u001b[39m \u001b[43munpickler\u001b[49m\u001b[38;5;241;43m.\u001b[39;49m\u001b[43mload\u001b[49m\u001b[43m(\u001b[49m\u001b[43m)\u001b[49m\n\u001b[0;32m   1640\u001b[0m deserialized_storage_keys \u001b[38;5;241m=\u001b[39m pickle_module\u001b[38;5;241m.\u001b[39mload(f, \u001b[38;5;241m*\u001b[39m\u001b[38;5;241m*\u001b[39mpickle_load_args)\n\u001b[0;32m   1642\u001b[0m \u001b[38;5;28;01mif\u001b[39;00m torch\u001b[38;5;241m.\u001b[39m_guards\u001b[38;5;241m.\u001b[39mactive_fake_mode() \u001b[38;5;129;01mis\u001b[39;00m \u001b[38;5;28;01mNone\u001b[39;00m:\n",
      "File \u001b[1;32mc:\\Users\\szymo\\anaconda3\\envs\\wsai2\\lib\\site-packages\\torch\\serialization.py:1566\u001b[0m, in \u001b[0;36m_legacy_load.<locals>.persistent_load\u001b[1;34m(saved_id)\u001b[0m\n\u001b[0;32m   1564\u001b[0m     obj \u001b[38;5;241m=\u001b[39m cast(Storage, torch\u001b[38;5;241m.\u001b[39mUntypedStorage(nbytes))\n\u001b[0;32m   1565\u001b[0m     obj\u001b[38;5;241m.\u001b[39m_torch_load_uninitialized \u001b[38;5;241m=\u001b[39m \u001b[38;5;28;01mTrue\u001b[39;00m\n\u001b[1;32m-> 1566\u001b[0m     obj \u001b[38;5;241m=\u001b[39m \u001b[43mrestore_location\u001b[49m\u001b[43m(\u001b[49m\u001b[43mobj\u001b[49m\u001b[43m,\u001b[49m\u001b[43m \u001b[49m\u001b[43mlocation\u001b[49m\u001b[43m)\u001b[49m\n\u001b[0;32m   1567\u001b[0m \u001b[38;5;66;03m# TODO: Once we decide to break serialization FC, we can\u001b[39;00m\n\u001b[0;32m   1568\u001b[0m \u001b[38;5;66;03m# stop wrapping with TypedStorage\u001b[39;00m\n\u001b[0;32m   1569\u001b[0m typed_storage \u001b[38;5;241m=\u001b[39m torch\u001b[38;5;241m.\u001b[39mstorage\u001b[38;5;241m.\u001b[39mTypedStorage(\n\u001b[0;32m   1570\u001b[0m     wrap_storage\u001b[38;5;241m=\u001b[39mobj, dtype\u001b[38;5;241m=\u001b[39mdtype, _internal\u001b[38;5;241m=\u001b[39m\u001b[38;5;28;01mTrue\u001b[39;00m\n\u001b[0;32m   1571\u001b[0m )\n",
      "File \u001b[1;32mc:\\Users\\szymo\\anaconda3\\envs\\wsai2\\lib\\site-packages\\torch\\serialization.py:1690\u001b[0m, in \u001b[0;36m_get_restore_location.<locals>.restore_location\u001b[1;34m(storage, location)\u001b[0m\n\u001b[0;32m   1689\u001b[0m \u001b[38;5;28;01mdef\u001b[39;00m \u001b[38;5;21mrestore_location\u001b[39m(storage, location):\n\u001b[1;32m-> 1690\u001b[0m     \u001b[38;5;28;01mreturn\u001b[39;00m \u001b[43mdefault_restore_location\u001b[49m\u001b[43m(\u001b[49m\u001b[43mstorage\u001b[49m\u001b[43m,\u001b[49m\u001b[43m \u001b[49m\u001b[38;5;28;43mstr\u001b[39;49m\u001b[43m(\u001b[49m\u001b[43mmap_location\u001b[49m\u001b[43m)\u001b[49m\u001b[43m)\u001b[49m\n",
      "File \u001b[1;32mc:\\Users\\szymo\\anaconda3\\envs\\wsai2\\lib\\site-packages\\torch\\serialization.py:601\u001b[0m, in \u001b[0;36mdefault_restore_location\u001b[1;34m(storage, location)\u001b[0m\n\u001b[0;32m    581\u001b[0m \u001b[38;5;124;03m\"\"\"\u001b[39;00m\n\u001b[0;32m    582\u001b[0m \u001b[38;5;124;03mRestores `storage` using a deserializer function registered for the `location`.\u001b[39;00m\n\u001b[0;32m    583\u001b[0m \n\u001b[1;32m   (...)\u001b[0m\n\u001b[0;32m    598\u001b[0m \u001b[38;5;124;03m       all matching ones return `None`.\u001b[39;00m\n\u001b[0;32m    599\u001b[0m \u001b[38;5;124;03m\"\"\"\u001b[39;00m\n\u001b[0;32m    600\u001b[0m \u001b[38;5;28;01mfor\u001b[39;00m _, _, fn \u001b[38;5;129;01min\u001b[39;00m _package_registry:\n\u001b[1;32m--> 601\u001b[0m     result \u001b[38;5;241m=\u001b[39m \u001b[43mfn\u001b[49m\u001b[43m(\u001b[49m\u001b[43mstorage\u001b[49m\u001b[43m,\u001b[49m\u001b[43m \u001b[49m\u001b[43mlocation\u001b[49m\u001b[43m)\u001b[49m\n\u001b[0;32m    602\u001b[0m     \u001b[38;5;28;01mif\u001b[39;00m result \u001b[38;5;129;01mis\u001b[39;00m \u001b[38;5;129;01mnot\u001b[39;00m \u001b[38;5;28;01mNone\u001b[39;00m:\n\u001b[0;32m    603\u001b[0m         \u001b[38;5;28;01mreturn\u001b[39;00m result\n",
      "File \u001b[1;32mc:\\Users\\szymo\\anaconda3\\envs\\wsai2\\lib\\site-packages\\torch\\serialization.py:539\u001b[0m, in \u001b[0;36m_deserialize\u001b[1;34m(backend_name, obj, location)\u001b[0m\n\u001b[0;32m    537\u001b[0m     backend_name \u001b[38;5;241m=\u001b[39m torch\u001b[38;5;241m.\u001b[39m_C\u001b[38;5;241m.\u001b[39m_get_privateuse1_backend_name()\n\u001b[0;32m    538\u001b[0m \u001b[38;5;28;01mif\u001b[39;00m location\u001b[38;5;241m.\u001b[39mstartswith(backend_name):\n\u001b[1;32m--> 539\u001b[0m     device \u001b[38;5;241m=\u001b[39m \u001b[43m_validate_device\u001b[49m\u001b[43m(\u001b[49m\u001b[43mlocation\u001b[49m\u001b[43m,\u001b[49m\u001b[43m \u001b[49m\u001b[43mbackend_name\u001b[49m\u001b[43m)\u001b[49m\n\u001b[0;32m    540\u001b[0m     \u001b[38;5;28;01mreturn\u001b[39;00m obj\u001b[38;5;241m.\u001b[39mto(device\u001b[38;5;241m=\u001b[39mdevice)\n",
      "File \u001b[1;32mc:\\Users\\szymo\\anaconda3\\envs\\wsai2\\lib\\site-packages\\torch\\serialization.py:508\u001b[0m, in \u001b[0;36m_validate_device\u001b[1;34m(location, backend_name)\u001b[0m\n\u001b[0;32m    506\u001b[0m     device_index \u001b[38;5;241m=\u001b[39m device\u001b[38;5;241m.\u001b[39mindex \u001b[38;5;28;01mif\u001b[39;00m device\u001b[38;5;241m.\u001b[39mindex \u001b[38;5;28;01melse\u001b[39;00m \u001b[38;5;241m0\u001b[39m\n\u001b[0;32m    507\u001b[0m \u001b[38;5;28;01mif\u001b[39;00m \u001b[38;5;28mhasattr\u001b[39m(device_module, \u001b[38;5;124m\"\u001b[39m\u001b[38;5;124mis_available\u001b[39m\u001b[38;5;124m\"\u001b[39m) \u001b[38;5;129;01mand\u001b[39;00m \u001b[38;5;129;01mnot\u001b[39;00m device_module\u001b[38;5;241m.\u001b[39mis_available():\n\u001b[1;32m--> 508\u001b[0m     \u001b[38;5;28;01mraise\u001b[39;00m \u001b[38;5;167;01mRuntimeError\u001b[39;00m(\n\u001b[0;32m    509\u001b[0m         \u001b[38;5;124mf\u001b[39m\u001b[38;5;124m\"\u001b[39m\u001b[38;5;124mAttempting to deserialize object on a \u001b[39m\u001b[38;5;132;01m{\u001b[39;00mbackend_name\u001b[38;5;241m.\u001b[39mupper()\u001b[38;5;132;01m}\u001b[39;00m\u001b[38;5;124m \u001b[39m\u001b[38;5;124m\"\u001b[39m\n\u001b[0;32m    510\u001b[0m         \u001b[38;5;124mf\u001b[39m\u001b[38;5;124m\"\u001b[39m\u001b[38;5;124mdevice but torch.\u001b[39m\u001b[38;5;132;01m{\u001b[39;00mbackend_name\u001b[38;5;132;01m}\u001b[39;00m\u001b[38;5;124m.is_available() is False. \u001b[39m\u001b[38;5;124m\"\u001b[39m\n\u001b[0;32m    511\u001b[0m         \u001b[38;5;124m\"\u001b[39m\u001b[38;5;124mIf you are running on a CPU-only machine, \u001b[39m\u001b[38;5;124m\"\u001b[39m\n\u001b[0;32m    512\u001b[0m         \u001b[38;5;124m\"\u001b[39m\u001b[38;5;124mplease use torch.load with map_location=torch.device(\u001b[39m\u001b[38;5;124m'\u001b[39m\u001b[38;5;124mcpu\u001b[39m\u001b[38;5;124m'\u001b[39m\u001b[38;5;124m) \u001b[39m\u001b[38;5;124m\"\u001b[39m\n\u001b[0;32m    513\u001b[0m         \u001b[38;5;124m\"\u001b[39m\u001b[38;5;124mto map your storages to the CPU.\u001b[39m\u001b[38;5;124m\"\u001b[39m\n\u001b[0;32m    514\u001b[0m     )\n\u001b[0;32m    515\u001b[0m \u001b[38;5;28;01mif\u001b[39;00m \u001b[38;5;28mhasattr\u001b[39m(device_module, \u001b[38;5;124m\"\u001b[39m\u001b[38;5;124mdevice_count\u001b[39m\u001b[38;5;124m\"\u001b[39m):\n\u001b[0;32m    516\u001b[0m     device_count \u001b[38;5;241m=\u001b[39m device_module\u001b[38;5;241m.\u001b[39mdevice_count()\n",
      "\u001b[1;31mRuntimeError\u001b[0m: Attempting to deserialize object on a CUDA device but torch.cuda.is_available() is False. If you are running on a CPU-only machine, please use torch.load with map_location=torch.device('cpu') to map your storages to the CPU."
     ]
    }
   ],
   "source": [
    "device = torch.device('cuda') #TODO\n",
    "\n",
    "evalModel = MiniResNet() #TODO\n",
    "pretrainedModel = torch.load('MNIST.pth', map_location=device) #TODO\n",
    "evalModel.load_state_dict(pretrainedModel['model'])\n",
    "evalModel.to(device) #TODO\n",
    "\n",
    "tm = local_utils.TimeMeasurement(\"Host-GPU\", len(eval_loader))\n",
    "\n",
    "with tm:\n",
    "\n",
    "    evalModel, loss, acc = local_utils.train_test_pass(model=evalModel,\n",
    "                                                       data_generator=eval_loader,\n",
    "                                                       criterion=loss_fcn,\n",
    "                                                       metric=metric,\n",
    "                                                       optimizer=None,\n",
    "                                                       update_period=None,\n",
    "                                                       mode='test',\n",
    "                                                       device=device)\n",
    "\n",
    "print(repr(tm))\n",
    "print(\"loss:\", loss)\n",
    "print(\"acc:\", acc)"
   ]
  },
  {
   "cell_type": "markdown",
   "id": "ccfe3386",
   "metadata": {
    "id": "ccfe3386"
   },
   "source": [
    "We perform the same operation, but this time we set `cpu` as the device."
   ]
  },
  {
   "cell_type": "code",
   "execution_count": null,
   "id": "a3bfd53d",
   "metadata": {
    "id": "a3bfd53d",
    "outputId": "107a982b-925c-42ba-aaed-e08328007c60"
   },
   "outputs": [
    {
     "name": "stdout",
     "output_type": "stream",
     "text": [
      "Running on platform: Linux-5.15.0-67-generic-x86_64-with-glibc2.31, machine: x86_64, python_version: 3.9.16, processor: x86_64, system: Linux, \n"
     ]
    },
    {
     "name": "stderr",
     "output_type": "stream",
     "text": [
      "10000it [00:18, 532.97it/s]"
     ]
    },
    {
     "name": "stdout",
     "output_type": "stream",
     "text": [
      "TimeMeasurement(context=\"Host-CPU\",\"0.0:0.0:18:766\", frames=10000, throughput=532.873084967341)\n",
      "loss: 1.4794006655454635\n",
      "acc: 0.9823\n"
     ]
    },
    {
     "name": "stderr",
     "output_type": "stream",
     "text": [
      "\n"
     ]
    }
   ],
   "source": [
    "device = torch.device('cpu') #TODO\n",
    "\n",
    "evalModel = MiniResNet() #TODO\n",
    "pretrainedModel = torch.load('MNIST.pth', map_location=device) #TODO\n",
    "evalModel.load_state_dict(pretrainedModel['model'])\n",
    "evalModel.to(device) #TODO\n",
    "\n",
    "tm = local_utils.TimeMeasurement(\"Host-CPU\", len(eval_loader))\n",
    "\n",
    "with tm:\n",
    "    # TODO\n",
    "    evalModel, loss, acc = local_utils.train_test_pass(model=evalModel,\n",
    "                                                       data_generator=eval_loader,\n",
    "                                                       criterion=loss_fcn,\n",
    "                                                       metric=metric,\n",
    "                                                       optimizer=None,\n",
    "                                                       update_period=None,\n",
    "                                                       mode='test', #TODO\n",
    "                                                       device=device)\n",
    "\n",
    "print(repr(tm))\n",
    "print(\"loss:\", loss)\n",
    "print(\"acc:\", acc)"
   ]
  },
  {
   "cell_type": "markdown",
   "id": "44076ce6",
   "metadata": {
    "id": "44076ce6"
   },
   "source": [
    "Please make a note of the performance accuracy and throughput (value in FPS). After this part, only the `MNIST.pth` file will be used."
   ]
  },
  {
   "cell_type": "markdown",
   "id": "9a296422",
   "metadata": {
    "id": "9a296422"
   },
   "source": [
    "# 5. Further exercise\n",
    "\n",
    "We will now proceed to the quantisation of the model. To do this, start the Docker image.\n",
    "\n",
    "In the same folder, start a new terminal and run the command:\n",
    "\n",
    "`sudo bash ./docker_run.sh xilinx/vitis-ai:1.4.916`.\n",
    "\n",
    "After typing your sudo password (`lsriw`), click enter until asked. Type `y` and confirm.\n",
    "When Vitis AI appears, start the conda environment for PyTorch:\n",
    "\n",
    "`conda activate vitis-ai-pytorch`.\n",
    "\n",
    "Finally, start jupyter notebook with the following command:\n",
    "\n",
    "`jupyter notebook --no-browser --ip=0.0.0.0 --NotebookApp.token='' --NotebookApp.password=''`.\n",
    "\n",
    "An http link will appear in the console. Right click and open the link. Disable this notepad and navigate to the quantize.ipynb file in running Jupyter.\n",
    "\n",
    "------------------------------------------------------------------------------------------------------\n",
    "NOTE: This is not the same Jupyter we were working now.\n",
    "The current Jupyter was running in a system conda environment. This allowed us to work with both CUDA and CPU at the same time.\n",
    "The launched Jupyter is in Docker, which is configured for quantisation with Vitis AI. There, only the CPU is available."
   ]
  }
 ],
 "metadata": {
  "colab": {
   "provenance": []
  },
  "kernelspec": {
   "display_name": "wsai2",
   "language": "python",
   "name": "python3"
  },
  "language_info": {
   "codemirror_mode": {
    "name": "ipython",
    "version": 3
   },
   "file_extension": ".py",
   "mimetype": "text/x-python",
   "name": "python",
   "nbconvert_exporter": "python",
   "pygments_lexer": "ipython3",
   "version": "3.10.15"
  }
 },
 "nbformat": 4,
 "nbformat_minor": 5
}
